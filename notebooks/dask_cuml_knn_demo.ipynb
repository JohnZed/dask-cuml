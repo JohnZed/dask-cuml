{
 "cells": [
  {
   "cell_type": "code",
   "execution_count": 1,
   "metadata": {},
   "outputs": [],
   "source": [
    "from dask_cuda import LocalCUDACluster\n",
    "cluster = LocalCUDACluster(threads_per_worker=1)"
   ]
  },
  {
   "cell_type": "code",
   "execution_count": 2,
   "metadata": {},
   "outputs": [
    {
     "ename": "ImportError",
     "evalue": "cannot import name 'NearestNeighbors'",
     "output_type": "error",
     "traceback": [
      "\u001b[0;31m---------------------------------------------------------------------------\u001b[0m",
      "\u001b[0;31mImportError\u001b[0m                               Traceback (most recent call last)",
      "\u001b[0;32m<ipython-input-2-76bbcdbd5875>\u001b[0m in \u001b[0;36m<module>\u001b[0;34m\u001b[0m\n\u001b[1;32m     13\u001b[0m \u001b[0;32mimport\u001b[0m \u001b[0mpandas\u001b[0m\u001b[0;34m.\u001b[0m\u001b[0mtesting\u001b[0m\u001b[0;34m\u001b[0m\u001b[0m\n\u001b[1;32m     14\u001b[0m \u001b[0;34m\u001b[0m\u001b[0m\n\u001b[0;32m---> 15\u001b[0;31m \u001b[0;32mfrom\u001b[0m \u001b[0mdask_cuml\u001b[0m\u001b[0;34m.\u001b[0m\u001b[0mneighbors\u001b[0m \u001b[0;32mimport\u001b[0m \u001b[0mNearestNeighbors\u001b[0m \u001b[0;32mas\u001b[0m \u001b[0mcumlNN\u001b[0m\u001b[0;34m\u001b[0m\u001b[0m\n\u001b[0m",
      "\u001b[0;31mImportError\u001b[0m: cannot import name 'NearestNeighbors'"
     ]
    }
   ],
   "source": [
    "from dask.distributed import Client, wait\n",
    "import time\n",
    "\n",
    "import dask\n",
    "import dask_cudf\n",
    "import dask.dataframe as dd\n",
    "\n",
    "import pandas as pd\n",
    "\n",
    "import cudf\n",
    "import numpy as np\n",
    "\n",
    "import pandas.testing\n",
    "\n",
    "from dask_cuml.neighbors import NearestNeighbors as cumlNN\n"
   ]
  },
  {
   "cell_type": "code",
   "execution_count": 3,
   "metadata": {},
   "outputs": [
    {
     "data": {
      "text/html": [
       "<table style=\"border: 2px solid white;\">\n",
       "<tr>\n",
       "<td style=\"vertical-align: top; border: 0px solid white\">\n",
       "<h3>Client</h3>\n",
       "<ul>\n",
       "  <li><b>Scheduler: </b>tcp://127.0.0.1:42646\n",
       "  <li><b>Dashboard: </b><a href='http://127.0.0.1:8787/status' target='_blank'>http://127.0.0.1:8787/status</a>\n",
       "</ul>\n",
       "</td>\n",
       "<td style=\"vertical-align: top; border: 0px solid white\">\n",
       "<h3>Cluster</h3>\n",
       "<ul>\n",
       "  <li><b>Workers: </b>2</li>\n",
       "  <li><b>Cores: </b>2</li>\n",
       "  <li><b>Memory: </b>50.39 GB</li>\n",
       "</ul>\n",
       "</td>\n",
       "</tr>\n",
       "</table>"
      ],
      "text/plain": [
       "<Client: scheduler='tcp://127.0.0.1:42646' processes=2 cores=2>"
      ]
     },
     "execution_count": 3,
     "metadata": {},
     "output_type": "execute_result"
    }
   ],
   "source": [
    "client = Client(cluster)\n",
    "client"
   ]
  },
  {
   "cell_type": "code",
   "execution_count": 4,
   "metadata": {},
   "outputs": [],
   "source": [
    "def create_df(f, m, n):\n",
    "    X = np.random.rand(m, n)\n",
    "    ret = cudf.DataFrame([(i,X[:,i].astype(np.float32)) for i in range(n)], \n",
    "                        index = cudf.dataframe.RangeIndex(f*m, f*m+m, 1))\n",
    "    \n",
    "    print(str(ret))\n",
    "    return ret\n",
    "\n",
    "def get_meta(df):\n",
    "    ret =  df.iloc[:0]\n",
    "    return ret"
   ]
  },
  {
   "cell_type": "code",
   "execution_count": 5,
   "metadata": {},
   "outputs": [
    {
     "data": {
      "text/plain": [
       "dict_keys(['tcp://127.0.0.1:42524', 'tcp://127.0.0.1:44408'])"
      ]
     },
     "execution_count": 5,
     "metadata": {},
     "output_type": "execute_result"
    }
   ],
   "source": [
    "workers = client.has_what().keys()\n",
    "workers"
   ]
  },
  {
   "cell_type": "code",
   "execution_count": 6,
   "metadata": {},
   "outputs": [],
   "source": [
    "# Per gpu/worker\n",
    "train_m = 500000 \n",
    "train_n = 1000"
   ]
  },
  {
   "cell_type": "code",
   "execution_count": 7,
   "metadata": {},
   "outputs": [],
   "source": [
    "search_m = 10000\n",
    "search_k = 15"
   ]
  },
  {
   "cell_type": "code",
   "execution_count": null,
   "metadata": {},
   "outputs": [],
   "source": [
    "%%time\n",
    "\n",
    "# Create dfs on each worker (gpu)\n",
    "dfs = [client.submit(create_df, n, train_m, train_n, workers = [worker])\n",
    "       for worker, n in list(zip(workers, list(range(len(workers)))))]\n",
    "\n",
    "# Wait for completion\n",
    "wait(dfs)\n",
    "\n",
    "meta = client.submit(get_meta, dfs[0]).result()"
   ]
  },
  {
   "cell_type": "code",
   "execution_count": 9,
   "metadata": {},
   "outputs": [],
   "source": [
    "lr = cumlKNN.KNN()"
   ]
  },
  {
   "cell_type": "code",
   "execution_count": 10,
   "metadata": {},
   "outputs": [
    {
     "name": "stdout",
     "output_type": "stream",
     "text": [
      "CPU times: user 972 ms, sys: 69.9 ms, total: 1.04 s\n",
      "Wall time: 1 s\n"
     ]
    }
   ],
   "source": [
    "%%time\n",
    "X_df = dask_cudf.from_delayed(dfs, meta=meta)"
   ]
  },
  {
   "cell_type": "code",
   "execution_count": null,
   "metadata": {},
   "outputs": [
    {
     "name": "stderr",
     "output_type": "stream",
     "text": [
      "distributed.nanny - WARNING - Worker process 83328 was killed by unknown signal\n",
      "distributed.nanny - WARNING - Restarting worker\n"
     ]
    }
   ],
   "source": [
    "%%time\n",
    "lr.fit(X_df)"
   ]
  },
  {
   "cell_type": "code",
   "execution_count": 16,
   "metadata": {},
   "outputs": [
    {
     "name": "stdout",
     "output_type": "stream",
     "text": [
      "SORT: [((0, 10000), <Future: status: pending, key: get_I-c55d9feece4189b7005c32c14a7e9b15>, <Future: status: pending, key: get_D-a37e73e399e72e4c0fce423378c95dda>)]\n",
      "CPU times: user 1.78 s, sys: 118 ms, total: 1.9 s\n",
      "Wall time: 6.22 s\n"
     ]
    }
   ],
   "source": [
    "%%time\n",
    "D, I = lr.kneighbors(X_df[0:10000], search_k)"
   ]
  },
  {
   "cell_type": "code",
   "execution_count": 17,
   "metadata": {},
   "outputs": [
    {
     "name": "stdout",
     "output_type": "stream",
     "text": [
      "   0        1        2        3        4        5        6 ...       14\n",
      "0  0   940605   888960  1593386    54608   811882   383814 ...  1094105\n",
      "1  1   383203  1940109  1152970  1043562   725757  1453459 ...   677345\n",
      "2  2  1436609  1350775   850140   347937   919204  1460320 ...  1084498\n",
      "3  3  1509633   796809  1083947  1025346  1187030  1998520 ...   477976\n",
      "4  4  1983833   934084  1186005   444926  1084622  1313104 ...  1334360\n",
      "5  5  1020549  1994321  1135094  1394097   814302    77392 ...  1519412\n",
      "6  6   329919   277397   480477  1719748  1450437   759490 ...  1732677\n",
      "7  7  1937790   130727    97211  1538184   807452   501294 ...  1907852\n",
      "8  8   811021  1145868  1347154  1547789  1175363  1842441 ...   724036\n",
      "9  9  1657225  1821883   646006  1130071   857546   489549 ...   489872\n",
      "[9991 more rows]\n",
      "[7 more columns]\n"
     ]
    }
   ],
   "source": [
    "print(str(I.compute()))"
   ]
  },
  {
   "cell_type": "code",
   "execution_count": 18,
   "metadata": {},
   "outputs": [
    {
     "name": "stdout",
     "output_type": "stream",
     "text": [
      "               0          1          2          3          4          5          6 ...         14\n",
      "0            0.0  138.37921  139.42023  139.66168  139.66785  139.69376  139.94037 ...   141.6109\n",
      "1            0.0  143.39581  143.72086  144.03378  144.24677  144.48993  144.82483 ...   145.7225\n",
      "2            0.0  136.36343  136.89151  138.41376  138.52783  138.71863  139.21506 ...  139.77316\n",
      "3  0.00012207031  138.44229  139.59036  139.93246  140.09909   140.5545   140.7428 ...  141.45444\n",
      "4  0.00061035156  137.37439  138.03433  138.18713  138.42624   138.4707  138.76312 ...  140.00613\n",
      "5            0.0  138.99628   140.8153  141.18555  141.48456  141.52322  142.31622 ...  144.11554\n",
      "6  0.00030517578  136.46716   139.4671  139.82892  140.79016   141.7179    142.289 ...   142.8277\n",
      "7            0.0   138.0683  138.53616  138.81369  138.97708  139.15689  139.22995 ...  140.15619\n",
      "8            0.0  136.80609   137.6225  141.09644  141.53564    141.638  141.71655 ...  142.36172\n",
      "9   0.0004272461  139.42575  139.51944  139.90231  139.94931  140.53781  140.54971 ...  141.25494\n",
      "[9991 more rows]\n",
      "[7 more columns]\n"
     ]
    }
   ],
   "source": [
    "print(str(D.compute()))"
   ]
  },
  {
   "cell_type": "code",
   "execution_count": 23,
   "metadata": {},
   "outputs": [
    {
     "data": {
      "text/plain": [
       "array([[0.00000000e+00, 1.38379211e+02, 1.39420227e+02, ...,\n",
       "        1.41468750e+02, 1.41480530e+02, 1.41610901e+02],\n",
       "       [0.00000000e+00, 1.43395813e+02, 1.43720856e+02, ...,\n",
       "        1.45600006e+02, 1.45693787e+02, 1.45722504e+02],\n",
       "       [0.00000000e+00, 1.36363434e+02, 1.36891510e+02, ...,\n",
       "        1.39566925e+02, 1.39650665e+02, 1.39773163e+02],\n",
       "       ...,\n",
       "       [2.44140625e-04, 1.39604919e+02, 1.39730225e+02, ...,\n",
       "        1.42053223e+02, 1.42080261e+02, 1.42298889e+02],\n",
       "       [1.83105469e-04, 1.42801270e+02, 1.42812103e+02, ...,\n",
       "        1.45288818e+02, 1.45401367e+02, 1.45496124e+02],\n",
       "       [1.22070312e-04, 1.38342224e+02, 1.38752411e+02, ...,\n",
       "        1.40443146e+02, 1.40616852e+02, 1.40650391e+02]])"
      ]
     },
     "execution_count": 23,
     "metadata": {},
     "output_type": "execute_result"
    }
   ],
   "source": [
    "np.array(D.compute().as_gpu_matrix())"
   ]
  },
  {
   "cell_type": "code",
   "execution_count": null,
   "metadata": {},
   "outputs": [],
   "source": []
  }
 ],
 "metadata": {
  "kernelspec": {
   "display_name": "Python (cuml3)",
   "language": "python",
   "name": "python3"
  },
  "language_info": {
   "codemirror_mode": {
    "name": "ipython",
    "version": 3
   },
   "file_extension": ".py",
   "mimetype": "text/x-python",
   "name": "python",
   "nbconvert_exporter": "python",
   "pygments_lexer": "ipython3",
   "version": "3.6.6"
  }
 },
 "nbformat": 4,
 "nbformat_minor": 2
}
