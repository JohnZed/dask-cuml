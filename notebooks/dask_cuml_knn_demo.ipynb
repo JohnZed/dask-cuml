{
 "cells": [
  {
   "cell_type": "code",
   "execution_count": 1,
   "metadata": {},
   "outputs": [],
   "source": [
    "from dask_cuda import LocalCUDACluster\n",
    "cluster = LocalCUDACluster(threads_per_worker=1)"
   ]
  },
  {
   "cell_type": "code",
   "execution_count": 2,
   "metadata": {},
   "outputs": [],
   "source": [
    "from dask.distributed import Client, wait\n",
    "import time\n",
    "\n",
    "import dask\n",
    "import dask_cudf\n",
    "import dask.dataframe as dd\n",
    "\n",
    "import pandas as pd\n",
    "\n",
    "import cudf\n",
    "import numpy as np\n",
    "\n",
    "import pandas.testing\n",
    "\n",
    "from dask_cuml.neighbors import NearestNeighbors as cumlNN\n"
   ]
  },
  {
   "cell_type": "code",
   "execution_count": 3,
   "metadata": {},
   "outputs": [
    {
     "data": {
      "text/html": [
       "<table style=\"border: 2px solid white;\">\n",
       "<tr>\n",
       "<td style=\"vertical-align: top; border: 0px solid white\">\n",
       "<h3>Client</h3>\n",
       "<ul>\n",
       "  <li><b>Scheduler: </b>tcp://127.0.0.1:45059\n",
       "  <li><b>Dashboard: </b><a href='http://127.0.0.1:8787/status' target='_blank'>http://127.0.0.1:8787/status</a>\n",
       "</ul>\n",
       "</td>\n",
       "<td style=\"vertical-align: top; border: 0px solid white\">\n",
       "<h3>Cluster</h3>\n",
       "<ul>\n",
       "  <li><b>Workers: </b>2</li>\n",
       "  <li><b>Cores: </b>2</li>\n",
       "  <li><b>Memory: </b>50.39 GB</li>\n",
       "</ul>\n",
       "</td>\n",
       "</tr>\n",
       "</table>"
      ],
      "text/plain": [
       "<Client: scheduler='tcp://127.0.0.1:45059' processes=2 cores=2>"
      ]
     },
     "execution_count": 3,
     "metadata": {},
     "output_type": "execute_result"
    }
   ],
   "source": [
    "client = Client(cluster)\n",
    "client"
   ]
  },
  {
   "cell_type": "code",
   "execution_count": 4,
   "metadata": {},
   "outputs": [],
   "source": [
    "def create_df(f, m, n):\n",
    "    X = np.random.rand(m, n)\n",
    "    ret = cudf.DataFrame([(i,X[:,i].astype(np.float32)) for i in range(n)], \n",
    "                        index = cudf.dataframe.RangeIndex(f*m, f*m+m, 1))\n",
    "    \n",
    "    print(str(ret))\n",
    "    return ret\n",
    "\n",
    "def get_meta(df):\n",
    "    ret =  df.iloc[:0]\n",
    "    return ret"
   ]
  },
  {
   "cell_type": "code",
   "execution_count": 5,
   "metadata": {},
   "outputs": [
    {
     "data": {
      "text/plain": [
       "dict_keys(['tcp://127.0.0.1:40175', 'tcp://127.0.0.1:45830'])"
      ]
     },
     "execution_count": 5,
     "metadata": {},
     "output_type": "execute_result"
    }
   ],
   "source": [
    "workers = client.has_what().keys()\n",
    "workers"
   ]
  },
  {
   "cell_type": "code",
   "execution_count": 6,
   "metadata": {},
   "outputs": [],
   "source": [
    "# Per gpu/worker\n",
    "train_m = 10000 \n",
    "train_n = 1000"
   ]
  },
  {
   "cell_type": "code",
   "execution_count": 7,
   "metadata": {},
   "outputs": [],
   "source": [
    "search_m = 10000\n",
    "search_k = 15"
   ]
  },
  {
   "cell_type": "code",
   "execution_count": 8,
   "metadata": {},
   "outputs": [
    {
     "name": "stdout",
     "output_type": "stream",
     "text": [
      "CPU times: user 602 ms, sys: 227 ms, total: 829 ms\n",
      "Wall time: 7.4 s\n"
     ]
    }
   ],
   "source": [
    "%%time\n",
    "\n",
    "# Create dfs on each worker (gpu)\n",
    "dfs = [client.submit(create_df, n, train_m, train_n, workers = [worker])\n",
    "       for worker, n in list(zip(workers, list(range(len(workers)))))]\n",
    "\n",
    "# Wait for completion\n",
    "wait(dfs)\n",
    "\n",
    "meta = client.submit(get_meta, dfs[0]).result()"
   ]
  },
  {
   "cell_type": "code",
   "execution_count": 9,
   "metadata": {},
   "outputs": [],
   "source": [
    "lr = cumlNN()"
   ]
  },
  {
   "cell_type": "code",
   "execution_count": 10,
   "metadata": {},
   "outputs": [
    {
     "name": "stdout",
     "output_type": "stream",
     "text": [
      "CPU times: user 975 ms, sys: 98.7 ms, total: 1.07 s\n",
      "Wall time: 1.01 s\n"
     ]
    }
   ],
   "source": [
    "%%time\n",
    "X_df = dask_cudf.from_delayed(dfs, meta=meta)"
   ]
  },
  {
   "cell_type": "code",
   "execution_count": 11,
   "metadata": {},
   "outputs": [
    {
     "data": {
      "text/plain": [
       "{'create_df-0c0691e76bf8e8aefca6bc2147638b31': ('tcp://127.0.0.1:40175',),\n",
       " 'create_df-2605e0a451580da6f6b3aa8a6d0e2a19': ('tcp://127.0.0.1:45830',)}"
      ]
     },
     "execution_count": 11,
     "metadata": {},
     "output_type": "execute_result"
    }
   ],
   "source": [
    "client.who_has()"
   ]
  },
  {
   "cell_type": "code",
   "execution_count": 12,
   "metadata": {},
   "outputs": [
    {
     "name": "stdout",
     "output_type": "stream",
     "text": [
      "CPU times: user 327 ms, sys: 21.2 ms, total: 348 ms\n",
      "Wall time: 1.95 s\n"
     ]
    }
   ],
   "source": [
    "%%time\n",
    "lr.fit(X_df)"
   ]
  },
  {
   "cell_type": "code",
   "execution_count": 13,
   "metadata": {},
   "outputs": [
    {
     "name": "stdout",
     "output_type": "stream",
     "text": [
      "CPU times: user 1.61 s, sys: 140 ms, total: 1.75 s\n",
      "Wall time: 4.15 s\n"
     ]
    }
   ],
   "source": [
    "%%time\n",
    "D, I = lr.kneighbors(X_df[0:10000], search_k)"
   ]
  },
  {
   "cell_type": "code",
   "execution_count": 14,
   "metadata": {},
   "outputs": [
    {
     "name": "stdout",
     "output_type": "stream",
     "text": [
      "   0      1      2      3      4      5      6 ...     14\n",
      "0  0   9016   9405  11897   1371  13547   6468 ...  19704\n",
      "1  1  10142  10023   7644  13958  15802   3967 ...  16032\n",
      "2  2    286  18403   9083   6032   9032  10069 ...   3166\n",
      "3  3  16007   2833  13047  15114  18320    650 ...   7501\n",
      "4  4  18806  13650  15136  15123  13922  16986 ...   6567\n",
      "5  5   6808  15007   5450  15308   5794  16032 ...  12078\n",
      "6  6  19063   5271   8378  18952   2689  15615 ...  12079\n",
      "7  7  15295   3458  16853  15895   6249   8212 ...   9562\n",
      "8  8   5088  12899   6415   5032  17537  17187 ...  17811\n",
      "9  9  12551  16713   1014   6612  14545   3024 ...   1707\n",
      "[9991 more rows]\n",
      "[7 more columns]\n"
     ]
    }
   ],
   "source": [
    "print(str(I.compute()))"
   ]
  },
  {
   "cell_type": "code",
   "execution_count": 15,
   "metadata": {},
   "outputs": [
    {
     "name": "stdout",
     "output_type": "stream",
     "text": [
      "              0          1          2          3          4          5          6 ...         14\n",
      "0 0.00024414062  140.76175  143.24838  143.61707  144.56842  145.26196  145.91473 ...  147.12753\n",
      "1           0.0  143.01147   145.5264  145.59384    146.544  146.58359  146.75842 ...  148.08487\n",
      "2           0.0  146.16101   146.8891  147.22748  147.99466  148.10764  148.26846 ...  149.67548\n",
      "3           0.0  145.51044  146.15027  147.76392  148.02557   148.1903   148.7699 ...  150.17789\n",
      "4           0.0  146.84421  147.10855  147.18796  147.67963  147.73804  148.30591 ...  149.42575\n",
      "5           0.0  138.38107  139.62338  141.24573  141.67313  142.08456  142.35028 ...  143.81967\n",
      "6 6.1035156e-05   145.6785  145.69165  146.08551  146.15036  146.59009  146.96014 ...  147.98499\n",
      "7           0.0  145.36646  145.88678    146.182  146.21704  146.67093  146.93567 ...  147.65881\n",
      "8           0.0  145.90506  146.64432  146.69531  147.10669  147.43063  147.66815 ...   148.3883\n",
      "9           0.0  147.21524  147.59982  148.51065  148.78491  148.87384  148.93756 ...  150.78003\n",
      "[9991 more rows]\n",
      "[7 more columns]\n"
     ]
    }
   ],
   "source": [
    "print(str(D.compute()))"
   ]
  },
  {
   "cell_type": "code",
   "execution_count": 16,
   "metadata": {},
   "outputs": [
    {
     "data": {
      "text/plain": [
       "array([[2.44140625e-04, 1.40761749e+02, 1.43248383e+02, ...,\n",
       "        1.46407104e+02, 1.46910248e+02, 1.47127533e+02],\n",
       "       [0.00000000e+00, 1.43011475e+02, 1.45526398e+02, ...,\n",
       "        1.47958069e+02, 1.48002197e+02, 1.48084869e+02],\n",
       "       [0.00000000e+00, 1.46161011e+02, 1.46889099e+02, ...,\n",
       "        1.49300842e+02, 1.49607635e+02, 1.49675476e+02],\n",
       "       ...,\n",
       "       [0.00000000e+00, 1.46034424e+02, 1.47559448e+02, ...,\n",
       "        1.50026215e+02, 1.50099823e+02, 1.50158936e+02],\n",
       "       [6.10351562e-05, 1.46264130e+02, 1.47796509e+02, ...,\n",
       "        1.50346466e+02, 1.50458038e+02, 1.50826172e+02],\n",
       "       [0.00000000e+00, 1.43787262e+02, 1.44267120e+02, ...,\n",
       "        1.47506989e+02, 1.47538055e+02, 1.47698059e+02]])"
      ]
     },
     "execution_count": 16,
     "metadata": {},
     "output_type": "execute_result"
    }
   ],
   "source": [
    "np.array(D.compute().as_gpu_matrix())"
   ]
  }
 ],
 "metadata": {
  "kernelspec": {
   "display_name": "Python (cuml3)",
   "language": "python",
   "name": "python3"
  },
  "language_info": {
   "codemirror_mode": {
    "name": "ipython",
    "version": 3
   },
   "file_extension": ".py",
   "mimetype": "text/x-python",
   "name": "python",
   "nbconvert_exporter": "python",
   "pygments_lexer": "ipython3",
   "version": "3.6.6"
  }
 },
 "nbformat": 4,
 "nbformat_minor": 2
}
