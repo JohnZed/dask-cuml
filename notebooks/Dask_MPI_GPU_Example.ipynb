{
 "cells": [
  {
   "cell_type": "markdown",
   "metadata": {},
   "source": [
    "A simple example of starting a dask cluster with `mpirun` and having each worker in the cluster create an array, pass that array down to MPI, and scattering the arrays to each other."
   ]
  },
  {
   "cell_type": "code",
   "execution_count": 1,
   "metadata": {},
   "outputs": [],
   "source": [
    "from dask.distributed import Client, wait\n",
    "import numpy as np"
   ]
  },
  {
   "cell_type": "markdown",
   "metadata": {},
   "source": [
    "*Note:* It's important that your dask-mpi cluster has been run with `nthreads [>1]`. Otherwise the collective communications will deadlock."
   ]
  },
  {
   "cell_type": "code",
   "execution_count": 2,
   "metadata": {},
   "outputs": [],
   "source": [
    "client = Client(scheduler_file = \"cluster.json\", direct_to_workers = True)"
   ]
  },
  {
   "cell_type": "code",
   "execution_count": 3,
   "metadata": {},
   "outputs": [
    {
     "data": {
      "text/html": [
       "<table style=\"border: 2px solid white;\">\n",
       "<tr>\n",
       "<td style=\"vertical-align: top; border: 0px solid white\">\n",
       "<h3>Client</h3>\n",
       "<ul>\n",
       "  <li><b>Scheduler: </b>tcp://10.2.171.62:8786\n",
       "  <li><b>Dashboard: </b><a href='http://10.2.171.62:8787/status' target='_blank'>http://10.2.171.62:8787/status</a>\n",
       "</ul>\n",
       "</td>\n",
       "<td style=\"vertical-align: top; border: 0px solid white\">\n",
       "<h3>Cluster</h3>\n",
       "<ul>\n",
       "  <li><b>Workers: </b>4</li>\n",
       "  <li><b>Cores: </b>40</li>\n",
       "  <li><b>Memory: </b>62.99 GB</li>\n",
       "</ul>\n",
       "</td>\n",
       "</tr>\n",
       "</table>"
      ],
      "text/plain": [
       "<Client: scheduler='tcp://10.2.171.62:8786' processes=4 cores=40>"
      ]
     },
     "execution_count": 3,
     "metadata": {},
     "output_type": "execute_result"
    }
   ],
   "source": [
    "client"
   ]
  },
  {
   "cell_type": "code",
   "execution_count": 4,
   "metadata": {},
   "outputs": [],
   "source": [
    "def parse_host_port(address):\n",
    "    if '://' in address:\n",
    "        address = address.rsplit('://', 1)[1]\n",
    "    host, port = address.split(':')\n",
    "    port = int(port)\n",
    "    return host, port"
   ]
  },
  {
   "cell_type": "code",
   "execution_count": 5,
   "metadata": {},
   "outputs": [],
   "source": [
    "workers = [parse_host_port(worker) for worker in list(client.has_what().keys())]"
   ]
  },
  {
   "cell_type": "code",
   "execution_count": 6,
   "metadata": {},
   "outputs": [],
   "source": [
    "from mpi4py import MPI\n",
    "\n",
    "def get_ranks(l):\n",
    "    try:\n",
    "        comm = MPI.COMM_WORLD\n",
    "        rank = comm.Get_rank()\n",
    "        return rank\n",
    "    \n",
    "    except Exception as e:\n",
    "        print(str(e))"
   ]
  },
  {
   "cell_type": "code",
   "execution_count": 7,
   "metadata": {},
   "outputs": [],
   "source": [
    "def get_size():\n",
    "    comm = MPI.COMM_WORLD\n",
    "    return comm.Get_size()"
   ]
  },
  {
   "cell_type": "code",
   "execution_count": 8,
   "metadata": {},
   "outputs": [
    {
     "data": {
      "text/plain": [
       "4"
      ]
     },
     "execution_count": 8,
     "metadata": {},
     "output_type": "execute_result"
    }
   ],
   "source": [
    "# How many workers recognized in the MPI world?\n",
    "client.submit(get_size).result()"
   ]
  },
  {
   "cell_type": "markdown",
   "metadata": {},
   "source": [
    "### Get worker ranks"
   ]
  },
  {
   "cell_type": "code",
   "execution_count": 9,
   "metadata": {},
   "outputs": [
    {
     "data": {
      "text/plain": [
       "[(<Future: status: pending, key: get_ranks-8ae7011239528d98d0bd607693d47dd8>,\n",
       "  ('10.2.171.62', 42946)),\n",
       " (<Future: status: pending, key: get_ranks-188d7dd5a1ec5208090f7e8ee66f84e2>,\n",
       "  ('10.2.171.62', 44392)),\n",
       " (<Future: status: pending, key: get_ranks-565b9238baefa743702c96630fc21847>,\n",
       "  ('10.2.171.62', 37481)),\n",
       " (<Future: status: pending, key: get_ranks-70587cf10aeb1e8d699fb80c0e1420d9>,\n",
       "  ('10.2.171.62', 41692))]"
      ]
     },
     "execution_count": 9,
     "metadata": {},
     "output_type": "execute_result"
    }
   ],
   "source": [
    "# Sending a unique value to each worker to make sure the function gets propagated to all the workers\n",
    "pmpi = [(client.submit(get_ranks, ident, workers = [worker]), worker) for worker, ident in zip(workers, range(len(workers)))]\n",
    "pmpi"
   ]
  },
  {
   "cell_type": "code",
   "execution_count": 10,
   "metadata": {},
   "outputs": [],
   "source": [
    "ranks = dict([(r.result(), worker) for r, worker in pmpi])"
   ]
  },
  {
   "cell_type": "code",
   "execution_count": 11,
   "metadata": {},
   "outputs": [
    {
     "data": {
      "text/plain": [
       "{0: ('10.2.171.62', 44392),\n",
       " 1: ('10.2.171.62', 42946),\n",
       " 2: ('10.2.171.62', 37481),\n",
       " 3: ('10.2.171.62', 41692)}"
      ]
     },
     "execution_count": 11,
     "metadata": {},
     "output_type": "execute_result"
    }
   ],
   "source": [
    "ranks"
   ]
  },
  {
   "cell_type": "markdown",
   "metadata": {},
   "source": [
    "First let's push some data to the workers for them to send to each other."
   ]
  },
  {
   "cell_type": "code",
   "execution_count": 12,
   "metadata": {},
   "outputs": [],
   "source": [
    "def create_np(rank):\n",
    "    return np.arange(rank, rank+50)"
   ]
  },
  {
   "cell_type": "code",
   "execution_count": 13,
   "metadata": {},
   "outputs": [
    {
     "data": {
      "text/plain": [
       "dtype('int64')"
      ]
     },
     "execution_count": 13,
     "metadata": {},
     "output_type": "execute_result"
    }
   ],
   "source": [
    "np.arange(0, 50).dtype"
   ]
  },
  {
   "cell_type": "code",
   "execution_count": 14,
   "metadata": {},
   "outputs": [
    {
     "data": {
      "text/plain": [
       "DoneAndNotDoneFutures(done={<Future: status: finished, type: ndarray, key: create_np-7027859d409dba0babb66601eced7865>, <Future: status: finished, type: ndarray, key: create_np-0c6df7c379f74635e67510f65812e6af>, <Future: status: finished, type: ndarray, key: create_np-6032cc0454f287929ff590d0f8f171b1>, <Future: status: finished, type: ndarray, key: create_np-af90b4d41e9be2943e7b705118bb7a32>}, not_done=set())"
      ]
     },
     "execution_count": 14,
     "metadata": {},
     "output_type": "execute_result"
    }
   ],
   "source": [
    "res = [client.submit(create_np, rank, workers = [ranks[rank]]) for rank in ranks]\n",
    "wait(res)"
   ]
  },
  {
   "cell_type": "code",
   "execution_count": 15,
   "metadata": {},
   "outputs": [
    {
     "data": {
      "text/plain": [
       "{'create_np-0c6df7c379f74635e67510f65812e6af': ('tcp://10.2.171.62:41692',),\n",
       " 'create_np-6032cc0454f287929ff590d0f8f171b1': ('tcp://10.2.171.62:44392',),\n",
       " 'create_np-7027859d409dba0babb66601eced7865': ('tcp://10.2.171.62:37481',),\n",
       " 'create_np-af90b4d41e9be2943e7b705118bb7a32': ('tcp://10.2.171.62:42946',),\n",
       " 'get_ranks-188d7dd5a1ec5208090f7e8ee66f84e2': ('tcp://10.2.171.62:44392',),\n",
       " 'get_ranks-565b9238baefa743702c96630fc21847': ('tcp://10.2.171.62:37481',),\n",
       " 'get_ranks-70587cf10aeb1e8d699fb80c0e1420d9': ('tcp://10.2.171.62:41692',),\n",
       " 'get_ranks-8ae7011239528d98d0bd607693d47dd8': ('tcp://10.2.171.62:42946',)}"
      ]
     },
     "execution_count": 15,
     "metadata": {},
     "output_type": "execute_result"
    }
   ],
   "source": [
    "# Verify workers have generated data\n",
    "client.who_has()"
   ]
  },
  {
   "cell_type": "markdown",
   "metadata": {},
   "source": [
    "### Test point-to-point\n",
    "An initial test to prove that we can do point-to-point communications across workers"
   ]
  },
  {
   "cell_type": "code",
   "execution_count": 16,
   "metadata": {},
   "outputs": [
    {
     "data": {
      "text/plain": [
       "[1, 2, 3]"
      ]
     },
     "execution_count": 16,
     "metadata": {},
     "output_type": "execute_result"
    }
   ],
   "source": [
    "list(range(1, 4))"
   ]
  },
  {
   "cell_type": "code",
   "execution_count": 17,
   "metadata": {},
   "outputs": [],
   "source": [
    "def test_point_to_point(d):\n",
    "    comm = MPI.COMM_WORLD\n",
    "    rank = comm.Get_rank()\n",
    "    if rank == 0:\n",
    "        data = d\n",
    "        for i in range(1, 4):\n",
    "            print(\"Sending to %s\" % i)\n",
    "            req = comm.isend(data, dest=i, tag=11)\n",
    "        req.wait()\n",
    "        return \"sender\"\n",
    "    else:\n",
    "        req = comm.irecv(source=0, tag=11)\n",
    "        data = req.wait()\n",
    "        return data"
   ]
  },
  {
   "cell_type": "code",
   "execution_count": 18,
   "metadata": {},
   "outputs": [
    {
     "data": {
      "text/plain": [
       "[<Future: status: pending, key: test_point_to_point-044b1d3d332ab20a232d39c4b7db5185>,\n",
       " <Future: status: pending, key: test_point_to_point-3815ad3c65ed8305c1e37c750418d756>,\n",
       " <Future: status: pending, key: test_point_to_point-3578a2bcecc0a0c5da560f9ffa771e23>,\n",
       " <Future: status: pending, key: test_point_to_point-dfd321bed292581121ee72d08962f308>]"
      ]
     },
     "execution_count": 18,
     "metadata": {},
     "output_type": "execute_result"
    }
   ],
   "source": [
    "sender = [client.submit(test_point_to_point, future) for future in res]\n",
    "sender"
   ]
  },
  {
   "cell_type": "code",
   "execution_count": 19,
   "metadata": {},
   "outputs": [
    {
     "data": {
      "text/plain": [
       "{'create_np-0c6df7c379f74635e67510f65812e6af': ('tcp://10.2.171.62:41692',),\n",
       " 'create_np-6032cc0454f287929ff590d0f8f171b1': ('tcp://10.2.171.62:44392',),\n",
       " 'create_np-7027859d409dba0babb66601eced7865': ('tcp://10.2.171.62:37481',),\n",
       " 'create_np-af90b4d41e9be2943e7b705118bb7a32': ('tcp://10.2.171.62:42946',),\n",
       " 'get_ranks-188d7dd5a1ec5208090f7e8ee66f84e2': ('tcp://10.2.171.62:44392',),\n",
       " 'get_ranks-565b9238baefa743702c96630fc21847': ('tcp://10.2.171.62:37481',),\n",
       " 'get_ranks-70587cf10aeb1e8d699fb80c0e1420d9': ('tcp://10.2.171.62:41692',),\n",
       " 'get_ranks-8ae7011239528d98d0bd607693d47dd8': ('tcp://10.2.171.62:42946',),\n",
       " 'test_point_to_point-044b1d3d332ab20a232d39c4b7db5185': ('tcp://10.2.171.62:44392',),\n",
       " 'test_point_to_point-3578a2bcecc0a0c5da560f9ffa771e23': ('tcp://10.2.171.62:37481',),\n",
       " 'test_point_to_point-3815ad3c65ed8305c1e37c750418d756': ('tcp://10.2.171.62:42946',),\n",
       " 'test_point_to_point-dfd321bed292581121ee72d08962f308': ('tcp://10.2.171.62:41692',)}"
      ]
     },
     "execution_count": 19,
     "metadata": {},
     "output_type": "execute_result"
    }
   ],
   "source": [
    "client.who_has()"
   ]
  },
  {
   "cell_type": "code",
   "execution_count": 20,
   "metadata": {},
   "outputs": [
    {
     "data": {
      "text/plain": [
       "['sender',\n",
       " array([ 0,  1,  2,  3,  4,  5,  6,  7,  8,  9, 10, 11, 12, 13, 14, 15, 16,\n",
       "        17, 18, 19, 20, 21, 22, 23, 24, 25, 26, 27, 28, 29, 30, 31, 32, 33,\n",
       "        34, 35, 36, 37, 38, 39, 40, 41, 42, 43, 44, 45, 46, 47, 48, 49]),\n",
       " array([ 0,  1,  2,  3,  4,  5,  6,  7,  8,  9, 10, 11, 12, 13, 14, 15, 16,\n",
       "        17, 18, 19, 20, 21, 22, 23, 24, 25, 26, 27, 28, 29, 30, 31, 32, 33,\n",
       "        34, 35, 36, 37, 38, 39, 40, 41, 42, 43, 44, 45, 46, 47, 48, 49]),\n",
       " array([ 0,  1,  2,  3,  4,  5,  6,  7,  8,  9, 10, 11, 12, 13, 14, 15, 16,\n",
       "        17, 18, 19, 20, 21, 22, 23, 24, 25, 26, 27, 28, 29, 30, 31, 32, 33,\n",
       "        34, 35, 36, 37, 38, 39, 40, 41, 42, 43, 44, 45, 46, 47, 48, 49])]"
      ]
     },
     "execution_count": 20,
     "metadata": {},
     "output_type": "execute_result"
    }
   ],
   "source": [
    "client.gather(sender)"
   ]
  },
  {
   "cell_type": "markdown",
   "metadata": {},
   "source": [
    "### Test point-to-point with Numpy arrays "
   ]
  },
  {
   "cell_type": "code",
   "execution_count": 21,
   "metadata": {},
   "outputs": [],
   "source": [
    "def test_point_to_point_np(data):\n",
    "    comm = MPI.COMM_WORLD\n",
    "    rank = comm.Get_rank()\n",
    "    # automatic MPI datatype discovery\n",
    "    if rank == 0:\n",
    "        for i in range(1, 4):\n",
    "            comm.Send(data, dest=i, tag=13)\n",
    "        return data\n",
    "    else:\n",
    "        comm.Recv(data, source=0, tag=13)\n",
    "        return data"
   ]
  },
  {
   "cell_type": "code",
   "execution_count": 22,
   "metadata": {},
   "outputs": [
    {
     "data": {
      "text/plain": [
       "[<Future: status: pending, key: test_point_to_point_np-9eb9c5f92e346067a2dd7c4b20c0f531>,\n",
       " <Future: status: pending, key: test_point_to_point_np-1ed611796daa89b8c29f223443a48f10>,\n",
       " <Future: status: pending, key: test_point_to_point_np-b66084dd29685bb77656272e1fc95112>,\n",
       " <Future: status: pending, key: test_point_to_point_np-3dba5d0677d20f086b1e836c32af051d>]"
      ]
     },
     "execution_count": 22,
     "metadata": {},
     "output_type": "execute_result"
    }
   ],
   "source": [
    "nodes = [client.submit(test_point_to_point_np, future) for future in res]\n",
    "nodes"
   ]
  },
  {
   "cell_type": "code",
   "execution_count": 23,
   "metadata": {},
   "outputs": [
    {
     "data": {
      "text/plain": [
       "{'create_np-0c6df7c379f74635e67510f65812e6af': ('tcp://10.2.171.62:41692',),\n",
       " 'create_np-6032cc0454f287929ff590d0f8f171b1': ('tcp://10.2.171.62:44392',),\n",
       " 'create_np-7027859d409dba0babb66601eced7865': ('tcp://10.2.171.62:37481',),\n",
       " 'create_np-af90b4d41e9be2943e7b705118bb7a32': ('tcp://10.2.171.62:42946',),\n",
       " 'get_ranks-188d7dd5a1ec5208090f7e8ee66f84e2': ('tcp://10.2.171.62:44392',),\n",
       " 'get_ranks-565b9238baefa743702c96630fc21847': ('tcp://10.2.171.62:37481',),\n",
       " 'get_ranks-70587cf10aeb1e8d699fb80c0e1420d9': ('tcp://10.2.171.62:41692',),\n",
       " 'get_ranks-8ae7011239528d98d0bd607693d47dd8': ('tcp://10.2.171.62:42946',),\n",
       " 'test_point_to_point-044b1d3d332ab20a232d39c4b7db5185': ('tcp://10.2.171.62:44392',),\n",
       " 'test_point_to_point-3578a2bcecc0a0c5da560f9ffa771e23': ('tcp://10.2.171.62:37481',),\n",
       " 'test_point_to_point-3815ad3c65ed8305c1e37c750418d756': ('tcp://10.2.171.62:42946',),\n",
       " 'test_point_to_point-dfd321bed292581121ee72d08962f308': ('tcp://10.2.171.62:41692',),\n",
       " 'test_point_to_point_np-1ed611796daa89b8c29f223443a48f10': ('tcp://10.2.171.62:42946',),\n",
       " 'test_point_to_point_np-3dba5d0677d20f086b1e836c32af051d': ('tcp://10.2.171.62:41692',),\n",
       " 'test_point_to_point_np-9eb9c5f92e346067a2dd7c4b20c0f531': ('tcp://10.2.171.62:44392',),\n",
       " 'test_point_to_point_np-b66084dd29685bb77656272e1fc95112': ('tcp://10.2.171.62:37481',)}"
      ]
     },
     "execution_count": 23,
     "metadata": {},
     "output_type": "execute_result"
    }
   ],
   "source": [
    "client.who_has()"
   ]
  },
  {
   "cell_type": "code",
   "execution_count": 24,
   "metadata": {},
   "outputs": [
    {
     "data": {
      "text/plain": [
       "[array([ 0,  1,  2,  3,  4,  5,  6,  7,  8,  9, 10, 11, 12, 13, 14, 15, 16,\n",
       "        17, 18, 19, 20, 21, 22, 23, 24, 25, 26, 27, 28, 29, 30, 31, 32, 33,\n",
       "        34, 35, 36, 37, 38, 39, 40, 41, 42, 43, 44, 45, 46, 47, 48, 49]),\n",
       " array([ 0,  1,  2,  3,  4,  5,  6,  7,  8,  9, 10, 11, 12, 13, 14, 15, 16,\n",
       "        17, 18, 19, 20, 21, 22, 23, 24, 25, 26, 27, 28, 29, 30, 31, 32, 33,\n",
       "        34, 35, 36, 37, 38, 39, 40, 41, 42, 43, 44, 45, 46, 47, 48, 49]),\n",
       " array([ 0,  1,  2,  3,  4,  5,  6,  7,  8,  9, 10, 11, 12, 13, 14, 15, 16,\n",
       "        17, 18, 19, 20, 21, 22, 23, 24, 25, 26, 27, 28, 29, 30, 31, 32, 33,\n",
       "        34, 35, 36, 37, 38, 39, 40, 41, 42, 43, 44, 45, 46, 47, 48, 49]),\n",
       " array([ 0,  1,  2,  3,  4,  5,  6,  7,  8,  9, 10, 11, 12, 13, 14, 15, 16,\n",
       "        17, 18, 19, 20, 21, 22, 23, 24, 25, 26, 27, 28, 29, 30, 31, 32, 33,\n",
       "        34, 35, 36, 37, 38, 39, 40, 41, 42, 43, 44, 45, 46, 47, 48, 49])]"
      ]
     },
     "execution_count": 24,
     "metadata": {},
     "output_type": "execute_result"
    }
   ],
   "source": [
    "client.gather(nodes)"
   ]
  },
  {
   "cell_type": "code",
   "execution_count": 25,
   "metadata": {},
   "outputs": [
    {
     "data": {
      "text/plain": [
       "{'create_np-0c6df7c379f74635e67510f65812e6af': ('tcp://10.2.171.62:41692',),\n",
       " 'create_np-6032cc0454f287929ff590d0f8f171b1': ('tcp://10.2.171.62:44392',),\n",
       " 'create_np-7027859d409dba0babb66601eced7865': ('tcp://10.2.171.62:37481',),\n",
       " 'create_np-af90b4d41e9be2943e7b705118bb7a32': ('tcp://10.2.171.62:42946',),\n",
       " 'get_ranks-188d7dd5a1ec5208090f7e8ee66f84e2': ('tcp://10.2.171.62:44392',),\n",
       " 'get_ranks-565b9238baefa743702c96630fc21847': ('tcp://10.2.171.62:37481',),\n",
       " 'get_ranks-70587cf10aeb1e8d699fb80c0e1420d9': ('tcp://10.2.171.62:41692',),\n",
       " 'get_ranks-8ae7011239528d98d0bd607693d47dd8': ('tcp://10.2.171.62:42946',),\n",
       " 'test_point_to_point-044b1d3d332ab20a232d39c4b7db5185': ('tcp://10.2.171.62:44392',),\n",
       " 'test_point_to_point-3578a2bcecc0a0c5da560f9ffa771e23': ('tcp://10.2.171.62:37481',),\n",
       " 'test_point_to_point-3815ad3c65ed8305c1e37c750418d756': ('tcp://10.2.171.62:42946',),\n",
       " 'test_point_to_point-dfd321bed292581121ee72d08962f308': ('tcp://10.2.171.62:41692',),\n",
       " 'test_point_to_point_np-1ed611796daa89b8c29f223443a48f10': ('tcp://10.2.171.62:42946',),\n",
       " 'test_point_to_point_np-3dba5d0677d20f086b1e836c32af051d': ('tcp://10.2.171.62:41692',),\n",
       " 'test_point_to_point_np-9eb9c5f92e346067a2dd7c4b20c0f531': ('tcp://10.2.171.62:44392',),\n",
       " 'test_point_to_point_np-b66084dd29685bb77656272e1fc95112': ('tcp://10.2.171.62:37481',)}"
      ]
     },
     "execution_count": 25,
     "metadata": {},
     "output_type": "execute_result"
    }
   ],
   "source": [
    "client.who_has()"
   ]
  },
  {
   "cell_type": "markdown",
   "metadata": {},
   "source": [
    "### Test Bcast"
   ]
  },
  {
   "cell_type": "code",
   "execution_count": 26,
   "metadata": {},
   "outputs": [],
   "source": [
    "def test_broadcast(d):\n",
    "    comm = MPI.COMM_WORLD\n",
    "    rank = comm.Get_rank()\n",
    "    \n",
    "    try:\n",
    "        if rank == 0:\n",
    "            data = d\n",
    "        else:\n",
    "            data = None\n",
    "        data = comm.bcast(data, root=0)\n",
    "        return (rank, data)\n",
    "    except Exception as e:\n",
    "        print(str(e))"
   ]
  },
  {
   "cell_type": "code",
   "execution_count": 27,
   "metadata": {},
   "outputs": [
    {
     "data": {
      "text/plain": [
       "[<Future: status: pending, key: test_broadcast-0e59256712a1e2a0fff111822b056d5f>,\n",
       " <Future: status: pending, key: test_broadcast-e34eca97ccaa1f13003521202a564c48>,\n",
       " <Future: status: pending, key: test_broadcast-cf6aa79dac2d0c60af48e70f4ecd7480>,\n",
       " <Future: status: pending, key: test_broadcast-d39defed807443cec9451befedd3a50d>]"
      ]
     },
     "execution_count": 27,
     "metadata": {},
     "output_type": "execute_result"
    }
   ],
   "source": [
    "nodes = [client.submit(test_broadcast, future) for future in res]\n",
    "nodes"
   ]
  },
  {
   "cell_type": "code",
   "execution_count": 28,
   "metadata": {},
   "outputs": [
    {
     "data": {
      "text/plain": [
       "{'create_np-0c6df7c379f74635e67510f65812e6af': ('tcp://10.2.171.62:41692',),\n",
       " 'create_np-6032cc0454f287929ff590d0f8f171b1': ('tcp://10.2.171.62:44392',),\n",
       " 'create_np-7027859d409dba0babb66601eced7865': ('tcp://10.2.171.62:37481',),\n",
       " 'create_np-af90b4d41e9be2943e7b705118bb7a32': ('tcp://10.2.171.62:42946',),\n",
       " 'get_ranks-188d7dd5a1ec5208090f7e8ee66f84e2': ('tcp://10.2.171.62:44392',),\n",
       " 'get_ranks-565b9238baefa743702c96630fc21847': ('tcp://10.2.171.62:37481',),\n",
       " 'get_ranks-70587cf10aeb1e8d699fb80c0e1420d9': ('tcp://10.2.171.62:41692',),\n",
       " 'get_ranks-8ae7011239528d98d0bd607693d47dd8': ('tcp://10.2.171.62:42946',),\n",
       " 'test_broadcast-0e59256712a1e2a0fff111822b056d5f': ('tcp://10.2.171.62:44392',),\n",
       " 'test_broadcast-cf6aa79dac2d0c60af48e70f4ecd7480': ('tcp://10.2.171.62:37481',),\n",
       " 'test_broadcast-d39defed807443cec9451befedd3a50d': ('tcp://10.2.171.62:41692',),\n",
       " 'test_broadcast-e34eca97ccaa1f13003521202a564c48': ('tcp://10.2.171.62:42946',),\n",
       " 'test_point_to_point-044b1d3d332ab20a232d39c4b7db5185': ('tcp://10.2.171.62:44392',),\n",
       " 'test_point_to_point-3578a2bcecc0a0c5da560f9ffa771e23': ('tcp://10.2.171.62:37481',),\n",
       " 'test_point_to_point-3815ad3c65ed8305c1e37c750418d756': ('tcp://10.2.171.62:42946',),\n",
       " 'test_point_to_point-dfd321bed292581121ee72d08962f308': ('tcp://10.2.171.62:41692',),\n",
       " 'test_point_to_point_np-1ed611796daa89b8c29f223443a48f10': ('tcp://10.2.171.62:42946',),\n",
       " 'test_point_to_point_np-3dba5d0677d20f086b1e836c32af051d': ('tcp://10.2.171.62:41692',),\n",
       " 'test_point_to_point_np-9eb9c5f92e346067a2dd7c4b20c0f531': ('tcp://10.2.171.62:44392',),\n",
       " 'test_point_to_point_np-b66084dd29685bb77656272e1fc95112': ('tcp://10.2.171.62:37481',)}"
      ]
     },
     "execution_count": 28,
     "metadata": {},
     "output_type": "execute_result"
    }
   ],
   "source": [
    "client.who_has()"
   ]
  },
  {
   "cell_type": "code",
   "execution_count": 29,
   "metadata": {},
   "outputs": [
    {
     "data": {
      "text/plain": [
       "[<Future: status: finished, type: tuple, key: test_broadcast-0e59256712a1e2a0fff111822b056d5f>,\n",
       " <Future: status: finished, type: tuple, key: test_broadcast-e34eca97ccaa1f13003521202a564c48>,\n",
       " <Future: status: finished, type: tuple, key: test_broadcast-cf6aa79dac2d0c60af48e70f4ecd7480>,\n",
       " <Future: status: finished, type: tuple, key: test_broadcast-d39defed807443cec9451befedd3a50d>]"
      ]
     },
     "execution_count": 29,
     "metadata": {},
     "output_type": "execute_result"
    }
   ],
   "source": [
    "nodes"
   ]
  },
  {
   "cell_type": "code",
   "execution_count": 30,
   "metadata": {},
   "outputs": [
    {
     "data": {
      "text/plain": [
       "[(0, array([ 0,  1,  2,  3,  4,  5,  6,  7,  8,  9, 10, 11, 12, 13, 14, 15, 16,\n",
       "         17, 18, 19, 20, 21, 22, 23, 24, 25, 26, 27, 28, 29, 30, 31, 32, 33,\n",
       "         34, 35, 36, 37, 38, 39, 40, 41, 42, 43, 44, 45, 46, 47, 48, 49])),\n",
       " (1, array([ 0,  1,  2,  3,  4,  5,  6,  7,  8,  9, 10, 11, 12, 13, 14, 15, 16,\n",
       "         17, 18, 19, 20, 21, 22, 23, 24, 25, 26, 27, 28, 29, 30, 31, 32, 33,\n",
       "         34, 35, 36, 37, 38, 39, 40, 41, 42, 43, 44, 45, 46, 47, 48, 49])),\n",
       " (2, array([ 0,  1,  2,  3,  4,  5,  6,  7,  8,  9, 10, 11, 12, 13, 14, 15, 16,\n",
       "         17, 18, 19, 20, 21, 22, 23, 24, 25, 26, 27, 28, 29, 30, 31, 32, 33,\n",
       "         34, 35, 36, 37, 38, 39, 40, 41, 42, 43, 44, 45, 46, 47, 48, 49])),\n",
       " (3, array([ 0,  1,  2,  3,  4,  5,  6,  7,  8,  9, 10, 11, 12, 13, 14, 15, 16,\n",
       "         17, 18, 19, 20, 21, 22, 23, 24, 25, 26, 27, 28, 29, 30, 31, 32, 33,\n",
       "         34, 35, 36, 37, 38, 39, 40, 41, 42, 43, 44, 45, 46, 47, 48, 49]))]"
      ]
     },
     "execution_count": 30,
     "metadata": {},
     "output_type": "execute_result"
    }
   ],
   "source": [
    "client.gather(nodes)"
   ]
  },
  {
   "cell_type": "markdown",
   "metadata": {},
   "source": [
    "### Test Scatter"
   ]
  },
  {
   "cell_type": "code",
   "execution_count": 31,
   "metadata": {},
   "outputs": [],
   "source": [
    "def test_scatter(r):\n",
    "    comm = MPI.COMM_WORLD\n",
    "    size = comm.Get_size()\n",
    "    rank = comm.Get_rank()\n",
    "\n",
    "    sendbuf = None\n",
    "    if rank == 0:\n",
    "        sendbuf = np.empty([size, 100], dtype='i')\n",
    "        sendbuf.T[:,:] = range(size)\n",
    "    recvbuf = np.empty(100, dtype='i')\n",
    "    comm.Scatter(sendbuf, recvbuf, root=0)\n",
    "    return np.allclose(recvbuf, rank)"
   ]
  },
  {
   "cell_type": "code",
   "execution_count": 32,
   "metadata": {},
   "outputs": [
    {
     "data": {
      "text/plain": [
       "{'tcp://10.2.171.62:44392': ('test_broadcast-0e59256712a1e2a0fff111822b056d5f',\n",
       "  'test_point_to_point-044b1d3d332ab20a232d39c4b7db5185',\n",
       "  'create_np-6032cc0454f287929ff590d0f8f171b1',\n",
       "  'test_point_to_point_np-9eb9c5f92e346067a2dd7c4b20c0f531',\n",
       "  'get_ranks-188d7dd5a1ec5208090f7e8ee66f84e2')}"
      ]
     },
     "execution_count": 32,
     "metadata": {},
     "output_type": "execute_result"
    }
   ],
   "source": [
    "client.has_what(ranks[0][0] +\":\" + str(ranks[0][1]))"
   ]
  },
  {
   "cell_type": "code",
   "execution_count": 33,
   "metadata": {},
   "outputs": [
    {
     "data": {
      "text/plain": [
       "[<Future: status: pending, key: test_scatter-eac69e87ac23ddec1f4bffcd7ecf9c06>,\n",
       " <Future: status: pending, key: test_scatter-17459a8ed2dd202823e54bab2547b25f>,\n",
       " <Future: status: pending, key: test_scatter-e1d14fe85807cd436e2d69ec43f69214>,\n",
       " <Future: status: pending, key: test_scatter-4acfc261c395a7ebee8fe46b53782e80>]"
      ]
     },
     "execution_count": 33,
     "metadata": {},
     "output_type": "execute_result"
    }
   ],
   "source": [
    "nodes = [client.submit(test_scatter, future) for future in res]\n",
    "nodes"
   ]
  },
  {
   "cell_type": "code",
   "execution_count": 34,
   "metadata": {},
   "outputs": [
    {
     "data": {
      "text/plain": [
       "{'create_np-0c6df7c379f74635e67510f65812e6af': ('tcp://10.2.171.62:41692',),\n",
       " 'create_np-6032cc0454f287929ff590d0f8f171b1': ('tcp://10.2.171.62:44392',),\n",
       " 'create_np-7027859d409dba0babb66601eced7865': ('tcp://10.2.171.62:37481',),\n",
       " 'create_np-af90b4d41e9be2943e7b705118bb7a32': ('tcp://10.2.171.62:42946',),\n",
       " 'get_ranks-188d7dd5a1ec5208090f7e8ee66f84e2': ('tcp://10.2.171.62:44392',),\n",
       " 'get_ranks-565b9238baefa743702c96630fc21847': ('tcp://10.2.171.62:37481',),\n",
       " 'get_ranks-70587cf10aeb1e8d699fb80c0e1420d9': ('tcp://10.2.171.62:41692',),\n",
       " 'get_ranks-8ae7011239528d98d0bd607693d47dd8': ('tcp://10.2.171.62:42946',),\n",
       " 'test_broadcast-0e59256712a1e2a0fff111822b056d5f': ('tcp://10.2.171.62:44392',),\n",
       " 'test_broadcast-cf6aa79dac2d0c60af48e70f4ecd7480': ('tcp://10.2.171.62:37481',),\n",
       " 'test_broadcast-d39defed807443cec9451befedd3a50d': ('tcp://10.2.171.62:41692',),\n",
       " 'test_broadcast-e34eca97ccaa1f13003521202a564c48': ('tcp://10.2.171.62:42946',),\n",
       " 'test_point_to_point-044b1d3d332ab20a232d39c4b7db5185': ('tcp://10.2.171.62:44392',),\n",
       " 'test_point_to_point-3578a2bcecc0a0c5da560f9ffa771e23': ('tcp://10.2.171.62:37481',),\n",
       " 'test_point_to_point-3815ad3c65ed8305c1e37c750418d756': ('tcp://10.2.171.62:42946',),\n",
       " 'test_point_to_point-dfd321bed292581121ee72d08962f308': ('tcp://10.2.171.62:41692',),\n",
       " 'test_point_to_point_np-1ed611796daa89b8c29f223443a48f10': ('tcp://10.2.171.62:42946',),\n",
       " 'test_point_to_point_np-3dba5d0677d20f086b1e836c32af051d': ('tcp://10.2.171.62:41692',),\n",
       " 'test_point_to_point_np-9eb9c5f92e346067a2dd7c4b20c0f531': ('tcp://10.2.171.62:44392',),\n",
       " 'test_point_to_point_np-b66084dd29685bb77656272e1fc95112': ('tcp://10.2.171.62:37481',),\n",
       " 'test_scatter-17459a8ed2dd202823e54bab2547b25f': ('tcp://10.2.171.62:42946',),\n",
       " 'test_scatter-4acfc261c395a7ebee8fe46b53782e80': ('tcp://10.2.171.62:41692',),\n",
       " 'test_scatter-e1d14fe85807cd436e2d69ec43f69214': ('tcp://10.2.171.62:37481',),\n",
       " 'test_scatter-eac69e87ac23ddec1f4bffcd7ecf9c06': ('tcp://10.2.171.62:44392',)}"
      ]
     },
     "execution_count": 34,
     "metadata": {},
     "output_type": "execute_result"
    }
   ],
   "source": [
    "client.who_has()"
   ]
  },
  {
   "cell_type": "code",
   "execution_count": 35,
   "metadata": {},
   "outputs": [
    {
     "data": {
      "text/plain": [
       "[True, True, True, True]"
      ]
     },
     "execution_count": 35,
     "metadata": {},
     "output_type": "execute_result"
    }
   ],
   "source": [
    "client.gather(nodes)"
   ]
  },
  {
   "cell_type": "markdown",
   "metadata": {},
   "source": [
    "### Test Gather"
   ]
  },
  {
   "cell_type": "code",
   "execution_count": 36,
   "metadata": {},
   "outputs": [],
   "source": [
    "def test_gather(r):\n",
    "    comm = MPI.COMM_WORLD\n",
    "    size = comm.Get_size()\n",
    "    rank = comm.Get_rank()\n",
    "\n",
    "    sendbuf = np.zeros(100, dtype='i') + rank\n",
    "    recvbuf = None\n",
    "    if rank == 0:\n",
    "        recvbuf = np.empty([size, 100], dtype='i')\n",
    "    comm.Gather(sendbuf, recvbuf, root=0)\n",
    "    if rank == 0:\n",
    "        return [np.allclose(recvbuf[i,:], i) for i in range(size)]"
   ]
  },
  {
   "cell_type": "markdown",
   "metadata": {},
   "source": [
    "Notice the order of scheduling matters here. If the receiver is created after the senders, a deadlock will occur. "
   ]
  },
  {
   "cell_type": "code",
   "execution_count": 37,
   "metadata": {},
   "outputs": [],
   "source": [
    "nodes = [client.submit(test_gather, future) for future in res]"
   ]
  },
  {
   "cell_type": "code",
   "execution_count": 38,
   "metadata": {},
   "outputs": [
    {
     "data": {
      "text/plain": [
       "{'create_np-0c6df7c379f74635e67510f65812e6af': ('tcp://10.2.171.62:41692',),\n",
       " 'create_np-6032cc0454f287929ff590d0f8f171b1': ('tcp://10.2.171.62:44392',),\n",
       " 'create_np-7027859d409dba0babb66601eced7865': ('tcp://10.2.171.62:37481',),\n",
       " 'create_np-af90b4d41e9be2943e7b705118bb7a32': ('tcp://10.2.171.62:42946',),\n",
       " 'get_ranks-188d7dd5a1ec5208090f7e8ee66f84e2': ('tcp://10.2.171.62:44392',),\n",
       " 'get_ranks-565b9238baefa743702c96630fc21847': ('tcp://10.2.171.62:37481',),\n",
       " 'get_ranks-70587cf10aeb1e8d699fb80c0e1420d9': ('tcp://10.2.171.62:41692',),\n",
       " 'get_ranks-8ae7011239528d98d0bd607693d47dd8': ('tcp://10.2.171.62:42946',),\n",
       " 'test_broadcast-0e59256712a1e2a0fff111822b056d5f': ('tcp://10.2.171.62:44392',),\n",
       " 'test_broadcast-cf6aa79dac2d0c60af48e70f4ecd7480': ('tcp://10.2.171.62:37481',),\n",
       " 'test_broadcast-d39defed807443cec9451befedd3a50d': ('tcp://10.2.171.62:41692',),\n",
       " 'test_broadcast-e34eca97ccaa1f13003521202a564c48': ('tcp://10.2.171.62:42946',),\n",
       " 'test_gather-3d36ec5a397e97bf637b85d5d57b2933': ('tcp://10.2.171.62:44392',),\n",
       " 'test_gather-4200f73a47e23da40dae8205e7c12555': ('tcp://10.2.171.62:37481',),\n",
       " 'test_gather-6ab20b601d6001a17e39a396cdd259e3': ('tcp://10.2.171.62:41692',),\n",
       " 'test_gather-b5170096e51fd508e07c8d77780770f5': ('tcp://10.2.171.62:42946',),\n",
       " 'test_point_to_point-044b1d3d332ab20a232d39c4b7db5185': ('tcp://10.2.171.62:44392',),\n",
       " 'test_point_to_point-3578a2bcecc0a0c5da560f9ffa771e23': ('tcp://10.2.171.62:37481',),\n",
       " 'test_point_to_point-3815ad3c65ed8305c1e37c750418d756': ('tcp://10.2.171.62:42946',),\n",
       " 'test_point_to_point-dfd321bed292581121ee72d08962f308': ('tcp://10.2.171.62:41692',),\n",
       " 'test_point_to_point_np-1ed611796daa89b8c29f223443a48f10': ('tcp://10.2.171.62:42946',),\n",
       " 'test_point_to_point_np-3dba5d0677d20f086b1e836c32af051d': ('tcp://10.2.171.62:41692',),\n",
       " 'test_point_to_point_np-9eb9c5f92e346067a2dd7c4b20c0f531': ('tcp://10.2.171.62:44392',),\n",
       " 'test_point_to_point_np-b66084dd29685bb77656272e1fc95112': ('tcp://10.2.171.62:37481',),\n",
       " 'test_scatter-17459a8ed2dd202823e54bab2547b25f': ('tcp://10.2.171.62:42946',),\n",
       " 'test_scatter-4acfc261c395a7ebee8fe46b53782e80': ('tcp://10.2.171.62:41692',),\n",
       " 'test_scatter-e1d14fe85807cd436e2d69ec43f69214': ('tcp://10.2.171.62:37481',),\n",
       " 'test_scatter-eac69e87ac23ddec1f4bffcd7ecf9c06': ('tcp://10.2.171.62:44392',)}"
      ]
     },
     "execution_count": 38,
     "metadata": {},
     "output_type": "execute_result"
    }
   ],
   "source": [
    "client.who_has()"
   ]
  },
  {
   "cell_type": "code",
   "execution_count": 39,
   "metadata": {},
   "outputs": [
    {
     "data": {
      "text/plain": [
       "[[True, True, True, True], None, None, None]"
      ]
     },
     "execution_count": 39,
     "metadata": {},
     "output_type": "execute_result"
    }
   ],
   "source": [
    "client.gather(nodes)"
   ]
  },
  {
   "cell_type": "markdown",
   "metadata": {},
   "source": [
    "### Test AllGather"
   ]
  },
  {
   "cell_type": "code",
   "execution_count": 43,
   "metadata": {},
   "outputs": [],
   "source": [
    "def test_all_gather(d):\n",
    "    comm = MPI.COMM_WORLD\n",
    "    p = comm.Get_size()\n",
    "    xg = np.zeros(p, dtype='i')\n",
    "    comm.Allgather([d[0,0],  MPI.INT],\n",
    "                   [xg, MPI.INT])\n",
    "    return xg.sum()"
   ]
  },
  {
   "cell_type": "code",
   "execution_count": 44,
   "metadata": {},
   "outputs": [
    {
     "data": {
      "text/plain": [
       "[<Future: status: pending, key: test_all_gather-ccc7521de3ee9da88389b87a62c7ad1a>,\n",
       " <Future: status: pending, key: test_all_gather-dd2e3e02d22728e54fb2a7678c1a7281>,\n",
       " <Future: status: pending, key: test_all_gather-5cfefe15933f53649369f19140eb619b>,\n",
       " <Future: status: pending, key: test_all_gather-1830945193103a5b620d1ec173895452>]"
      ]
     },
     "execution_count": 44,
     "metadata": {},
     "output_type": "execute_result"
    }
   ],
   "source": [
    "nodes = [client.submit(test_all_gather, future) for future in res]\n",
    "nodes"
   ]
  },
  {
   "cell_type": "code",
   "execution_count": 45,
   "metadata": {},
   "outputs": [
    {
     "data": {
      "text/plain": [
       "{'create_np-0c6df7c379f74635e67510f65812e6af': ('tcp://10.2.171.62:41692',),\n",
       " 'create_np-6032cc0454f287929ff590d0f8f171b1': ('tcp://10.2.171.62:44392',),\n",
       " 'create_np-7027859d409dba0babb66601eced7865': ('tcp://10.2.171.62:37481',),\n",
       " 'create_np-af90b4d41e9be2943e7b705118bb7a32': ('tcp://10.2.171.62:42946',),\n",
       " 'get_ranks-188d7dd5a1ec5208090f7e8ee66f84e2': ('tcp://10.2.171.62:44392',),\n",
       " 'get_ranks-565b9238baefa743702c96630fc21847': ('tcp://10.2.171.62:37481',),\n",
       " 'get_ranks-70587cf10aeb1e8d699fb80c0e1420d9': ('tcp://10.2.171.62:41692',),\n",
       " 'get_ranks-8ae7011239528d98d0bd607693d47dd8': ('tcp://10.2.171.62:42946',),\n",
       " 'test_all_gather-1830945193103a5b620d1ec173895452': (),\n",
       " 'test_all_gather-2caed08191b0fc49721bf8f440ca660d': (),\n",
       " 'test_all_gather-5cfefe15933f53649369f19140eb619b': (),\n",
       " 'test_all_gather-618885619a0a4624a9c1600e7a156bca': (),\n",
       " 'test_all_gather-94bba4c9743199698e8e899e40d9e875': (),\n",
       " 'test_all_gather-ac0d998a2ec15ee2da5efd4472808ebc': (),\n",
       " 'test_all_gather-ccc7521de3ee9da88389b87a62c7ad1a': (),\n",
       " 'test_all_gather-dd2e3e02d22728e54fb2a7678c1a7281': (),\n",
       " 'test_broadcast-0e59256712a1e2a0fff111822b056d5f': ('tcp://10.2.171.62:44392',),\n",
       " 'test_broadcast-cf6aa79dac2d0c60af48e70f4ecd7480': ('tcp://10.2.171.62:37481',),\n",
       " 'test_broadcast-d39defed807443cec9451befedd3a50d': ('tcp://10.2.171.62:41692',),\n",
       " 'test_broadcast-e34eca97ccaa1f13003521202a564c48': ('tcp://10.2.171.62:42946',),\n",
       " 'test_point_to_point-044b1d3d332ab20a232d39c4b7db5185': ('tcp://10.2.171.62:44392',),\n",
       " 'test_point_to_point-3578a2bcecc0a0c5da560f9ffa771e23': ('tcp://10.2.171.62:37481',),\n",
       " 'test_point_to_point-3815ad3c65ed8305c1e37c750418d756': ('tcp://10.2.171.62:42946',),\n",
       " 'test_point_to_point-dfd321bed292581121ee72d08962f308': ('tcp://10.2.171.62:41692',),\n",
       " 'test_point_to_point_np-1ed611796daa89b8c29f223443a48f10': ('tcp://10.2.171.62:42946',),\n",
       " 'test_point_to_point_np-3dba5d0677d20f086b1e836c32af051d': ('tcp://10.2.171.62:41692',),\n",
       " 'test_point_to_point_np-9eb9c5f92e346067a2dd7c4b20c0f531': ('tcp://10.2.171.62:44392',),\n",
       " 'test_point_to_point_np-b66084dd29685bb77656272e1fc95112': ('tcp://10.2.171.62:37481',),\n",
       " 'test_scatter-17459a8ed2dd202823e54bab2547b25f': ('tcp://10.2.171.62:42946',),\n",
       " 'test_scatter-4acfc261c395a7ebee8fe46b53782e80': ('tcp://10.2.171.62:41692',),\n",
       " 'test_scatter-e1d14fe85807cd436e2d69ec43f69214': ('tcp://10.2.171.62:37481',),\n",
       " 'test_scatter-eac69e87ac23ddec1f4bffcd7ecf9c06': ('tcp://10.2.171.62:44392',)}"
      ]
     },
     "execution_count": 45,
     "metadata": {},
     "output_type": "execute_result"
    }
   ],
   "source": [
    "client.who_has()"
   ]
  },
  {
   "cell_type": "code",
   "execution_count": null,
   "metadata": {},
   "outputs": [],
   "source": []
  },
  {
   "cell_type": "code",
   "execution_count": null,
   "metadata": {},
   "outputs": [],
   "source": []
  }
 ],
 "metadata": {
  "kernelspec": {
   "display_name": "Python [conda env:cuml]",
   "language": "python",
   "name": "conda-env-cuml-py"
  },
  "language_info": {
   "codemirror_mode": {
    "name": "ipython",
    "version": 3
   },
   "file_extension": ".py",
   "mimetype": "text/x-python",
   "name": "python",
   "nbconvert_exporter": "python",
   "pygments_lexer": "ipython3",
   "version": "3.5.6"
  }
 },
 "nbformat": 4,
 "nbformat_minor": 2
}
