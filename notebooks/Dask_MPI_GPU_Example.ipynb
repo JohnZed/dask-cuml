{
 "cells": [
  {
   "cell_type": "markdown",
   "metadata": {},
   "source": [
    "A simple example of starting a dask cluster with `mpirun` and having each worker in the cluster create an array, pass that array down to MPI, and have MPI pass the arrays to each other.\n",
    "\n",
    "In order to run this notebook, you will need to run a dask-scheduler with the following command:\n",
    "`dask-scheduler --scheduler-file cluster.json`\n",
    "\n",
    "And run 4 workers inside of mpirun with the following command:\n",
    "`mpirun -np 4 dask-mpi --no-nanny --nthreads 10 --no-scheduler --scheduler-file cluster.json`"
   ]
  },
  {
   "cell_type": "code",
   "execution_count": null,
   "metadata": {},
   "outputs": [],
   "source": [
    "from dask.distributed import Client, wait\n",
    "import numpy as np"
   ]
  },
  {
   "cell_type": "markdown",
   "metadata": {},
   "source": [
    "*Note:* It's important that the workers in your dask-mpi cluster have been started with `nthreads [>1]`. Otherwise the collective communications will deadlock.\n",
    "\n",
    "Change the `scheduler_file` argument below to point to your scheduler file."
   ]
  },
  {
   "cell_type": "code",
   "execution_count": 3,
   "metadata": {},
   "outputs": [],
   "source": [
    "client = Client(scheduler_file = \"/home/cjnolet/cluster.json\", direct_to_workers = True)"
   ]
  },
  {
   "cell_type": "code",
   "execution_count": 5,
   "metadata": {},
   "outputs": [
    {
     "data": {
      "text/html": [
       "<table style=\"border: 2px solid white;\">\n",
       "<tr>\n",
       "<td style=\"vertical-align: top; border: 0px solid white\">\n",
       "<h3>Client</h3>\n",
       "<ul>\n",
       "  <li><b>Scheduler: </b>tcp://10.2.171.62:8786\n",
       "  <li><b>Dashboard: </b><a href='http://10.2.171.62:8787/status' target='_blank'>http://10.2.171.62:8787/status</a>\n",
       "</ul>\n",
       "</td>\n",
       "<td style=\"vertical-align: top; border: 0px solid white\">\n",
       "<h3>Cluster</h3>\n",
       "<ul>\n",
       "  <li><b>Workers: </b>4</li>\n",
       "  <li><b>Cores: </b>40</li>\n",
       "  <li><b>Memory: </b>62.99 GB</li>\n",
       "</ul>\n",
       "</td>\n",
       "</tr>\n",
       "</table>"
      ],
      "text/plain": [
       "<Client: scheduler='tcp://10.2.171.62:8786' processes=4 cores=40>"
      ]
     },
     "execution_count": 5,
     "metadata": {},
     "output_type": "execute_result"
    }
   ],
   "source": [
    "client"
   ]
  },
  {
   "cell_type": "code",
   "execution_count": 6,
   "metadata": {},
   "outputs": [],
   "source": [
    "def parse_host_port(address):\n",
    "    if '://' in address:\n",
    "        address = address.rsplit('://', 1)[1]\n",
    "    host, port = address.split(':')\n",
    "    port = int(port)\n",
    "    return host, port"
   ]
  },
  {
   "cell_type": "code",
   "execution_count": 7,
   "metadata": {},
   "outputs": [],
   "source": [
    "workers = [parse_host_port(worker) for worker in list(client.has_what().keys())]"
   ]
  },
  {
   "cell_type": "code",
   "execution_count": 8,
   "metadata": {},
   "outputs": [],
   "source": [
    "from mpi4py import MPI\n",
    "\n",
    "def get_ranks(l):\n",
    "    try:\n",
    "        comm = MPI.COMM_WORLD\n",
    "        rank = comm.Get_rank()\n",
    "        return rank\n",
    "    \n",
    "    except Exception as e:\n",
    "        print(str(e))"
   ]
  },
  {
   "cell_type": "code",
   "execution_count": 9,
   "metadata": {},
   "outputs": [],
   "source": [
    "def get_size():\n",
    "    comm = MPI.COMM_WORLD\n",
    "    return comm.Get_size()"
   ]
  },
  {
   "cell_type": "code",
   "execution_count": 10,
   "metadata": {},
   "outputs": [
    {
     "data": {
      "text/plain": [
       "4"
      ]
     },
     "execution_count": 10,
     "metadata": {},
     "output_type": "execute_result"
    }
   ],
   "source": [
    "# How many workers recognized in the MPI world?\n",
    "client.submit(get_size).result()"
   ]
  },
  {
   "cell_type": "markdown",
   "metadata": {},
   "source": [
    "### Get worker ranks"
   ]
  },
  {
   "cell_type": "code",
   "execution_count": 11,
   "metadata": {},
   "outputs": [
    {
     "data": {
      "text/plain": [
       "[(<Future: status: pending, key: get_ranks-c1c698d7265b3884daf93d8830905938>,\n",
       "  ('10.2.171.62', 45457)),\n",
       " (<Future: status: pending, key: get_ranks-8696fb4f9cd0ee5192b71c0e474898e4>,\n",
       "  ('10.2.171.62', 42106)),\n",
       " (<Future: status: pending, key: get_ranks-be89f0b062970fce534df6cb95cbcfa0>,\n",
       "  ('10.2.171.62', 37576)),\n",
       " (<Future: status: pending, key: get_ranks-569e64d811f8ef6822088996082d3ea1>,\n",
       "  ('10.2.171.62', 34855))]"
      ]
     },
     "execution_count": 11,
     "metadata": {},
     "output_type": "execute_result"
    }
   ],
   "source": [
    "# Sending a unique value to each worker to make sure the function gets propagated to all the workers\n",
    "pmpi = [(client.submit(get_ranks, ident, workers = [worker]), worker) for worker, ident in zip(workers, range(len(workers)))]\n",
    "pmpi"
   ]
  },
  {
   "cell_type": "code",
   "execution_count": 12,
   "metadata": {},
   "outputs": [],
   "source": [
    "ranks = dict([(r.result(), worker) for r, worker in pmpi])"
   ]
  },
  {
   "cell_type": "code",
   "execution_count": 13,
   "metadata": {},
   "outputs": [
    {
     "data": {
      "text/plain": [
       "{0: ('10.2.171.62', 42106),\n",
       " 1: ('10.2.171.62', 34855),\n",
       " 2: ('10.2.171.62', 45457),\n",
       " 3: ('10.2.171.62', 37576)}"
      ]
     },
     "execution_count": 13,
     "metadata": {},
     "output_type": "execute_result"
    }
   ],
   "source": [
    "ranks"
   ]
  },
  {
   "cell_type": "markdown",
   "metadata": {},
   "source": [
    "First let's push some data to the workers for them to send to each other."
   ]
  },
  {
   "cell_type": "code",
   "execution_count": 14,
   "metadata": {},
   "outputs": [],
   "source": [
    "def create_np(rank):\n",
    "    return np.arange(rank, rank+50)"
   ]
  },
  {
   "cell_type": "code",
   "execution_count": 15,
   "metadata": {},
   "outputs": [
    {
     "data": {
      "text/plain": [
       "dtype('int64')"
      ]
     },
     "execution_count": 15,
     "metadata": {},
     "output_type": "execute_result"
    }
   ],
   "source": [
    "np.arange(0, 50).dtype"
   ]
  },
  {
   "cell_type": "code",
   "execution_count": 16,
   "metadata": {},
   "outputs": [
    {
     "data": {
      "text/plain": [
       "DoneAndNotDoneFutures(done={<Future: status: finished, type: ndarray, key: create_np-2fb2c90159778f8dde184a06e502f581>, <Future: status: finished, type: ndarray, key: create_np-918cf2366aa5fa053ef38b999d0cbac8>, <Future: status: finished, type: ndarray, key: create_np-48ecd8dd8d9c7d3d4d428d1c8b05a8e5>, <Future: status: finished, type: ndarray, key: create_np-46fbb7eeb4cad20b72102f33b0968993>}, not_done=set())"
      ]
     },
     "execution_count": 16,
     "metadata": {},
     "output_type": "execute_result"
    }
   ],
   "source": [
    "res = [client.submit(create_np, rank, workers = [ranks[rank]]) for rank in ranks]\n",
    "wait(res)"
   ]
  },
  {
   "cell_type": "code",
   "execution_count": 17,
   "metadata": {},
   "outputs": [
    {
     "data": {
      "text/plain": [
       "{'create_np-2fb2c90159778f8dde184a06e502f581': ('tcp://10.2.171.62:37576',),\n",
       " 'create_np-46fbb7eeb4cad20b72102f33b0968993': ('tcp://10.2.171.62:45457',),\n",
       " 'create_np-48ecd8dd8d9c7d3d4d428d1c8b05a8e5': ('tcp://10.2.171.62:34855',),\n",
       " 'create_np-918cf2366aa5fa053ef38b999d0cbac8': ('tcp://10.2.171.62:42106',),\n",
       " 'get_ranks-569e64d811f8ef6822088996082d3ea1': ('tcp://10.2.171.62:34855',),\n",
       " 'get_ranks-8696fb4f9cd0ee5192b71c0e474898e4': ('tcp://10.2.171.62:42106',),\n",
       " 'get_ranks-be89f0b062970fce534df6cb95cbcfa0': ('tcp://10.2.171.62:37576',),\n",
       " 'get_ranks-c1c698d7265b3884daf93d8830905938': ('tcp://10.2.171.62:45457',)}"
      ]
     },
     "execution_count": 17,
     "metadata": {},
     "output_type": "execute_result"
    }
   ],
   "source": [
    "# Verify workers have generated data\n",
    "client.who_has()"
   ]
  },
  {
   "cell_type": "markdown",
   "metadata": {},
   "source": [
    "### Test point-to-point\n",
    "An initial test to prove that we can do point-to-point communications across workers"
   ]
  },
  {
   "cell_type": "code",
   "execution_count": 18,
   "metadata": {},
   "outputs": [
    {
     "data": {
      "text/plain": [
       "[1, 2, 3]"
      ]
     },
     "execution_count": 18,
     "metadata": {},
     "output_type": "execute_result"
    }
   ],
   "source": [
    "list(range(1, 4))"
   ]
  },
  {
   "cell_type": "code",
   "execution_count": 19,
   "metadata": {},
   "outputs": [],
   "source": [
    "def test_point_to_point(d):\n",
    "    comm = MPI.COMM_WORLD\n",
    "    rank = comm.Get_rank()\n",
    "    if rank == 0:\n",
    "        data = d\n",
    "        for i in range(1, 4):\n",
    "            print(\"Sending to %s\" % i)\n",
    "            req = comm.isend(data, dest=i, tag=11)\n",
    "        req.wait()\n",
    "        return \"sender\"\n",
    "    else:\n",
    "        req = comm.irecv(source=0, tag=11)\n",
    "        data = req.wait()\n",
    "        return data"
   ]
  },
  {
   "cell_type": "code",
   "execution_count": 20,
   "metadata": {},
   "outputs": [
    {
     "data": {
      "text/plain": [
       "[<Future: status: pending, key: test_point_to_point-1cb97e86c6e1dea824ab997523915c2c>,\n",
       " <Future: status: pending, key: test_point_to_point-6b280794ec9c352f0c5a56594041eb78>,\n",
       " <Future: status: pending, key: test_point_to_point-b4e50abc7782250bf416c4901783d9af>,\n",
       " <Future: status: pending, key: test_point_to_point-c06f983984d95bda257d3cb38e6006a1>]"
      ]
     },
     "execution_count": 20,
     "metadata": {},
     "output_type": "execute_result"
    }
   ],
   "source": [
    "sender = [client.submit(test_point_to_point, future) for future in res]\n",
    "sender"
   ]
  },
  {
   "cell_type": "code",
   "execution_count": 21,
   "metadata": {},
   "outputs": [
    {
     "data": {
      "text/plain": [
       "{'create_np-2fb2c90159778f8dde184a06e502f581': ('tcp://10.2.171.62:37576',),\n",
       " 'create_np-46fbb7eeb4cad20b72102f33b0968993': ('tcp://10.2.171.62:45457',),\n",
       " 'create_np-48ecd8dd8d9c7d3d4d428d1c8b05a8e5': ('tcp://10.2.171.62:34855',),\n",
       " 'create_np-918cf2366aa5fa053ef38b999d0cbac8': ('tcp://10.2.171.62:42106',),\n",
       " 'get_ranks-569e64d811f8ef6822088996082d3ea1': ('tcp://10.2.171.62:34855',),\n",
       " 'get_ranks-8696fb4f9cd0ee5192b71c0e474898e4': ('tcp://10.2.171.62:42106',),\n",
       " 'get_ranks-be89f0b062970fce534df6cb95cbcfa0': ('tcp://10.2.171.62:37576',),\n",
       " 'get_ranks-c1c698d7265b3884daf93d8830905938': ('tcp://10.2.171.62:45457',),\n",
       " 'test_point_to_point-1cb97e86c6e1dea824ab997523915c2c': ('tcp://10.2.171.62:42106',),\n",
       " 'test_point_to_point-6b280794ec9c352f0c5a56594041eb78': ('tcp://10.2.171.62:34855',),\n",
       " 'test_point_to_point-b4e50abc7782250bf416c4901783d9af': ('tcp://10.2.171.62:45457',),\n",
       " 'test_point_to_point-c06f983984d95bda257d3cb38e6006a1': ('tcp://10.2.171.62:37576',)}"
      ]
     },
     "execution_count": 21,
     "metadata": {},
     "output_type": "execute_result"
    }
   ],
   "source": [
    "client.who_has()"
   ]
  },
  {
   "cell_type": "code",
   "execution_count": 22,
   "metadata": {},
   "outputs": [
    {
     "data": {
      "text/plain": [
       "['sender',\n",
       " array([ 0,  1,  2,  3,  4,  5,  6,  7,  8,  9, 10, 11, 12, 13, 14, 15, 16,\n",
       "        17, 18, 19, 20, 21, 22, 23, 24, 25, 26, 27, 28, 29, 30, 31, 32, 33,\n",
       "        34, 35, 36, 37, 38, 39, 40, 41, 42, 43, 44, 45, 46, 47, 48, 49]),\n",
       " array([ 0,  1,  2,  3,  4,  5,  6,  7,  8,  9, 10, 11, 12, 13, 14, 15, 16,\n",
       "        17, 18, 19, 20, 21, 22, 23, 24, 25, 26, 27, 28, 29, 30, 31, 32, 33,\n",
       "        34, 35, 36, 37, 38, 39, 40, 41, 42, 43, 44, 45, 46, 47, 48, 49]),\n",
       " array([ 0,  1,  2,  3,  4,  5,  6,  7,  8,  9, 10, 11, 12, 13, 14, 15, 16,\n",
       "        17, 18, 19, 20, 21, 22, 23, 24, 25, 26, 27, 28, 29, 30, 31, 32, 33,\n",
       "        34, 35, 36, 37, 38, 39, 40, 41, 42, 43, 44, 45, 46, 47, 48, 49])]"
      ]
     },
     "execution_count": 22,
     "metadata": {},
     "output_type": "execute_result"
    }
   ],
   "source": [
    "client.gather(sender)"
   ]
  },
  {
   "cell_type": "markdown",
   "metadata": {},
   "source": [
    "### Test point-to-point with Numpy arrays "
   ]
  },
  {
   "cell_type": "code",
   "execution_count": 23,
   "metadata": {},
   "outputs": [],
   "source": [
    "def test_point_to_point_np(data):\n",
    "    comm = MPI.COMM_WORLD\n",
    "    rank = comm.Get_rank()\n",
    "    # automatic MPI datatype discovery\n",
    "    if rank == 0:\n",
    "        for i in range(1, 4):\n",
    "            comm.Send(data, dest=i, tag=13)\n",
    "        return data\n",
    "    else:\n",
    "        comm.Recv(data, source=0, tag=13)\n",
    "        return data"
   ]
  },
  {
   "cell_type": "code",
   "execution_count": 24,
   "metadata": {},
   "outputs": [
    {
     "data": {
      "text/plain": [
       "[<Future: status: pending, key: test_point_to_point_np-ce0113c4a9a80bc9fcd320e18c8b8524>,\n",
       " <Future: status: pending, key: test_point_to_point_np-cac317307bda26b7dea8b332919f3710>,\n",
       " <Future: status: pending, key: test_point_to_point_np-b1aef79edfd00cfb63760bc37f2cbfd7>,\n",
       " <Future: status: pending, key: test_point_to_point_np-3ec074276748f07bc003ae97765a0b0c>]"
      ]
     },
     "execution_count": 24,
     "metadata": {},
     "output_type": "execute_result"
    }
   ],
   "source": [
    "nodes = [client.submit(test_point_to_point_np, future) for future in res]\n",
    "nodes"
   ]
  },
  {
   "cell_type": "code",
   "execution_count": 25,
   "metadata": {},
   "outputs": [
    {
     "data": {
      "text/plain": [
       "{'create_np-2fb2c90159778f8dde184a06e502f581': ('tcp://10.2.171.62:37576',),\n",
       " 'create_np-46fbb7eeb4cad20b72102f33b0968993': ('tcp://10.2.171.62:45457',),\n",
       " 'create_np-48ecd8dd8d9c7d3d4d428d1c8b05a8e5': ('tcp://10.2.171.62:34855',),\n",
       " 'create_np-918cf2366aa5fa053ef38b999d0cbac8': ('tcp://10.2.171.62:42106',),\n",
       " 'get_ranks-569e64d811f8ef6822088996082d3ea1': ('tcp://10.2.171.62:34855',),\n",
       " 'get_ranks-8696fb4f9cd0ee5192b71c0e474898e4': ('tcp://10.2.171.62:42106',),\n",
       " 'get_ranks-be89f0b062970fce534df6cb95cbcfa0': ('tcp://10.2.171.62:37576',),\n",
       " 'get_ranks-c1c698d7265b3884daf93d8830905938': ('tcp://10.2.171.62:45457',),\n",
       " 'test_point_to_point-1cb97e86c6e1dea824ab997523915c2c': ('tcp://10.2.171.62:42106',),\n",
       " 'test_point_to_point-6b280794ec9c352f0c5a56594041eb78': ('tcp://10.2.171.62:34855',),\n",
       " 'test_point_to_point-b4e50abc7782250bf416c4901783d9af': ('tcp://10.2.171.62:45457',),\n",
       " 'test_point_to_point-c06f983984d95bda257d3cb38e6006a1': ('tcp://10.2.171.62:37576',),\n",
       " 'test_point_to_point_np-3ec074276748f07bc003ae97765a0b0c': ('tcp://10.2.171.62:37576',),\n",
       " 'test_point_to_point_np-b1aef79edfd00cfb63760bc37f2cbfd7': ('tcp://10.2.171.62:45457',),\n",
       " 'test_point_to_point_np-cac317307bda26b7dea8b332919f3710': ('tcp://10.2.171.62:34855',),\n",
       " 'test_point_to_point_np-ce0113c4a9a80bc9fcd320e18c8b8524': ('tcp://10.2.171.62:42106',)}"
      ]
     },
     "execution_count": 25,
     "metadata": {},
     "output_type": "execute_result"
    }
   ],
   "source": [
    "client.who_has()"
   ]
  },
  {
   "cell_type": "code",
   "execution_count": 26,
   "metadata": {},
   "outputs": [
    {
     "data": {
      "text/plain": [
       "[array([ 0,  1,  2,  3,  4,  5,  6,  7,  8,  9, 10, 11, 12, 13, 14, 15, 16,\n",
       "        17, 18, 19, 20, 21, 22, 23, 24, 25, 26, 27, 28, 29, 30, 31, 32, 33,\n",
       "        34, 35, 36, 37, 38, 39, 40, 41, 42, 43, 44, 45, 46, 47, 48, 49]),\n",
       " array([ 0,  1,  2,  3,  4,  5,  6,  7,  8,  9, 10, 11, 12, 13, 14, 15, 16,\n",
       "        17, 18, 19, 20, 21, 22, 23, 24, 25, 26, 27, 28, 29, 30, 31, 32, 33,\n",
       "        34, 35, 36, 37, 38, 39, 40, 41, 42, 43, 44, 45, 46, 47, 48, 49]),\n",
       " array([ 0,  1,  2,  3,  4,  5,  6,  7,  8,  9, 10, 11, 12, 13, 14, 15, 16,\n",
       "        17, 18, 19, 20, 21, 22, 23, 24, 25, 26, 27, 28, 29, 30, 31, 32, 33,\n",
       "        34, 35, 36, 37, 38, 39, 40, 41, 42, 43, 44, 45, 46, 47, 48, 49]),\n",
       " array([ 0,  1,  2,  3,  4,  5,  6,  7,  8,  9, 10, 11, 12, 13, 14, 15, 16,\n",
       "        17, 18, 19, 20, 21, 22, 23, 24, 25, 26, 27, 28, 29, 30, 31, 32, 33,\n",
       "        34, 35, 36, 37, 38, 39, 40, 41, 42, 43, 44, 45, 46, 47, 48, 49])]"
      ]
     },
     "execution_count": 26,
     "metadata": {},
     "output_type": "execute_result"
    }
   ],
   "source": [
    "client.gather(nodes)"
   ]
  },
  {
   "cell_type": "code",
   "execution_count": 27,
   "metadata": {},
   "outputs": [
    {
     "data": {
      "text/plain": [
       "{'create_np-2fb2c90159778f8dde184a06e502f581': ('tcp://10.2.171.62:37576',),\n",
       " 'create_np-46fbb7eeb4cad20b72102f33b0968993': ('tcp://10.2.171.62:45457',),\n",
       " 'create_np-48ecd8dd8d9c7d3d4d428d1c8b05a8e5': ('tcp://10.2.171.62:34855',),\n",
       " 'create_np-918cf2366aa5fa053ef38b999d0cbac8': ('tcp://10.2.171.62:42106',),\n",
       " 'get_ranks-569e64d811f8ef6822088996082d3ea1': ('tcp://10.2.171.62:34855',),\n",
       " 'get_ranks-8696fb4f9cd0ee5192b71c0e474898e4': ('tcp://10.2.171.62:42106',),\n",
       " 'get_ranks-be89f0b062970fce534df6cb95cbcfa0': ('tcp://10.2.171.62:37576',),\n",
       " 'get_ranks-c1c698d7265b3884daf93d8830905938': ('tcp://10.2.171.62:45457',),\n",
       " 'test_point_to_point-1cb97e86c6e1dea824ab997523915c2c': ('tcp://10.2.171.62:42106',),\n",
       " 'test_point_to_point-6b280794ec9c352f0c5a56594041eb78': ('tcp://10.2.171.62:34855',),\n",
       " 'test_point_to_point-b4e50abc7782250bf416c4901783d9af': ('tcp://10.2.171.62:45457',),\n",
       " 'test_point_to_point-c06f983984d95bda257d3cb38e6006a1': ('tcp://10.2.171.62:37576',),\n",
       " 'test_point_to_point_np-3ec074276748f07bc003ae97765a0b0c': ('tcp://10.2.171.62:37576',),\n",
       " 'test_point_to_point_np-b1aef79edfd00cfb63760bc37f2cbfd7': ('tcp://10.2.171.62:45457',),\n",
       " 'test_point_to_point_np-cac317307bda26b7dea8b332919f3710': ('tcp://10.2.171.62:34855',),\n",
       " 'test_point_to_point_np-ce0113c4a9a80bc9fcd320e18c8b8524': ('tcp://10.2.171.62:42106',)}"
      ]
     },
     "execution_count": 27,
     "metadata": {},
     "output_type": "execute_result"
    }
   ],
   "source": [
    "client.who_has()"
   ]
  },
  {
   "cell_type": "markdown",
   "metadata": {},
   "source": [
    "### Test Bcast"
   ]
  },
  {
   "cell_type": "code",
   "execution_count": 28,
   "metadata": {},
   "outputs": [],
   "source": [
    "def test_broadcast(d):\n",
    "    comm = MPI.COMM_WORLD\n",
    "    rank = comm.Get_rank()\n",
    "    \n",
    "    try:\n",
    "        if rank == 0:\n",
    "            data = d\n",
    "        else:\n",
    "            data = None\n",
    "        data = comm.bcast(data, root=0)\n",
    "        return (rank, data)\n",
    "    except Exception as e:\n",
    "        print(str(e))"
   ]
  },
  {
   "cell_type": "code",
   "execution_count": 29,
   "metadata": {},
   "outputs": [
    {
     "data": {
      "text/plain": [
       "[<Future: status: pending, key: test_broadcast-1cbbffb737592187644be238ee1f9682>,\n",
       " <Future: status: pending, key: test_broadcast-75274ada5e6cad21e25e663bf5f43f73>,\n",
       " <Future: status: pending, key: test_broadcast-bc708cdf85134882200b5f61b831f396>,\n",
       " <Future: status: pending, key: test_broadcast-72a1a64a7cc2cc322af24bb9d307b35d>]"
      ]
     },
     "execution_count": 29,
     "metadata": {},
     "output_type": "execute_result"
    }
   ],
   "source": [
    "nodes = [client.submit(test_broadcast, future) for future in res]\n",
    "nodes"
   ]
  },
  {
   "cell_type": "code",
   "execution_count": 30,
   "metadata": {},
   "outputs": [
    {
     "data": {
      "text/plain": [
       "{'create_np-2fb2c90159778f8dde184a06e502f581': ('tcp://10.2.171.62:37576',),\n",
       " 'create_np-46fbb7eeb4cad20b72102f33b0968993': ('tcp://10.2.171.62:45457',),\n",
       " 'create_np-48ecd8dd8d9c7d3d4d428d1c8b05a8e5': ('tcp://10.2.171.62:34855',),\n",
       " 'create_np-918cf2366aa5fa053ef38b999d0cbac8': ('tcp://10.2.171.62:42106',),\n",
       " 'get_ranks-569e64d811f8ef6822088996082d3ea1': ('tcp://10.2.171.62:34855',),\n",
       " 'get_ranks-8696fb4f9cd0ee5192b71c0e474898e4': ('tcp://10.2.171.62:42106',),\n",
       " 'get_ranks-be89f0b062970fce534df6cb95cbcfa0': ('tcp://10.2.171.62:37576',),\n",
       " 'get_ranks-c1c698d7265b3884daf93d8830905938': ('tcp://10.2.171.62:45457',),\n",
       " 'test_broadcast-1cbbffb737592187644be238ee1f9682': ('tcp://10.2.171.62:42106',),\n",
       " 'test_broadcast-72a1a64a7cc2cc322af24bb9d307b35d': ('tcp://10.2.171.62:37576',),\n",
       " 'test_broadcast-75274ada5e6cad21e25e663bf5f43f73': ('tcp://10.2.171.62:34855',),\n",
       " 'test_broadcast-bc708cdf85134882200b5f61b831f396': ('tcp://10.2.171.62:45457',),\n",
       " 'test_point_to_point-1cb97e86c6e1dea824ab997523915c2c': ('tcp://10.2.171.62:42106',),\n",
       " 'test_point_to_point-6b280794ec9c352f0c5a56594041eb78': ('tcp://10.2.171.62:34855',),\n",
       " 'test_point_to_point-b4e50abc7782250bf416c4901783d9af': ('tcp://10.2.171.62:45457',),\n",
       " 'test_point_to_point-c06f983984d95bda257d3cb38e6006a1': ('tcp://10.2.171.62:37576',),\n",
       " 'test_point_to_point_np-3ec074276748f07bc003ae97765a0b0c': ('tcp://10.2.171.62:37576',),\n",
       " 'test_point_to_point_np-b1aef79edfd00cfb63760bc37f2cbfd7': ('tcp://10.2.171.62:45457',),\n",
       " 'test_point_to_point_np-cac317307bda26b7dea8b332919f3710': ('tcp://10.2.171.62:34855',),\n",
       " 'test_point_to_point_np-ce0113c4a9a80bc9fcd320e18c8b8524': ('tcp://10.2.171.62:42106',)}"
      ]
     },
     "execution_count": 30,
     "metadata": {},
     "output_type": "execute_result"
    }
   ],
   "source": [
    "client.who_has()"
   ]
  },
  {
   "cell_type": "code",
   "execution_count": 31,
   "metadata": {},
   "outputs": [
    {
     "data": {
      "text/plain": [
       "[<Future: status: finished, type: tuple, key: test_broadcast-1cbbffb737592187644be238ee1f9682>,\n",
       " <Future: status: finished, type: tuple, key: test_broadcast-75274ada5e6cad21e25e663bf5f43f73>,\n",
       " <Future: status: finished, type: tuple, key: test_broadcast-bc708cdf85134882200b5f61b831f396>,\n",
       " <Future: status: finished, type: tuple, key: test_broadcast-72a1a64a7cc2cc322af24bb9d307b35d>]"
      ]
     },
     "execution_count": 31,
     "metadata": {},
     "output_type": "execute_result"
    }
   ],
   "source": [
    "nodes"
   ]
  },
  {
   "cell_type": "code",
   "execution_count": 32,
   "metadata": {},
   "outputs": [
    {
     "data": {
      "text/plain": [
       "[(0, array([ 0,  1,  2,  3,  4,  5,  6,  7,  8,  9, 10, 11, 12, 13, 14, 15, 16,\n",
       "         17, 18, 19, 20, 21, 22, 23, 24, 25, 26, 27, 28, 29, 30, 31, 32, 33,\n",
       "         34, 35, 36, 37, 38, 39, 40, 41, 42, 43, 44, 45, 46, 47, 48, 49])),\n",
       " (1, array([ 0,  1,  2,  3,  4,  5,  6,  7,  8,  9, 10, 11, 12, 13, 14, 15, 16,\n",
       "         17, 18, 19, 20, 21, 22, 23, 24, 25, 26, 27, 28, 29, 30, 31, 32, 33,\n",
       "         34, 35, 36, 37, 38, 39, 40, 41, 42, 43, 44, 45, 46, 47, 48, 49])),\n",
       " (2, array([ 0,  1,  2,  3,  4,  5,  6,  7,  8,  9, 10, 11, 12, 13, 14, 15, 16,\n",
       "         17, 18, 19, 20, 21, 22, 23, 24, 25, 26, 27, 28, 29, 30, 31, 32, 33,\n",
       "         34, 35, 36, 37, 38, 39, 40, 41, 42, 43, 44, 45, 46, 47, 48, 49])),\n",
       " (3, array([ 0,  1,  2,  3,  4,  5,  6,  7,  8,  9, 10, 11, 12, 13, 14, 15, 16,\n",
       "         17, 18, 19, 20, 21, 22, 23, 24, 25, 26, 27, 28, 29, 30, 31, 32, 33,\n",
       "         34, 35, 36, 37, 38, 39, 40, 41, 42, 43, 44, 45, 46, 47, 48, 49]))]"
      ]
     },
     "execution_count": 32,
     "metadata": {},
     "output_type": "execute_result"
    }
   ],
   "source": [
    "client.gather(nodes)"
   ]
  },
  {
   "cell_type": "markdown",
   "metadata": {},
   "source": [
    "### Test Scatter"
   ]
  },
  {
   "cell_type": "code",
   "execution_count": 33,
   "metadata": {},
   "outputs": [],
   "source": [
    "def test_scatter(r):\n",
    "    comm = MPI.COMM_WORLD\n",
    "    size = comm.Get_size()\n",
    "    rank = comm.Get_rank()\n",
    "\n",
    "    sendbuf = None\n",
    "    if rank == 0:\n",
    "        sendbuf = np.empty([size, 100], dtype='i')\n",
    "        sendbuf.T[:,:] = range(size)\n",
    "    recvbuf = np.empty(100, dtype='i')\n",
    "    comm.Scatter(sendbuf, recvbuf, root=0)\n",
    "    return np.allclose(recvbuf, rank)"
   ]
  },
  {
   "cell_type": "code",
   "execution_count": 34,
   "metadata": {},
   "outputs": [
    {
     "data": {
      "text/plain": [
       "{'tcp://10.2.171.62:42106': ('get_ranks-8696fb4f9cd0ee5192b71c0e474898e4',\n",
       "  'test_broadcast-1cbbffb737592187644be238ee1f9682',\n",
       "  'test_point_to_point_np-ce0113c4a9a80bc9fcd320e18c8b8524',\n",
       "  'create_np-918cf2366aa5fa053ef38b999d0cbac8',\n",
       "  'test_point_to_point-1cb97e86c6e1dea824ab997523915c2c')}"
      ]
     },
     "execution_count": 34,
     "metadata": {},
     "output_type": "execute_result"
    }
   ],
   "source": [
    "client.has_what(ranks[0][0] +\":\" + str(ranks[0][1]))"
   ]
  },
  {
   "cell_type": "code",
   "execution_count": 35,
   "metadata": {},
   "outputs": [
    {
     "data": {
      "text/plain": [
       "[<Future: status: pending, key: test_scatter-d2ea151622695e6d528fc27bbb7e921d>,\n",
       " <Future: status: pending, key: test_scatter-cb2a3035a1594d48ff346cd16b966518>,\n",
       " <Future: status: pending, key: test_scatter-990d0309c449b19b33b32dea93757292>,\n",
       " <Future: status: pending, key: test_scatter-168027cba826239020ed323925faa983>]"
      ]
     },
     "execution_count": 35,
     "metadata": {},
     "output_type": "execute_result"
    }
   ],
   "source": [
    "nodes = [client.submit(test_scatter, future) for future in res]\n",
    "nodes"
   ]
  },
  {
   "cell_type": "code",
   "execution_count": 36,
   "metadata": {},
   "outputs": [
    {
     "data": {
      "text/plain": [
       "{'create_np-2fb2c90159778f8dde184a06e502f581': ('tcp://10.2.171.62:37576',),\n",
       " 'create_np-46fbb7eeb4cad20b72102f33b0968993': ('tcp://10.2.171.62:45457',),\n",
       " 'create_np-48ecd8dd8d9c7d3d4d428d1c8b05a8e5': ('tcp://10.2.171.62:34855',),\n",
       " 'create_np-918cf2366aa5fa053ef38b999d0cbac8': ('tcp://10.2.171.62:42106',),\n",
       " 'get_ranks-569e64d811f8ef6822088996082d3ea1': ('tcp://10.2.171.62:34855',),\n",
       " 'get_ranks-8696fb4f9cd0ee5192b71c0e474898e4': ('tcp://10.2.171.62:42106',),\n",
       " 'get_ranks-be89f0b062970fce534df6cb95cbcfa0': ('tcp://10.2.171.62:37576',),\n",
       " 'get_ranks-c1c698d7265b3884daf93d8830905938': ('tcp://10.2.171.62:45457',),\n",
       " 'test_broadcast-1cbbffb737592187644be238ee1f9682': ('tcp://10.2.171.62:42106',),\n",
       " 'test_broadcast-72a1a64a7cc2cc322af24bb9d307b35d': ('tcp://10.2.171.62:37576',),\n",
       " 'test_broadcast-75274ada5e6cad21e25e663bf5f43f73': ('tcp://10.2.171.62:34855',),\n",
       " 'test_broadcast-bc708cdf85134882200b5f61b831f396': ('tcp://10.2.171.62:45457',),\n",
       " 'test_point_to_point-1cb97e86c6e1dea824ab997523915c2c': ('tcp://10.2.171.62:42106',),\n",
       " 'test_point_to_point-6b280794ec9c352f0c5a56594041eb78': ('tcp://10.2.171.62:34855',),\n",
       " 'test_point_to_point-b4e50abc7782250bf416c4901783d9af': ('tcp://10.2.171.62:45457',),\n",
       " 'test_point_to_point-c06f983984d95bda257d3cb38e6006a1': ('tcp://10.2.171.62:37576',),\n",
       " 'test_point_to_point_np-3ec074276748f07bc003ae97765a0b0c': ('tcp://10.2.171.62:37576',),\n",
       " 'test_point_to_point_np-b1aef79edfd00cfb63760bc37f2cbfd7': ('tcp://10.2.171.62:45457',),\n",
       " 'test_point_to_point_np-cac317307bda26b7dea8b332919f3710': ('tcp://10.2.171.62:34855',),\n",
       " 'test_point_to_point_np-ce0113c4a9a80bc9fcd320e18c8b8524': ('tcp://10.2.171.62:42106',),\n",
       " 'test_scatter-168027cba826239020ed323925faa983': ('tcp://10.2.171.62:37576',),\n",
       " 'test_scatter-990d0309c449b19b33b32dea93757292': ('tcp://10.2.171.62:45457',),\n",
       " 'test_scatter-cb2a3035a1594d48ff346cd16b966518': ('tcp://10.2.171.62:34855',),\n",
       " 'test_scatter-d2ea151622695e6d528fc27bbb7e921d': ('tcp://10.2.171.62:42106',)}"
      ]
     },
     "execution_count": 36,
     "metadata": {},
     "output_type": "execute_result"
    }
   ],
   "source": [
    "client.who_has()"
   ]
  },
  {
   "cell_type": "code",
   "execution_count": 37,
   "metadata": {},
   "outputs": [
    {
     "data": {
      "text/plain": [
       "[True, True, True, True]"
      ]
     },
     "execution_count": 37,
     "metadata": {},
     "output_type": "execute_result"
    }
   ],
   "source": [
    "client.gather(nodes)"
   ]
  },
  {
   "cell_type": "markdown",
   "metadata": {},
   "source": [
    "### Test Gather"
   ]
  },
  {
   "cell_type": "code",
   "execution_count": 38,
   "metadata": {},
   "outputs": [],
   "source": [
    "def test_gather(r):\n",
    "    comm = MPI.COMM_WORLD\n",
    "    size = comm.Get_size()\n",
    "    rank = comm.Get_rank()\n",
    "\n",
    "    sendbuf = np.zeros(100, dtype='i') + rank\n",
    "    recvbuf = None\n",
    "    if rank == 0:\n",
    "        recvbuf = np.empty([size, 100], dtype='i')\n",
    "    comm.Gather(sendbuf, recvbuf, root=0)\n",
    "    if rank == 0:\n",
    "        return [np.allclose(recvbuf[i,:], i) for i in range(size)]"
   ]
  },
  {
   "cell_type": "code",
   "execution_count": 39,
   "metadata": {},
   "outputs": [],
   "source": [
    "nodes = [client.submit(test_gather, future) for future in res]"
   ]
  },
  {
   "cell_type": "code",
   "execution_count": 40,
   "metadata": {},
   "outputs": [
    {
     "data": {
      "text/plain": [
       "{'create_np-2fb2c90159778f8dde184a06e502f581': ('tcp://10.2.171.62:37576',),\n",
       " 'create_np-46fbb7eeb4cad20b72102f33b0968993': ('tcp://10.2.171.62:45457',),\n",
       " 'create_np-48ecd8dd8d9c7d3d4d428d1c8b05a8e5': ('tcp://10.2.171.62:34855',),\n",
       " 'create_np-918cf2366aa5fa053ef38b999d0cbac8': ('tcp://10.2.171.62:42106',),\n",
       " 'get_ranks-569e64d811f8ef6822088996082d3ea1': ('tcp://10.2.171.62:34855',),\n",
       " 'get_ranks-8696fb4f9cd0ee5192b71c0e474898e4': ('tcp://10.2.171.62:42106',),\n",
       " 'get_ranks-be89f0b062970fce534df6cb95cbcfa0': ('tcp://10.2.171.62:37576',),\n",
       " 'get_ranks-c1c698d7265b3884daf93d8830905938': ('tcp://10.2.171.62:45457',),\n",
       " 'test_broadcast-1cbbffb737592187644be238ee1f9682': ('tcp://10.2.171.62:42106',),\n",
       " 'test_broadcast-72a1a64a7cc2cc322af24bb9d307b35d': ('tcp://10.2.171.62:37576',),\n",
       " 'test_broadcast-75274ada5e6cad21e25e663bf5f43f73': ('tcp://10.2.171.62:34855',),\n",
       " 'test_broadcast-bc708cdf85134882200b5f61b831f396': ('tcp://10.2.171.62:45457',),\n",
       " 'test_gather-8599c37950f5c75361442b368ed038f1': ('tcp://10.2.171.62:34855',),\n",
       " 'test_gather-d0054ee478dbc68fdc632a254cbf76c5': ('tcp://10.2.171.62:37576',),\n",
       " 'test_gather-ecee8ddd3974c034cfd0b13473082fb5': ('tcp://10.2.171.62:45457',),\n",
       " 'test_gather-f74ebc74b3919067d121f37c80f0dad9': ('tcp://10.2.171.62:42106',),\n",
       " 'test_point_to_point-1cb97e86c6e1dea824ab997523915c2c': ('tcp://10.2.171.62:42106',),\n",
       " 'test_point_to_point-6b280794ec9c352f0c5a56594041eb78': ('tcp://10.2.171.62:34855',),\n",
       " 'test_point_to_point-b4e50abc7782250bf416c4901783d9af': ('tcp://10.2.171.62:45457',),\n",
       " 'test_point_to_point-c06f983984d95bda257d3cb38e6006a1': ('tcp://10.2.171.62:37576',),\n",
       " 'test_point_to_point_np-3ec074276748f07bc003ae97765a0b0c': ('tcp://10.2.171.62:37576',),\n",
       " 'test_point_to_point_np-b1aef79edfd00cfb63760bc37f2cbfd7': ('tcp://10.2.171.62:45457',),\n",
       " 'test_point_to_point_np-cac317307bda26b7dea8b332919f3710': ('tcp://10.2.171.62:34855',),\n",
       " 'test_point_to_point_np-ce0113c4a9a80bc9fcd320e18c8b8524': ('tcp://10.2.171.62:42106',),\n",
       " 'test_scatter-168027cba826239020ed323925faa983': ('tcp://10.2.171.62:37576',),\n",
       " 'test_scatter-990d0309c449b19b33b32dea93757292': ('tcp://10.2.171.62:45457',),\n",
       " 'test_scatter-cb2a3035a1594d48ff346cd16b966518': ('tcp://10.2.171.62:34855',),\n",
       " 'test_scatter-d2ea151622695e6d528fc27bbb7e921d': ('tcp://10.2.171.62:42106',)}"
      ]
     },
     "execution_count": 40,
     "metadata": {},
     "output_type": "execute_result"
    }
   ],
   "source": [
    "client.who_has()"
   ]
  },
  {
   "cell_type": "code",
   "execution_count": 41,
   "metadata": {},
   "outputs": [
    {
     "data": {
      "text/plain": [
       "[[True, True, True, True], None, None, None]"
      ]
     },
     "execution_count": 41,
     "metadata": {},
     "output_type": "execute_result"
    }
   ],
   "source": [
    "client.gather(nodes)"
   ]
  },
  {
   "cell_type": "markdown",
   "metadata": {},
   "source": [
    "### Test AllGather\n",
    "Note: This does not work yet. "
   ]
  },
  {
   "cell_type": "code",
   "execution_count": 45,
   "metadata": {},
   "outputs": [],
   "source": [
    "def test_all_gather(d):\n",
    "    comm = MPI.COMM_WORLD\n",
    "    p = comm.Get_size()\n",
    "    xg = np.zeros(p, dtype='i')\n",
    "    comm.Allgather([d,  MPI.INT],\n",
    "                   [xg, MPI.INT])\n",
    "    return xg.sum()"
   ]
  },
  {
   "cell_type": "code",
   "execution_count": 46,
   "metadata": {},
   "outputs": [
    {
     "data": {
      "text/plain": [
       "[<Future: status: pending, key: test_all_gather-f0b4f90d54366638fe82552e1c6cb330>,\n",
       " <Future: status: pending, key: test_all_gather-319b3e011b203f6f3012b80fbfb2945c>,\n",
       " <Future: status: pending, key: test_all_gather-83d403ee55128d10214f50bce2f05dd2>,\n",
       " <Future: status: pending, key: test_all_gather-b871de4323ca00b45f5fbfac64806228>]"
      ]
     },
     "execution_count": 46,
     "metadata": {},
     "output_type": "execute_result"
    }
   ],
   "source": [
    "nodes = [client.submit(test_all_gather, future) for future in res]\n",
    "nodes"
   ]
  },
  {
   "cell_type": "code",
   "execution_count": 47,
   "metadata": {},
   "outputs": [
    {
     "data": {
      "text/plain": [
       "{'create_np-2fb2c90159778f8dde184a06e502f581': ('tcp://10.2.171.62:37576',),\n",
       " 'create_np-46fbb7eeb4cad20b72102f33b0968993': ('tcp://10.2.171.62:45457',),\n",
       " 'create_np-48ecd8dd8d9c7d3d4d428d1c8b05a8e5': ('tcp://10.2.171.62:34855',),\n",
       " 'create_np-918cf2366aa5fa053ef38b999d0cbac8': ('tcp://10.2.171.62:42106',),\n",
       " 'get_ranks-569e64d811f8ef6822088996082d3ea1': ('tcp://10.2.171.62:34855',),\n",
       " 'get_ranks-8696fb4f9cd0ee5192b71c0e474898e4': ('tcp://10.2.171.62:42106',),\n",
       " 'get_ranks-be89f0b062970fce534df6cb95cbcfa0': ('tcp://10.2.171.62:37576',),\n",
       " 'get_ranks-c1c698d7265b3884daf93d8830905938': ('tcp://10.2.171.62:45457',),\n",
       " 'test_all_gather-319b3e011b203f6f3012b80fbfb2945c': (),\n",
       " 'test_all_gather-4a14b909ef55da823143616a3d8623f4': (),\n",
       " 'test_all_gather-83d403ee55128d10214f50bce2f05dd2': (),\n",
       " 'test_all_gather-92f6219f562c034883f3d6a93176df79': (),\n",
       " 'test_all_gather-b871de4323ca00b45f5fbfac64806228': (),\n",
       " 'test_all_gather-d585c8614048777355829e9cb6617e50': (),\n",
       " 'test_all_gather-e80f88737d301e6f87b3201525cefded': (),\n",
       " 'test_all_gather-f0b4f90d54366638fe82552e1c6cb330': (),\n",
       " 'test_broadcast-1cbbffb737592187644be238ee1f9682': ('tcp://10.2.171.62:42106',),\n",
       " 'test_broadcast-72a1a64a7cc2cc322af24bb9d307b35d': ('tcp://10.2.171.62:37576',),\n",
       " 'test_broadcast-75274ada5e6cad21e25e663bf5f43f73': ('tcp://10.2.171.62:34855',),\n",
       " 'test_broadcast-bc708cdf85134882200b5f61b831f396': ('tcp://10.2.171.62:45457',),\n",
       " 'test_point_to_point-1cb97e86c6e1dea824ab997523915c2c': ('tcp://10.2.171.62:42106',),\n",
       " 'test_point_to_point-6b280794ec9c352f0c5a56594041eb78': ('tcp://10.2.171.62:34855',),\n",
       " 'test_point_to_point-b4e50abc7782250bf416c4901783d9af': ('tcp://10.2.171.62:45457',),\n",
       " 'test_point_to_point-c06f983984d95bda257d3cb38e6006a1': ('tcp://10.2.171.62:37576',),\n",
       " 'test_point_to_point_np-3ec074276748f07bc003ae97765a0b0c': ('tcp://10.2.171.62:37576',),\n",
       " 'test_point_to_point_np-b1aef79edfd00cfb63760bc37f2cbfd7': ('tcp://10.2.171.62:45457',),\n",
       " 'test_point_to_point_np-cac317307bda26b7dea8b332919f3710': ('tcp://10.2.171.62:34855',),\n",
       " 'test_point_to_point_np-ce0113c4a9a80bc9fcd320e18c8b8524': ('tcp://10.2.171.62:42106',),\n",
       " 'test_scatter-168027cba826239020ed323925faa983': ('tcp://10.2.171.62:37576',),\n",
       " 'test_scatter-990d0309c449b19b33b32dea93757292': ('tcp://10.2.171.62:45457',),\n",
       " 'test_scatter-cb2a3035a1594d48ff346cd16b966518': ('tcp://10.2.171.62:34855',),\n",
       " 'test_scatter-d2ea151622695e6d528fc27bbb7e921d': ('tcp://10.2.171.62:42106',)}"
      ]
     },
     "execution_count": 47,
     "metadata": {},
     "output_type": "execute_result"
    }
   ],
   "source": [
    "client.who_has()"
   ]
  },
  {
   "cell_type": "code",
   "execution_count": null,
   "metadata": {},
   "outputs": [],
   "source": []
  },
  {
   "cell_type": "code",
   "execution_count": null,
   "metadata": {},
   "outputs": [],
   "source": []
  }
 ],
 "metadata": {
  "kernelspec": {
   "display_name": "Python (cuml)",
   "language": "python",
   "name": "cuml"
  },
  "language_info": {
   "codemirror_mode": {
    "name": "ipython",
    "version": 3
   },
   "file_extension": ".py",
   "mimetype": "text/x-python",
   "name": "python",
   "nbconvert_exporter": "python",
   "pygments_lexer": "ipython3",
   "version": "3.5.6"
  }
 },
 "nbformat": 4,
 "nbformat_minor": 2
}
