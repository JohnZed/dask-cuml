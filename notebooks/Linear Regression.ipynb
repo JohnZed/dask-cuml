{
 "cells": [
  {
   "cell_type": "code",
   "execution_count": 1,
   "metadata": {},
   "outputs": [],
   "source": [
    "import cudf\n",
    "import dask_cudf"
   ]
  },
  {
   "cell_type": "code",
   "execution_count": 2,
   "metadata": {},
   "outputs": [],
   "source": [
    "import dask_cudf"
   ]
  },
  {
   "cell_type": "code",
   "execution_count": 3,
   "metadata": {},
   "outputs": [],
   "source": [
    "from dask_cuml.linear_regression import LinearRegression"
   ]
  },
  {
   "cell_type": "markdown",
   "metadata": {},
   "source": [
    "In order to run this notebook, you will first need to run a dask scheduler and number of dask workers:\n",
    "- Run a dask scheduler with:  ```dask-scheduler --scheduler-file=cluster.json```\n",
    "- Run N dask workers with:  ```mpirun -np N dask-mpi --no-nanny --nthreads 10 --no-scheduler --scheduler-file cluster.json```"
   ]
  },
  {
   "cell_type": "code",
   "execution_count": 4,
   "metadata": {},
   "outputs": [],
   "source": [
    "from dask.distributed import Client\n",
    "client = Client(scheduler_file = \"../cluster.json\")"
   ]
  },
  {
   "cell_type": "code",
   "execution_count": 5,
   "metadata": {},
   "outputs": [
    {
     "data": {
      "text/html": [
       "<table style=\"border: 2px solid white;\">\n",
       "<tr>\n",
       "<td style=\"vertical-align: top; border: 0px solid white\">\n",
       "<h3>Client</h3>\n",
       "<ul>\n",
       "  <li><b>Scheduler: </b>tcp://10.2.163.179:8786\n",
       "  <li><b>Dashboard: </b><a href='http://10.2.163.179:8787/status' target='_blank'>http://10.2.163.179:8787/status</a>\n",
       "</ul>\n",
       "</td>\n",
       "<td style=\"vertical-align: top; border: 0px solid white\">\n",
       "<h3>Cluster</h3>\n",
       "<ul>\n",
       "  <li><b>Workers: </b>2</li>\n",
       "  <li><b>Cores: </b>20</li>\n",
       "  <li><b>Memory: </b>31.50 GB</li>\n",
       "</ul>\n",
       "</td>\n",
       "</tr>\n",
       "</table>"
      ],
      "text/plain": [
       "<Client: scheduler='tcp://10.2.163.179:8786' processes=2 cores=20>"
      ]
     },
     "execution_count": 5,
     "metadata": {},
     "output_type": "execute_result"
    }
   ],
   "source": [
    "client"
   ]
  },
  {
   "cell_type": "code",
   "execution_count": 6,
   "metadata": {},
   "outputs": [],
   "source": [
    "X = cudf.DataFrame([('a', [0, 1, 2, 3, 4])])\n",
    "y = cudf.DataFrame([('y', [0, 1, 2, 3, 4])])"
   ]
  },
  {
   "cell_type": "code",
   "execution_count": 7,
   "metadata": {},
   "outputs": [],
   "source": [
    "X_df = dask_cudf.from_cudf(X, chunksize=1).persist()\n",
    "y_df = dask_cudf.from_cudf(y, chunksize=1).persist()"
   ]
  },
  {
   "cell_type": "code",
   "execution_count": 8,
   "metadata": {},
   "outputs": [],
   "source": [
    "lr = LinearRegression()"
   ]
  },
  {
   "cell_type": "code",
   "execution_count": 9,
   "metadata": {},
   "outputs": [
    {
     "name": "stdout",
     "output_type": "stream",
     "text": [
      "Co-locating data!\n",
      "{'tuple-a3be3e45-4248-4e2a-8717-01598f4a7ba1': ('tcp://10.2.163.179:34098',), 'tuple-1306dd7a-78a3-468d-b18c-953cb1c51bb4': ('tcp://10.2.163.179:34098',), 'tuple-0c38a4af-dc70-4fae-a619-f5a2c88e3da8': ('tcp://10.2.163.179:37491',), 'tuple-b1b43988-a40e-4292-96c8-74ed577b79db': ('tcp://10.2.163.179:37491',)}\n",
      "('tcp://10.2.163.179:34098',)\n",
      "('tcp://10.2.163.179:34098',)\n",
      "('tcp://10.2.163.179:37491',)\n",
      "('tcp://10.2.163.179:37491',)\n",
      "{('10.2.163.179', 37491): [<Future: status: finished, type: tuple, key: tuple-0c38a4af-dc70-4fae-a619-f5a2c88e3da8>, <Future: status: finished, type: tuple, key: tuple-b1b43988-a40e-4292-96c8-74ed577b79db>], ('10.2.163.179', 34098): [<Future: status: finished, type: tuple, key: tuple-a3be3e45-4248-4e2a-8717-01598f4a7ba1>, <Future: status: finished, type: tuple, key: tuple-1306dd7a-78a3-468d-b18c-953cb1c51bb4>]}\n"
     ]
    }
   ],
   "source": [
    "res = lr.fit(X_df, y_df)"
   ]
  },
  {
   "cell_type": "markdown",
   "metadata": {},
   "source": [
    "res"
   ]
  },
  {
   "cell_type": "code",
   "execution_count": 10,
   "metadata": {},
   "outputs": [
    {
     "data": {
      "text/plain": [
       "[(('10.2.163.179', 37491),\n",
       "  <Future: status: finished, type: Series, key: _fit-94a5a6d59855078e5baaf13fc30d0c06>),\n",
       " (('10.2.163.179', 34098),\n",
       "  <Future: status: finished, type: Series, key: _fit-352e025f6a9c73ea08226fe0a661007d>)]"
      ]
     },
     "execution_count": 10,
     "metadata": {},
     "output_type": "execute_result"
    }
   ],
   "source": [
    "lr.coeffs"
   ]
  },
  {
   "cell_type": "code",
   "execution_count": 11,
   "metadata": {},
   "outputs": [
    {
     "name": "stdout",
     "output_type": "stream",
     "text": [
      "KEY_TO_PART_DICT: {\"('from_cudf-00afc57931174001ac0cb2911e9eeda8', 0)\": Delayed(('from_cudf-00afc57931174001ac0cb2911e9eeda8', 0)), \"('from_cudf-00afc57931174001ac0cb2911e9eeda8', 3)\": Delayed(('from_cudf-00afc57931174001ac0cb2911e9eeda8', 3)), \"('from_cudf-00afc57931174001ac0cb2911e9eeda8', 2)\": Delayed(('from_cudf-00afc57931174001ac0cb2911e9eeda8', 2)), \"('from_cudf-00afc57931174001ac0cb2911e9eeda8', 1)\": Delayed(('from_cudf-00afc57931174001ac0cb2911e9eeda8', 1))}\n",
      "CEFFS: [(('10.2.163.179', 37491), <Future: status: finished, type: Series, key: _fit-94a5a6d59855078e5baaf13fc30d0c06>), (('10.2.163.179', 34098), <Future: status: finished, type: Series, key: _fit-352e025f6a9c73ea08226fe0a661007d>)]\n",
      "{\"('from_cudf-00afc57931174001ac0cb2911e9eeda8', 0)\": ('tcp://10.2.163.179:34098',), 'tuple-a3be3e45-4248-4e2a-8717-01598f4a7ba1': (), '_fit-352e025f6a9c73ea08226fe0a661007d': ('tcp://10.2.163.179:34098',), \"('from_cudf-790820b8fa824ab1b97ad938b10bd5cd', 0)\": ('tcp://10.2.163.179:34098',), \"('from_cudf-00afc57931174001ac0cb2911e9eeda8', 1)\": ('tcp://10.2.163.179:37491',), \"('from_cudf-790820b8fa824ab1b97ad938b10bd5cd', 2)\": ('tcp://10.2.163.179:34098',), \"('from_cudf-00afc57931174001ac0cb2911e9eeda8', 2)\": ('tcp://10.2.163.179:34098',), '_fit-94a5a6d59855078e5baaf13fc30d0c06': ('tcp://10.2.163.179:37491',), \"('from_cudf-790820b8fa824ab1b97ad938b10bd5cd', 3)\": ('tcp://10.2.163.179:37491',), \"('from_cudf-790820b8fa824ab1b97ad938b10bd5cd', 1)\": ('tcp://10.2.163.179:37491',), \"('from_cudf-00afc57931174001ac0cb2911e9eeda8', 3)\": ('tcp://10.2.163.179:37491',), 'tuple-1306dd7a-78a3-468d-b18c-953cb1c51bb4': (), 'tuple-0c38a4af-dc70-4fae-a619-f5a2c88e3da8': (), 'tuple-b1b43988-a40e-4292-96c8-74ed577b79db': ()}\n",
      "COEFF KEYS: [<Future: status: finished, type: Series, key: _fit-94a5a6d59855078e5baaf13fc30d0c06>, <Future: status: finished, type: Series, key: _fit-352e025f6a9c73ea08226fe0a661007d>]\n",
      "WHO HAS: {'_fit-352e025f6a9c73ea08226fe0a661007d': ('tcp://10.2.163.179:34098',), '_fit-94a5a6d59855078e5baaf13fc30d0c06': ('tcp://10.2.163.179:37491',)}\n",
      "{'_fit-352e025f6a9c73ea08226fe0a661007d': <Future: status: finished, type: Series, key: _fit-352e025f6a9c73ea08226fe0a661007d>, '_fit-94a5a6d59855078e5baaf13fc30d0c06': <Future: status: finished, type: Series, key: _fit-94a5a6d59855078e5baaf13fc30d0c06>}\n",
      "_fit-352e025f6a9c73ea08226fe0a661007d\n",
      "_fit-94a5a6d59855078e5baaf13fc30d0c06\n",
      "[(('10.2.163.179', 34098), <Future: status: pending, key: to_gpu_array-52fbbeb46c102267d6755a0f7d31f6dd>), (('10.2.163.179', 37491), <Future: status: pending, key: to_gpu_array-da6f3f72ea7ee51b8b0754dcdba5f21c>)]\n",
      "WORKER_PARTS: {('10.2.163.179', 37491): [Delayed(('from_cudf-00afc57931174001ac0cb2911e9eeda8', 3)), Delayed(('from_cudf-00afc57931174001ac0cb2911e9eeda8', 1))], ('10.2.163.179', 34098): [Delayed(('from_cudf-00afc57931174001ac0cb2911e9eeda8', 0)), Delayed(('from_cudf-00afc57931174001ac0cb2911e9eeda8', 2))]}\n",
      "RES: [<Future: status: finished, type: tuple, key: _predict_on_worker-b66e1296830782b2ba72a87c016713cb>, <Future: status: finished, type: tuple, key: _predict_on_worker-144952f44bce793f39a84fe737df215e>]\n",
      "RETURN: [<Future: status: pending, key: get_result-804e0da221ee2bfe1d08626bcc0ea178>, <Future: status: pending, key: get_result-c98cdd0808a0280e92710f9c00bc5ee1>]\n",
      "RETURN: [<Future: status: finished, type: Series, key: get_result-804e0da221ee2bfe1d08626bcc0ea178>, <Future: status: finished, type: Series, key: get_result-c98cdd0808a0280e92710f9c00bc5ee1>]\n"
     ]
    }
   ],
   "source": [
    "g = lr.predict(X_df)"
   ]
  },
  {
   "cell_type": "code",
   "execution_count": 12,
   "metadata": {},
   "outputs": [
    {
     "data": {
      "text/plain": [
       "tornado.gen.Return([<Future: status: finished, type: Series, key: get_result-804e0da221ee2bfe1d08626bcc0ea178>,\n",
       "                    <Future: status: finished, type: Series, key: get_result-c98cdd0808a0280e92710f9c00bc5ee1>])"
      ]
     },
     "execution_count": 12,
     "metadata": {},
     "output_type": "execute_result"
    }
   ],
   "source": [
    "g"
   ]
  },
  {
   "cell_type": "code",
   "execution_count": null,
   "metadata": {},
   "outputs": [],
   "source": []
  },
  {
   "cell_type": "code",
   "execution_count": null,
   "metadata": {},
   "outputs": [],
   "source": []
  },
  {
   "cell_type": "code",
   "execution_count": null,
   "metadata": {},
   "outputs": [],
   "source": []
  }
 ],
 "metadata": {
  "kernelspec": {
   "display_name": "Python (cuml)",
   "language": "python",
   "name": "cuml"
  },
  "language_info": {
   "codemirror_mode": {
    "name": "ipython",
    "version": 3
   },
   "file_extension": ".py",
   "mimetype": "text/x-python",
   "name": "python",
   "nbconvert_exporter": "python",
   "pygments_lexer": "ipython3",
   "version": "3.5.6"
  }
 },
 "nbformat": 4,
 "nbformat_minor": 2
}
