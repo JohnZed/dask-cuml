{
 "cells": [
  {
   "cell_type": "code",
   "execution_count": 1,
   "metadata": {},
   "outputs": [],
   "source": []
  },
  {
   "cell_type": "markdown",
   "metadata": {},
   "source": [
    "In order to run this notebook, you will first need to run a dask scheduler and number of dask workers:\n",
    "- Run a dask scheduler with:  ```dask-scheduler --scheduler-file=cluster.json```\n",
    "- Run N dask workers with:  ```mpirun -np N dask-mpi --no-nanny --nthreads 10 --no-scheduler --scheduler-file cluster.json```"
   ]
  },
  {
   "cell_type": "code",
   "execution_count": 1,
   "metadata": {},
   "outputs": [],
   "source": [
    "from dask.distributed import Client\n"
   ]
  },
  {
   "cell_type": "code",
   "execution_count": 2,
   "metadata": {},
   "outputs": [],
   "source": [
    "# Run this if you want to run a cluster internally\n",
    "\n",
    "# from dask_cuda import LocalCUDACluster\n",
    "# cluster = LocalCUDACluster(threads_per_worker = 1)\n",
    "\n",
    "# client = Client(cluster)\n",
    "# client"
   ]
  },
  {
   "cell_type": "code",
   "execution_count": 3,
   "metadata": {},
   "outputs": [],
   "source": [
    "# Run this if you are using an MPI-based cluster\n",
    "client = Client(scheduler_file=\"cluster.json\")"
   ]
  },
  {
   "cell_type": "code",
   "execution_count": 4,
   "metadata": {},
   "outputs": [],
   "source": [
    "\n",
    "devs = [0, 1]\n",
    "workers = list(client.has_what().keys())\n",
    "worker_devs = workers[0:min(len(devs), len(workers))]"
   ]
  },
  {
   "cell_type": "code",
   "execution_count": null,
   "metadata": {},
   "outputs": [],
   "source": []
  },
  {
   "cell_type": "code",
   "execution_count": 5,
   "metadata": {},
   "outputs": [],
   "source": [
    "def set_visible(i, n):\n",
    "    import os\n",
    "    all_devices = list(range(n))\n",
    "    vd = \",\".join(map(str, all_devices[i:] + all_devices[:i]))\n",
    "    print(str(vd))\n",
    "    print(\"Selecting Device : \"  + str(i))\n",
    "    os.environ[\"CUDA_VISIBLE_DEVICES\"] = vd\n",
    "    \n",
    "    import numba.cuda\n",
    "    print(\"Cur device: \" + str(numba.cuda.get_current_device().id))\n",
    "    \n",
    "dev_assigned = [client.submit(set_visible, dev, len(devs), workers = [worker]) for dev, worker in zip(devs, worker_devs)]"
   ]
  },
  {
   "cell_type": "code",
   "execution_count": 6,
   "metadata": {},
   "outputs": [],
   "source": [
    "import cudf\n",
    "import dask_cudf\n",
    "import numba.cuda\n",
    "from dask_cuml.linear_regression import LinearRegression"
   ]
  },
  {
   "cell_type": "code",
   "execution_count": 7,
   "metadata": {},
   "outputs": [
    {
     "name": "stdout",
     "output_type": "stream",
     "text": [
      "[<Future: status: finished, type: NoneType, key: set_visible-8e4386533916266bf607bb3518c945d4>, <Future: status: finished, type: NoneType, key: set_visible-2202c4a38e62dd9f3d1ca93dd67fd403>]\n"
     ]
    }
   ],
   "source": [
    "print(str(dev_assigned))"
   ]
  },
  {
   "cell_type": "code",
   "execution_count": 8,
   "metadata": {},
   "outputs": [],
   "source": [
    "import pandas as pd\n",
    "\n",
    "X = cudf.DataFrame([('a', [0, 1, 2, 3, 4])])\n",
    "y = cudf.Series([0, 1, 2, 3, 4])\n"
   ]
  },
  {
   "cell_type": "code",
   "execution_count": 9,
   "metadata": {},
   "outputs": [],
   "source": [
    "X_df = dask_cudf.from_cudf(X, chunksize=1).persist()\n",
    "y_df = dask_cudf.from_cudf(y, chunksize=1).persist()"
   ]
  },
  {
   "cell_type": "code",
   "execution_count": 10,
   "metadata": {},
   "outputs": [
    {
     "data": {
      "text/plain": [
       "{\"('from_cudf-751bbd7c13a7491ea1843aaec30aada5', 3)\": ('tcp://10.2.166.167:32914',),\n",
       " \"('from_cudf-751bbd7c13a7491ea1843aaec30aada5', 0)\": ('tcp://10.2.166.167:32914',),\n",
       " \"('from_cudf-751bbd7c13a7491ea1843aaec30aada5', 2)\": ('tcp://10.2.166.167:32914',),\n",
       " \"('from_cudf-751bbd7c13a7491ea1843aaec30aada5', 1)\": ('tcp://10.2.166.167:32914',),\n",
       " 'set_visible-8e4386533916266bf607bb3518c945d4': ('tcp://10.2.166.167:32914',),\n",
       " 'set_visible-2202c4a38e62dd9f3d1ca93dd67fd403': ('tcp://10.2.166.167:46333',),\n",
       " \"('from_cudf-a39ddd2795dd4791af5723a98609e1ed', 0)\": ('tcp://10.2.166.167:32914',),\n",
       " \"('from_cudf-a39ddd2795dd4791af5723a98609e1ed', 2)\": ('tcp://10.2.166.167:32914',),\n",
       " \"('from_cudf-a39ddd2795dd4791af5723a98609e1ed', 3)\": (),\n",
       " \"('from_cudf-a39ddd2795dd4791af5723a98609e1ed', 1)\": (),\n",
       " \"('from_cudf-d91b39c7838a4d24a07560970ef72ea8', 0)\": (),\n",
       " \"('from_cudf-d91b39c7838a4d24a07560970ef72ea8', 3)\": (),\n",
       " \"('from_cudf-d91b39c7838a4d24a07560970ef72ea8', 2)\": (),\n",
       " \"('from_cudf-d91b39c7838a4d24a07560970ef72ea8', 1)\": ()}"
      ]
     },
     "execution_count": 10,
     "metadata": {},
     "output_type": "execute_result"
    }
   ],
   "source": [
    "client.who_has()"
   ]
  },
  {
   "cell_type": "code",
   "execution_count": 11,
   "metadata": {},
   "outputs": [
    {
     "data": {
      "text/plain": [
       "[<Future: status: pending, key: print_device-bc85a57a3c65c69c64903296b87e790c>,\n",
       " <Future: status: pending, key: print_device-c7097b39de14ba717dd60f9893f36409>,\n",
       " <Future: status: pending, key: print_device-9beccb8719a3ea53f75f7ecf09eaefc9>,\n",
       " <Future: status: pending, key: print_device-75c7d9d2286c9bc862b969b29b508c33>]"
      ]
     },
     "execution_count": 11,
     "metadata": {},
     "output_type": "execute_result"
    }
   ],
   "source": [
    "import numba.cuda\n",
    "import cuml\n",
    "\n",
    "def print_device(arr):\n",
    "    \n",
    "    import os\n",
    "    dev = arr.compute().as_gpu_matrix(order=\"F\")\n",
    "    \n",
    "    print(\"CUDA_VISIBLE_DEVICES: \"+ str(os.environ[\"CUDA_VISIBLE_DEVICES\"]))\n",
    "    print(\"ARRAY: \"+ str(dev))\n",
    "    print(\"CUR DEVICE: \" + str(numba.cuda.get_current_device().id))\n",
    "    print(\"Pointer Device: \"  + str(cuml.device_of_ptr(dev)))\n",
    "    \n",
    "[client.submit(print_device, part) for part in X_df.to_delayed()]"
   ]
  },
  {
   "cell_type": "markdown",
   "metadata": {},
   "source": [
    "Set each worker to host dfs on a different device. \n",
    "\n",
    "__Note__: You can ignore this if you started your workers with \"CUDA_VISIBLE_DEVICE\" already"
   ]
  },
  {
   "cell_type": "code",
   "execution_count": 12,
   "metadata": {},
   "outputs": [
    {
     "data": {
      "text/plain": [
       "{\"('from_cudf-751bbd7c13a7491ea1843aaec30aada5', 3)\": ('tcp://10.2.166.167:32914',),\n",
       " \"('from_cudf-751bbd7c13a7491ea1843aaec30aada5', 0)\": ('tcp://10.2.166.167:32914',),\n",
       " \"('from_cudf-751bbd7c13a7491ea1843aaec30aada5', 2)\": ('tcp://10.2.166.167:32914',),\n",
       " \"('from_cudf-751bbd7c13a7491ea1843aaec30aada5', 1)\": ('tcp://10.2.166.167:32914',),\n",
       " 'set_visible-8e4386533916266bf607bb3518c945d4': ('tcp://10.2.166.167:32914',),\n",
       " 'set_visible-2202c4a38e62dd9f3d1ca93dd67fd403': ('tcp://10.2.166.167:46333',),\n",
       " \"('from_cudf-a39ddd2795dd4791af5723a98609e1ed', 0)\": ('tcp://10.2.166.167:32914',),\n",
       " \"('from_cudf-a39ddd2795dd4791af5723a98609e1ed', 2)\": ('tcp://10.2.166.167:32914',),\n",
       " \"('from_cudf-a39ddd2795dd4791af5723a98609e1ed', 3)\": ('tcp://10.2.166.167:46333',),\n",
       " \"('from_cudf-a39ddd2795dd4791af5723a98609e1ed', 1)\": ('tcp://10.2.166.167:46333',),\n",
       " \"('from_cudf-d91b39c7838a4d24a07560970ef72ea8', 0)\": ('tcp://10.2.166.167:32914',),\n",
       " \"('from_cudf-d91b39c7838a4d24a07560970ef72ea8', 3)\": ('tcp://10.2.166.167:46333',),\n",
       " \"('from_cudf-d91b39c7838a4d24a07560970ef72ea8', 2)\": ('tcp://10.2.166.167:32914',),\n",
       " \"('from_cudf-d91b39c7838a4d24a07560970ef72ea8', 1)\": ('tcp://10.2.166.167:46333',),\n",
       " 'print_device-bc85a57a3c65c69c64903296b87e790c': ('tcp://10.2.166.167:32914',),\n",
       " 'print_device-c7097b39de14ba717dd60f9893f36409': ('tcp://10.2.166.167:46333',),\n",
       " 'print_device-9beccb8719a3ea53f75f7ecf09eaefc9': ('tcp://10.2.166.167:32914',),\n",
       " 'print_device-75c7d9d2286c9bc862b969b29b508c33': ('tcp://10.2.166.167:46333',)}"
      ]
     },
     "execution_count": 12,
     "metadata": {},
     "output_type": "execute_result"
    }
   ],
   "source": [
    "client.who_has()"
   ]
  },
  {
   "cell_type": "code",
   "execution_count": 13,
   "metadata": {},
   "outputs": [],
   "source": [
    "lr = LinearRegression()"
   ]
  },
  {
   "cell_type": "code",
   "execution_count": 14,
   "metadata": {},
   "outputs": [
    {
     "name": "stdout",
     "output_type": "stream",
     "text": [
      "input_devarrays: [(('10.2.166.167', 46333), <Future: status: finished, type: tuple, key: inputs_to_device_arrays-13afd9fa21a01c81ef6cba9436e73ac2>), (('10.2.166.167', 32914), <Future: status: finished, type: tuple, key: inputs_to_device_arrays-08705425368b280de70a3f6f65244ad2>)]\n",
      "exec_node: ('10.2.166.167', 46333)\n",
      "ipc_handles: [<Future: status: pending, key: get_input_ipc_handles-36da53a2e4ad3cf988c4ef4097966343>]\n",
      "raw_arrays: [<Future: status: finished, type: tuple, key: inputs_to_device_arrays-13afd9fa21a01c81ef6cba9436e73ac2>]\n",
      "COEFS: (('10.2.166.167', 46333), <Future: status: pending, key: extract_part-7501b3b7cace05bc9aa8eb3b54255ea4>)\n",
      "INTER: <Future: status: pending, key: extract_part-2fc7dbe0923f0381dfb372b1d17ab749>\n",
      "RES: <Future: status: pending, key: extract_part-2fc7dbe0923f0381dfb372b1d17ab749>\n"
     ]
    }
   ],
   "source": [
    "res = lr.fit(X_df, y_df)"
   ]
  },
  {
   "cell_type": "markdown",
   "metadata": {},
   "source": [
    "res"
   ]
  },
  {
   "cell_type": "code",
   "execution_count": 15,
   "metadata": {},
   "outputs": [
    {
     "data": {
      "text/plain": [
       "5"
      ]
     },
     "execution_count": 15,
     "metadata": {},
     "output_type": "execute_result"
    }
   ],
   "source": [
    "lr.intercept_.result()"
   ]
  },
  {
   "cell_type": "code",
   "execution_count": 16,
   "metadata": {},
   "outputs": [
    {
     "data": {
      "text/plain": [
       "{\"('from_cudf-751bbd7c13a7491ea1843aaec30aada5', 3)\": ('tcp://10.2.166.167:32914',),\n",
       " \"('from_cudf-751bbd7c13a7491ea1843aaec30aada5', 0)\": ('tcp://10.2.166.167:32914',),\n",
       " \"('from_cudf-751bbd7c13a7491ea1843aaec30aada5', 2)\": ('tcp://10.2.166.167:32914',),\n",
       " \"('from_cudf-751bbd7c13a7491ea1843aaec30aada5', 1)\": ('tcp://10.2.166.167:32914',),\n",
       " 'set_visible-8e4386533916266bf607bb3518c945d4': ('tcp://10.2.166.167:32914',),\n",
       " 'set_visible-2202c4a38e62dd9f3d1ca93dd67fd403': ('tcp://10.2.166.167:46333',),\n",
       " \"('from_cudf-a39ddd2795dd4791af5723a98609e1ed', 0)\": ('tcp://10.2.166.167:32914',),\n",
       " \"('from_cudf-a39ddd2795dd4791af5723a98609e1ed', 2)\": ('tcp://10.2.166.167:32914',),\n",
       " \"('from_cudf-a39ddd2795dd4791af5723a98609e1ed', 3)\": ('tcp://10.2.166.167:46333',),\n",
       " \"('from_cudf-a39ddd2795dd4791af5723a98609e1ed', 1)\": ('tcp://10.2.166.167:46333',),\n",
       " \"('from_cudf-d91b39c7838a4d24a07560970ef72ea8', 0)\": ('tcp://10.2.166.167:32914',),\n",
       " \"('from_cudf-d91b39c7838a4d24a07560970ef72ea8', 3)\": ('tcp://10.2.166.167:46333',),\n",
       " \"('from_cudf-d91b39c7838a4d24a07560970ef72ea8', 2)\": ('tcp://10.2.166.167:32914',),\n",
       " \"('from_cudf-d91b39c7838a4d24a07560970ef72ea8', 1)\": ('tcp://10.2.166.167:46333',),\n",
       " 'print_device-bc85a57a3c65c69c64903296b87e790c': ('tcp://10.2.166.167:32914',),\n",
       " 'print_device-c7097b39de14ba717dd60f9893f36409': ('tcp://10.2.166.167:46333',),\n",
       " 'print_device-9beccb8719a3ea53f75f7ecf09eaefc9': ('tcp://10.2.166.167:32914',),\n",
       " 'print_device-75c7d9d2286c9bc862b969b29b508c33': ('tcp://10.2.166.167:46333',),\n",
       " 'tuple-37ea9bb0-a5fc-44be-9312-6e8eab67c9d2': (),\n",
       " 'tuple-3a82f0d0-5b0c-4cee-a936-d76f879022f6': (),\n",
       " 'tuple-1ba30c3a-3d0f-4f27-ba2f-c26687efacbe': (),\n",
       " 'tuple-34188654-6bf6-4026-94e6-b49fb0539d2f': (),\n",
       " 'inputs_to_device_arrays-13afd9fa21a01c81ef6cba9436e73ac2': (),\n",
       " 'inputs_to_device_arrays-08705425368b280de70a3f6f65244ad2': (),\n",
       " 'get_input_ipc_handles-36da53a2e4ad3cf988c4ef4097966343': (),\n",
       " '_fit_on_worker-dc2a355c0b2b48ad2751147b827406b6': (),\n",
       " 'get_result-5e5d162c6c79ca350d3a74e30a70c841': (),\n",
       " 'extract_part-7501b3b7cace05bc9aa8eb3b54255ea4': ('tcp://10.2.166.167:46333',),\n",
       " 'extract_part-2fc7dbe0923f0381dfb372b1d17ab749': ('tcp://10.2.166.167:46333',)}"
      ]
     },
     "execution_count": 16,
     "metadata": {},
     "output_type": "execute_result"
    }
   ],
   "source": [
    "client.who_has()"
   ]
  },
  {
   "cell_type": "code",
   "execution_count": 17,
   "metadata": {},
   "outputs": [
    {
     "name": "stdout",
     "output_type": "stream",
     "text": [
      "WORKER PARTS: [(('10.2.166.167', 46333), <Future: status: finished, type: DataFrame, key: ('from_cudf-a39ddd2795dd4791af5723a98609e1ed', 3)>), (('10.2.166.167', 46333), <Future: status: finished, type: DataFrame, key: ('from_cudf-a39ddd2795dd4791af5723a98609e1ed', 1)>), (('10.2.166.167', 32914), <Future: status: finished, type: DataFrame, key: ('from_cudf-a39ddd2795dd4791af5723a98609e1ed', 2)>), (('10.2.166.167', 32914), <Future: status: finished, type: DataFrame, key: ('from_cudf-a39ddd2795dd4791af5723a98609e1ed', 0)>)]\n",
      "ON WORKER: 2\n",
      "NOT ON WORKER: 2\n",
      "IPCHANDLES = [<Future: status: pending, key: get_ipc_handles-e26c71b03604d33dd9e7cc31f29c0f10>, <Future: status: pending, key: get_ipc_handles-9167d6f86c22aa591bcc01a6853e4a80>]\n",
      "RAW_ARRAYS=[<Future: status: pending, key: as_gpu_matrix-faf5adf1a68f028bc1c32247064b3cf3>, <Future: status: pending, key: as_gpu_matrix-fdb976f5f4231d888c2bc8eb13de5d5e>]\n",
      "f=<Future: status: finished, type: tuple, key: _predict_on_worker-e0db8b092ea628a41b0b72ec63e8886c>\n"
     ]
    }
   ],
   "source": [
    "g = lr.predict(X_df)"
   ]
  },
  {
   "cell_type": "code",
   "execution_count": 18,
   "metadata": {},
   "outputs": [
    {
     "name": "stdout",
     "output_type": "stream",
     "text": [
      "      \n",
      "0    1\n",
      "1    2\n",
      "2    3\n",
      "3    4\n",
      "4    5\n"
     ]
    }
   ],
   "source": [
    "print(str(g.result()))"
   ]
  },
  {
   "cell_type": "code",
   "execution_count": null,
   "metadata": {},
   "outputs": [],
   "source": []
  },
  {
   "cell_type": "code",
   "execution_count": null,
   "metadata": {},
   "outputs": [],
   "source": []
  },
  {
   "cell_type": "code",
   "execution_count": null,
   "metadata": {},
   "outputs": [],
   "source": []
  }
 ],
 "metadata": {
  "kernelspec": {
   "display_name": "Python 3",
   "language": "python",
   "name": "python3"
  },
  "language_info": {
   "codemirror_mode": {
    "name": "ipython",
    "version": 3
   },
   "file_extension": ".py",
   "mimetype": "text/x-python",
   "name": "python",
   "nbconvert_exporter": "python",
   "pygments_lexer": "ipython3",
   "version": "3.6.6"
  }
 },
 "nbformat": 4,
 "nbformat_minor": 2
}
