{
 "cells": [
  {
   "cell_type": "code",
   "execution_count": 1,
   "metadata": {},
   "outputs": [],
   "source": [
    "import cudf\n",
    "import dask_cudf"
   ]
  },
  {
   "cell_type": "code",
   "execution_count": 2,
   "metadata": {},
   "outputs": [],
   "source": [
    "import dask_cudf"
   ]
  },
  {
   "cell_type": "code",
   "execution_count": 3,
   "metadata": {},
   "outputs": [],
   "source": [
    "from dask_cuml.linear_regression import LinearRegression"
   ]
  },
  {
   "cell_type": "markdown",
   "metadata": {},
   "source": [
    "In order to run this notebook, you will first need to run a dask scheduler and number of dask workers:\n",
    "- Run a dask scheduler with:  ```dask-scheduler --scheduler-file=cluster.json```\n",
    "- Run N dask workers with:  ```mpirun -np N dask-mpi --no-nanny --nthreads 10 --no-scheduler --scheduler-file cluster.json```"
   ]
  },
  {
   "cell_type": "code",
   "execution_count": 4,
   "metadata": {},
   "outputs": [],
   "source": [
    "# from dask.distributed import Client\n",
    "# from dask_cuda import LocalCUDACluster\n",
    "# cluster = LocalCUDACluster(threads_per_worker = 10)\n"
   ]
  },
  {
   "cell_type": "code",
   "execution_count": 5,
   "metadata": {},
   "outputs": [
    {
     "data": {
      "text/html": [
       "<table style=\"border: 2px solid white;\">\n",
       "<tr>\n",
       "<td style=\"vertical-align: top; border: 0px solid white\">\n",
       "<h3>Client</h3>\n",
       "<ul>\n",
       "  <li><b>Scheduler: </b>tcp://10.2.169.115:8786\n",
       "  <li><b>Dashboard: </b><a href='http://10.2.169.115:8787/status' target='_blank'>http://10.2.169.115:8787/status</a>\n",
       "</ul>\n",
       "</td>\n",
       "<td style=\"vertical-align: top; border: 0px solid white\">\n",
       "<h3>Cluster</h3>\n",
       "<ul>\n",
       "  <li><b>Workers: </b>2</li>\n",
       "  <li><b>Cores: </b>2</li>\n",
       "  <li><b>Memory: </b>3.15 GB</li>\n",
       "</ul>\n",
       "</td>\n",
       "</tr>\n",
       "</table>"
      ],
      "text/plain": [
       "<Client: scheduler='tcp://10.2.169.115:8786' processes=2 cores=2>"
      ]
     },
     "execution_count": 5,
     "metadata": {},
     "output_type": "execute_result"
    }
   ],
   "source": [
    "from dask.distributed import Client\n",
    "client = Client(scheduler_file = \"../cluster.json\")\n",
    "client"
   ]
  },
  {
   "cell_type": "code",
   "execution_count": 6,
   "metadata": {},
   "outputs": [],
   "source": [
    "X = cudf.DataFrame([('a', [0, 1, 2, 3, 4])])\n",
    "y = cudf.Series([0, 1, 2, 3, 4])\n"
   ]
  },
  {
   "cell_type": "code",
   "execution_count": 7,
   "metadata": {},
   "outputs": [],
   "source": [
    "X_df = dask_cudf.from_cudf(X, chunksize=1).persist()\n",
    "y_df = dask_cudf.from_cudf(y, chunksize=1).persist()"
   ]
  },
  {
   "cell_type": "code",
   "execution_count": 8,
   "metadata": {},
   "outputs": [
    {
     "data": {
      "text/plain": [
       "{\"('from_cudf-8f179dedebc84dbea0a79cb2905be8f9', 0)\": (),\n",
       " \"('from_cudf-8f179dedebc84dbea0a79cb2905be8f9', 1)\": (),\n",
       " \"('from_cudf-8f179dedebc84dbea0a79cb2905be8f9', 2)\": (),\n",
       " \"('from_cudf-8f179dedebc84dbea0a79cb2905be8f9', 3)\": (),\n",
       " \"('from_cudf-fc3c050cbd3b42928497b52daf3ffd4b', 0)\": (),\n",
       " \"('from_cudf-fc3c050cbd3b42928497b52daf3ffd4b', 1)\": (),\n",
       " \"('from_cudf-fc3c050cbd3b42928497b52daf3ffd4b', 2)\": (),\n",
       " \"('from_cudf-fc3c050cbd3b42928497b52daf3ffd4b', 3)\": ()}"
      ]
     },
     "execution_count": 8,
     "metadata": {},
     "output_type": "execute_result"
    }
   ],
   "source": [
    "client.who_has()"
   ]
  },
  {
   "cell_type": "code",
   "execution_count": 9,
   "metadata": {},
   "outputs": [
    {
     "data": {
      "text/plain": [
       "[<Future: status: pending, key: print_device-200b5ef9ae81e92ef6d4892deda0b1d9>,\n",
       " <Future: status: pending, key: print_device-a0f1ea2e85097629df8fac9a4b5b0130>,\n",
       " <Future: status: pending, key: print_device-cf7c4344adb8b0c1adc646991c2909af>,\n",
       " <Future: status: pending, key: print_device-4454b6d7cf74fc38896a7625bff9ca16>]"
      ]
     },
     "execution_count": 9,
     "metadata": {},
     "output_type": "execute_result"
    }
   ],
   "source": [
    "import numba.cuda\n",
    "import cuml\n",
    "def print_device(arr):\n",
    "    print(str(numba.cuda.get_current_device()))\n",
    "    print(str(cuml.device_of_ptr(arr.as_gpu_matrix(order=\"F\"))))\n",
    "    \n",
    "[client.submit(print_device, part) for part in X_df.to_delayed()]"
   ]
  },
  {
   "cell_type": "markdown",
   "metadata": {},
   "source": [
    "Set each worker to host dfs on a different device"
   ]
  },
  {
   "cell_type": "code",
   "execution_count": null,
   "metadata": {},
   "outputs": [],
   "source": [
    "import numba.cuda\n",
    "\n",
    "devs = [i.id for i in numba.cuda.cudadrv.devices.gpus]\n",
    "workers = list(client.has_what().keys())\n",
    "worker_devs = workers[0:min(len(devs), len(workers))]"
   ]
  },
  {
   "cell_type": "code",
   "execution_count": null,
   "metadata": {},
   "outputs": [],
   "source": [
    "def set_visible(i, n):\n",
    "    import os\n",
    "    all_devices = list(range(n))\n",
    "    vd = \",\".join(map(str, all_devices[i:] + all_devices[:i])) \n",
    "    print(str(vd))\n",
    "    os.environ[\"CUDA_VISIBLE_DEVICES\"] = vd\n",
    "\n",
    "dev_assigned = [client.submit(set_visible, dev, len(devs), workers = [worker]) for dev, worker in zip(devs, worker_devs)]"
   ]
  },
  {
   "cell_type": "code",
   "execution_count": 22,
   "metadata": {},
   "outputs": [
    {
     "data": {
      "text/plain": [
       "{\"('from_cudf-69022de2a13245c59bf17af92dd8d3a6', 0)\": ('tcp://10.2.169.115:44275',),\n",
       " \"('from_cudf-69022de2a13245c59bf17af92dd8d3a6', 1)\": ('tcp://10.2.169.115:45706',),\n",
       " \"('from_cudf-69022de2a13245c59bf17af92dd8d3a6', 2)\": ('tcp://10.2.169.115:44275',),\n",
       " \"('from_cudf-69022de2a13245c59bf17af92dd8d3a6', 3)\": ('tcp://10.2.169.115:45706',),\n",
       " \"('from_cudf-935f43ceb3e3463bafbbca6e2a33d221', 0)\": ('tcp://10.2.169.115:44275',),\n",
       " \"('from_cudf-935f43ceb3e3463bafbbca6e2a33d221', 1)\": ('tcp://10.2.169.115:45706',),\n",
       " \"('from_cudf-935f43ceb3e3463bafbbca6e2a33d221', 2)\": ('tcp://10.2.169.115:44275',),\n",
       " \"('from_cudf-935f43ceb3e3463bafbbca6e2a33d221', 3)\": ('tcp://10.2.169.115:45706',),\n",
       " 'print_device-0af762345947f1f3beba182fc435e7c6': ('tcp://10.2.169.115:45706',),\n",
       " 'print_device-214063a90498a67de2855b85bbef57fc': ('tcp://10.2.169.115:44275',),\n",
       " 'print_device-85c539a30774eb73e23e65689c6bb7cb': ('tcp://10.2.169.115:45706',),\n",
       " 'print_device-ce76cbbf33de3d90a1f3675f75c08c31': ('tcp://10.2.169.115:44275',),\n",
       " 'set_visible-4119868b92f68cd7ce1b745b22ee35be': ('tcp://10.2.169.115:44275',),\n",
       " 'set_visible-52d8335c930a8f42761085735ab9671c': ('tcp://10.2.169.115:45706',)}"
      ]
     },
     "execution_count": 22,
     "metadata": {},
     "output_type": "execute_result"
    }
   ],
   "source": [
    "client.who_has()"
   ]
  },
  {
   "cell_type": "code",
   "execution_count": 9,
   "metadata": {},
   "outputs": [],
   "source": [
    "lr = LinearRegression()"
   ]
  },
  {
   "cell_type": "code",
   "execution_count": 10,
   "metadata": {},
   "outputs": [
    {
     "name": "stdout",
     "output_type": "stream",
     "text": [
      "Co-locating data!\n",
      "parts=[<Future: status: finished, type: tuple, key: tuple-14ec3974-b89a-47fe-a9c4-44c1e667b1d3>, <Future: status: finished, type: tuple, key: tuple-7d45e68a-0d62-47ff-b0bc-fb4c8b2820ee>, <Future: status: finished, type: tuple, key: tuple-dabbd087-c904-4173-b80e-e31cc65f323f>, <Future: status: finished, type: tuple, key: tuple-b487e702-3119-4cd2-afa0-476ecd1c77a9>]\n",
      "key_to_part_dict={'tuple-dabbd087-c904-4173-b80e-e31cc65f323f': <Future: status: finished, type: tuple, key: tuple-dabbd087-c904-4173-b80e-e31cc65f323f>, 'tuple-7d45e68a-0d62-47ff-b0bc-fb4c8b2820ee': <Future: status: finished, type: tuple, key: tuple-7d45e68a-0d62-47ff-b0bc-fb4c8b2820ee>, 'tuple-14ec3974-b89a-47fe-a9c4-44c1e667b1d3': <Future: status: finished, type: tuple, key: tuple-14ec3974-b89a-47fe-a9c4-44c1e667b1d3>, 'tuple-b487e702-3119-4cd2-afa0-476ecd1c77a9': <Future: status: finished, type: tuple, key: tuple-b487e702-3119-4cd2-afa0-476ecd1c77a9>}\n",
      "[(('10.2.169.115', 42714), <Future: status: finished, type: tuple, key: inputs_to_device_arrays-22c610dde07a95339dd36c407dd911e9>), (('10.2.169.115', 35646), <Future: status: finished, type: tuple, key: inputs_to_device_arrays-9b525a562a4a5c820c53734de69d3a44>)]\n",
      "{\"('from_cudf-8f179dedebc84dbea0a79cb2905be8f9', 2)\": ('tcp://10.2.169.115:35646',), \"('from_cudf-8f179dedebc84dbea0a79cb2905be8f9', 3)\": ('tcp://10.2.169.115:42714',), \"('from_cudf-fc3c050cbd3b42928497b52daf3ffd4b', 1)\": ('tcp://10.2.169.115:42714',), \"('from_cudf-fc3c050cbd3b42928497b52daf3ffd4b', 2)\": ('tcp://10.2.169.115:35646',), \"('from_cudf-8f179dedebc84dbea0a79cb2905be8f9', 1)\": ('tcp://10.2.169.115:42714',), \"('from_cudf-fc3c050cbd3b42928497b52daf3ffd4b', 0)\": ('tcp://10.2.169.115:35646',), 'tuple-14ec3974-b89a-47fe-a9c4-44c1e667b1d3': ('tcp://10.2.169.115:35646',), 'tuple-b487e702-3119-4cd2-afa0-476ecd1c77a9': ('tcp://10.2.169.115:42714',), \"('from_cudf-fc3c050cbd3b42928497b52daf3ffd4b', 3)\": ('tcp://10.2.169.115:42714',), 'tuple-dabbd087-c904-4173-b80e-e31cc65f323f': ('tcp://10.2.169.115:35646',), 'tuple-7d45e68a-0d62-47ff-b0bc-fb4c8b2820ee': ('tcp://10.2.169.115:42714',), \"('from_cudf-8f179dedebc84dbea0a79cb2905be8f9', 0)\": ('tcp://10.2.169.115:35646',)}\n",
      "WORKER_PARTS: {('10.2.169.115', 42714): [<Future: status: finished, type: tuple, key: tuple-7d45e68a-0d62-47ff-b0bc-fb4c8b2820ee>, <Future: status: finished, type: tuple, key: tuple-b487e702-3119-4cd2-afa0-476ecd1c77a9>], ('10.2.169.115', 35646): [<Future: status: finished, type: tuple, key: tuple-dabbd087-c904-4173-b80e-e31cc65f323f>, <Future: status: finished, type: tuple, key: tuple-14ec3974-b89a-47fe-a9c4-44c1e667b1d3>]}\n",
      "WORKER: ('10.2.169.115', 42714)\n",
      "ON_WORKER: [(('10.2.169.115', 42714), <Future: status: finished, type: tuple, key: inputs_to_device_arrays-22c610dde07a95339dd36c407dd911e9>)]\n",
      "NOT_ON_WORKER: [(('10.2.169.115', 35646), <Future: status: finished, type: tuple, key: inputs_to_device_arrays-9b525a562a4a5c820c53734de69d3a44>)]\n",
      "WORKER: ('10.2.169.115', 35646)\n",
      "ON_WORKER: [(('10.2.169.115', 35646), <Future: status: finished, type: tuple, key: inputs_to_device_arrays-9b525a562a4a5c820c53734de69d3a44>)]\n",
      "NOT_ON_WORKER: [(('10.2.169.115', 42714), <Future: status: finished, type: tuple, key: inputs_to_device_arrays-22c610dde07a95339dd36c407dd911e9>)]\n"
     ]
    }
   ],
   "source": [
    "res = lr.fit(X_df, y_df)"
   ]
  },
  {
   "cell_type": "markdown",
   "metadata": {},
   "source": [
    "\n",
    "res"
   ]
  },
  {
   "cell_type": "code",
   "execution_count": 12,
   "metadata": {},
   "outputs": [
    {
     "data": {
      "text/plain": [
       "[(('10.2.169.115', 44795),\n",
       "  <Future: status: finished, type: str, key: get_result-cf433f452c20879e2e4bf2cb9c874710>),\n",
       " (('10.2.169.115', 41001),\n",
       "  <Future: status: finished, type: str, key: get_result-10a9f8b3ed7af1948c52e2e0cff7fdcc>)]"
      ]
     },
     "execution_count": 12,
     "metadata": {},
     "output_type": "execute_result"
    }
   ],
   "source": [
    "lr.coeffs"
   ]
  },
  {
   "cell_type": "code",
   "execution_count": 11,
   "metadata": {},
   "outputs": [
    {
     "name": "stdout",
     "output_type": "stream",
     "text": [
      "WHO HAS: {'get_result-4d5399cafd8455a7a3cba0a546815e9f': ('tcp://10.2.169.115:34832',), 'get_result-9ff61fe739b69dbe9e9220fb3c283339': ('tcp://10.2.169.115:37956',)}\n",
      "{'get_result-4d5399cafd8455a7a3cba0a546815e9f': <Future: status: finished, type: Series, key: get_result-4d5399cafd8455a7a3cba0a546815e9f>, 'get_result-9ff61fe739b69dbe9e9220fb3c283339': <Future: status: finished, type: Series, key: get_result-9ff61fe739b69dbe9e9220fb3c283339>}\n",
      "get_result-4d5399cafd8455a7a3cba0a546815e9f\n",
      "get_result-9ff61fe739b69dbe9e9220fb3c283339\n",
      "[(('10.2.169.115', 34832), <Future: status: pending, key: to_gpu_array-4d6f56b55b7a28f8b73ed6f64a6a1e76>), (('10.2.169.115', 37956), <Future: status: pending, key: to_gpu_array-521596a76a504299fbbc3580b29432ed>)]\n",
      "WORKER_PARTS: {('10.2.169.115', 37956): [Delayed(('from_cudf-d28f756998e640c5aba91650f4b700ef', 3)), Delayed(('from_cudf-d28f756998e640c5aba91650f4b700ef', 1))], ('10.2.169.115', 34832): [Delayed(('from_cudf-d28f756998e640c5aba91650f4b700ef', 2)), Delayed(('from_cudf-d28f756998e640c5aba91650f4b700ef', 0))]}\n",
      "RES: [<Future: status: finished, type: tuple, key: _predict_on_worker-4259c1bdc266bb9bc21888d13ec90fb0>, <Future: status: finished, type: tuple, key: _predict_on_worker-64bad8b6826c6e7ffecab393f6dea25b>]\n"
     ]
    }
   ],
   "source": [
    "g = lr.predict(X_df)"
   ]
  },
  {
   "cell_type": "code",
   "execution_count": 12,
   "metadata": {},
   "outputs": [
    {
     "data": {
      "text/plain": [
       "tornado.gen.Return([<Future: status: finished, type: Series, key: get_result-3a3fd34d29b1f359d26f92c95b4d6d24>,\n",
       "                    <Future: status: finished, type: Series, key: get_result-6b35a1b97185dcd1cfa72110d91e125c>])"
      ]
     },
     "execution_count": 12,
     "metadata": {},
     "output_type": "execute_result"
    }
   ],
   "source": [
    "g"
   ]
  },
  {
   "cell_type": "code",
   "execution_count": null,
   "metadata": {},
   "outputs": [],
   "source": []
  },
  {
   "cell_type": "code",
   "execution_count": null,
   "metadata": {},
   "outputs": [],
   "source": []
  },
  {
   "cell_type": "code",
   "execution_count": null,
   "metadata": {},
   "outputs": [],
   "source": []
  }
 ],
 "metadata": {
  "kernelspec": {
   "display_name": "Python (cuml)",
   "language": "python",
   "name": "cuml"
  },
  "language_info": {
   "codemirror_mode": {
    "name": "ipython",
    "version": 3
   },
   "file_extension": ".py",
   "mimetype": "text/x-python",
   "name": "python",
   "nbconvert_exporter": "python",
   "pygments_lexer": "ipython3",
   "version": "3.5.6"
  }
 },
 "nbformat": 4,
 "nbformat_minor": 2
}
