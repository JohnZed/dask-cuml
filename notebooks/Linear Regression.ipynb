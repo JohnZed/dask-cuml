{
 "cells": [
  {
   "cell_type": "code",
   "execution_count": 1,
   "metadata": {},
   "outputs": [],
   "source": [
    "import cudf\n",
    "import dask_cudf"
   ]
  },
  {
   "cell_type": "code",
   "execution_count": 2,
   "metadata": {},
   "outputs": [],
   "source": [
    "import dask_cudf"
   ]
  },
  {
   "cell_type": "code",
   "execution_count": 3,
   "metadata": {},
   "outputs": [],
   "source": [
    "from dask_cuml.linear_regression import LinearRegression"
   ]
  },
  {
   "cell_type": "markdown",
   "metadata": {},
   "source": [
    "In order to run this notebook, you will first need to run a dask scheduler and number of dask workers:\n",
    "- Run a dask scheduler with:  ```dask-scheduler --scheduler-file=cluster.json```\n",
    "- Run N dask workers with:  ```mpirun -np N dask-mpi --no-nanny --nthreads 10 --no-scheduler --scheduler-file cluster.json```"
   ]
  },
  {
   "cell_type": "code",
   "execution_count": 4,
   "metadata": {},
   "outputs": [],
   "source": [
    "# from dask.distributed import Client\n",
    "# from dask_cuda import LocalCUDACluster\n",
    "# cluster = LocalCUDACluster(threads_per_worker = 10)\n"
   ]
  },
  {
   "cell_type": "code",
   "execution_count": 5,
   "metadata": {},
   "outputs": [
    {
     "data": {
      "text/html": [
       "<table style=\"border: 2px solid white;\">\n",
       "<tr>\n",
       "<td style=\"vertical-align: top; border: 0px solid white\">\n",
       "<h3>Client</h3>\n",
       "<ul>\n",
       "  <li><b>Scheduler: </b>tcp://10.2.169.115:8786\n",
       "  <li><b>Dashboard: </b><a href='http://10.2.169.115:8787/status' target='_blank'>http://10.2.169.115:8787/status</a>\n",
       "</ul>\n",
       "</td>\n",
       "<td style=\"vertical-align: top; border: 0px solid white\">\n",
       "<h3>Cluster</h3>\n",
       "<ul>\n",
       "  <li><b>Workers: </b>2</li>\n",
       "  <li><b>Cores: </b>2</li>\n",
       "  <li><b>Memory: </b>3.15 GB</li>\n",
       "</ul>\n",
       "</td>\n",
       "</tr>\n",
       "</table>"
      ],
      "text/plain": [
       "<Client: scheduler='tcp://10.2.169.115:8786' processes=2 cores=2>"
      ]
     },
     "execution_count": 5,
     "metadata": {},
     "output_type": "execute_result"
    }
   ],
   "source": [
    "from dask.distributed import Client\n",
    "client = Client(scheduler_file = \"../cluster.json\")\n",
    "client"
   ]
  },
  {
   "cell_type": "code",
   "execution_count": 6,
   "metadata": {},
   "outputs": [],
   "source": [
    "import numba.cuda\n",
    "\n",
    "devs = [i.id for i in numba.cuda.cudadrv.devices.gpus]\n",
    "workers = list(client.has_what().keys())\n",
    "worker_devs = workers[0:min(len(devs), len(workers))]"
   ]
  },
  {
   "cell_type": "code",
   "execution_count": 7,
   "metadata": {},
   "outputs": [],
   "source": [
    "def set_visible(i, n):\n",
    "    import os, numba.cuda\n",
    "    all_devices = list(range(n))\n",
    "    vd = \",\".join(map(str, all_devices[i:] + all_devices[:i]))\n",
    "    print(str(vd))\n",
    "    numba.cuda.close()\n",
    "    numba.cuda.select_device(i)\n",
    "    print(\"Selecting Device : \"  + str(i))\n",
    "    os.environ[\"CUDA_VISIBLE_DEVICES\"] = vd\n",
    "\n",
    "dev_assigned = [client.submit(set_visible, dev, len(devs), workers = [worker]) for dev, worker in zip(devs, worker_devs)]"
   ]
  },
  {
   "cell_type": "code",
   "execution_count": 8,
   "metadata": {},
   "outputs": [],
   "source": [
    "import pandas as pd\n",
    "\n",
    "X = cudf.DataFrame([('a', [0, 1, 2, 3, 4])])\n",
    "y = cudf.Series([0, 1, 2, 3, 4])\n"
   ]
  },
  {
   "cell_type": "code",
   "execution_count": 9,
   "metadata": {},
   "outputs": [],
   "source": [
    "X_df = dask_cudf.from_cudf(X, chunksize=1).persist()\n",
    "y_df = dask_cudf.from_cudf(y, chunksize=1).persist()"
   ]
  },
  {
   "cell_type": "code",
   "execution_count": 10,
   "metadata": {},
   "outputs": [
    {
     "data": {
      "text/plain": [
       "[<Future: status: pending, key: print_device-93462cf168bba9143ac4641eddd44d4e>,\n",
       " <Future: status: pending, key: print_device-067107fa9678bfa06740566f4fe7c5eb>,\n",
       " <Future: status: pending, key: print_device-1b11ba6cdde0fcb50d8454a67ead2658>,\n",
       " <Future: status: pending, key: print_device-4d0d0b0012ebcda2ce408a2fb4d12eea>]"
      ]
     },
     "execution_count": 10,
     "metadata": {},
     "output_type": "execute_result"
    }
   ],
   "source": [
    "import numba.cuda\n",
    "import cuml\n",
    "def print_device(arr):\n",
    "    print(str(numba.cuda.get_current_device()))\n",
    "    print(str(cuml.device_of_ptr(arr.as_gpu_matrix(order=\"F\"))))\n",
    "    \n",
    "[client.submit(print_device, part) for part in X_df.to_delayed()]"
   ]
  },
  {
   "cell_type": "code",
   "execution_count": 11,
   "metadata": {},
   "outputs": [
    {
     "data": {
      "text/plain": [
       "{\"('from_cudf-035212611cc64ebf9253fd49ae78355e', 0)\": (),\n",
       " \"('from_cudf-035212611cc64ebf9253fd49ae78355e', 1)\": (),\n",
       " \"('from_cudf-035212611cc64ebf9253fd49ae78355e', 2)\": (),\n",
       " \"('from_cudf-035212611cc64ebf9253fd49ae78355e', 3)\": (),\n",
       " \"('from_cudf-ad5d5cc35a324c7fae97438d7b8659dd', 0)\": (),\n",
       " \"('from_cudf-ad5d5cc35a324c7fae97438d7b8659dd', 1)\": (),\n",
       " \"('from_cudf-ad5d5cc35a324c7fae97438d7b8659dd', 2)\": (),\n",
       " \"('from_cudf-ad5d5cc35a324c7fae97438d7b8659dd', 3)\": (),\n",
       " 'print_device-067107fa9678bfa06740566f4fe7c5eb': (),\n",
       " 'print_device-1b11ba6cdde0fcb50d8454a67ead2658': (),\n",
       " 'print_device-4d0d0b0012ebcda2ce408a2fb4d12eea': (),\n",
       " 'print_device-93462cf168bba9143ac4641eddd44d4e': (),\n",
       " 'set_visible-b2cc47a71d9c1bf2a02b4ece69564212': ('tcp://10.2.169.115:43755',),\n",
       " 'set_visible-f448d1672c3bacc20a17c17b73d73424': ('tcp://10.2.169.115:37840',)}"
      ]
     },
     "execution_count": 11,
     "metadata": {},
     "output_type": "execute_result"
    }
   ],
   "source": [
    "client.who_has()"
   ]
  },
  {
   "cell_type": "markdown",
   "metadata": {},
   "source": [
    "Set each worker to host dfs on a different device. \n",
    "\n",
    "__Note__: You can ignore this if you started your workers with \"CUDA_VISIBLE_DEVICE\" already"
   ]
  },
  {
   "cell_type": "code",
   "execution_count": 12,
   "metadata": {},
   "outputs": [
    {
     "data": {
      "text/plain": [
       "{\"('from_cudf-035212611cc64ebf9253fd49ae78355e', 0)\": (),\n",
       " \"('from_cudf-035212611cc64ebf9253fd49ae78355e', 1)\": (),\n",
       " \"('from_cudf-035212611cc64ebf9253fd49ae78355e', 2)\": (),\n",
       " \"('from_cudf-035212611cc64ebf9253fd49ae78355e', 3)\": (),\n",
       " \"('from_cudf-ad5d5cc35a324c7fae97438d7b8659dd', 0)\": (),\n",
       " \"('from_cudf-ad5d5cc35a324c7fae97438d7b8659dd', 1)\": (),\n",
       " \"('from_cudf-ad5d5cc35a324c7fae97438d7b8659dd', 2)\": (),\n",
       " \"('from_cudf-ad5d5cc35a324c7fae97438d7b8659dd', 3)\": (),\n",
       " 'print_device-067107fa9678bfa06740566f4fe7c5eb': (),\n",
       " 'print_device-1b11ba6cdde0fcb50d8454a67ead2658': (),\n",
       " 'print_device-4d0d0b0012ebcda2ce408a2fb4d12eea': (),\n",
       " 'print_device-93462cf168bba9143ac4641eddd44d4e': (),\n",
       " 'set_visible-b2cc47a71d9c1bf2a02b4ece69564212': ('tcp://10.2.169.115:43755',),\n",
       " 'set_visible-f448d1672c3bacc20a17c17b73d73424': ('tcp://10.2.169.115:37840',)}"
      ]
     },
     "execution_count": 12,
     "metadata": {},
     "output_type": "execute_result"
    }
   ],
   "source": [
    "client.who_has()"
   ]
  },
  {
   "cell_type": "code",
   "execution_count": 13,
   "metadata": {},
   "outputs": [],
   "source": [
    "lr = LinearRegression()"
   ]
  },
  {
   "cell_type": "code",
   "execution_count": 14,
   "metadata": {},
   "outputs": [
    {
     "name": "stdout",
     "output_type": "stream",
     "text": [
      "{'tuple-338b9c22-58dc-46d6-bf37-e4936475b164': ('tcp://10.2.169.115:43755',), \"('from_cudf-035212611cc64ebf9253fd49ae78355e', 3)\": ('tcp://10.2.169.115:43755',), \"('from_cudf-ad5d5cc35a324c7fae97438d7b8659dd', 3)\": ('tcp://10.2.169.115:43755',), 'set_visible-b2cc47a71d9c1bf2a02b4ece69564212': ('tcp://10.2.169.115:43755',), \"('from_cudf-035212611cc64ebf9253fd49ae78355e', 1)\": ('tcp://10.2.169.115:43755',), 'print_device-067107fa9678bfa06740566f4fe7c5eb': ('tcp://10.2.169.115:43755',), \"('from_cudf-035212611cc64ebf9253fd49ae78355e', 0)\": ('tcp://10.2.169.115:43755',), 'set_visible-f448d1672c3bacc20a17c17b73d73424': ('tcp://10.2.169.115:37840',), 'print_device-1b11ba6cdde0fcb50d8454a67ead2658': ('tcp://10.2.169.115:37840',), \"('from_cudf-ad5d5cc35a324c7fae97438d7b8659dd', 2)\": ('tcp://10.2.169.115:43755',), \"('from_cudf-ad5d5cc35a324c7fae97438d7b8659dd', 0)\": ('tcp://10.2.169.115:43755',), 'print_device-93462cf168bba9143ac4641eddd44d4e': ('tcp://10.2.169.115:37840',), 'print_device-4d0d0b0012ebcda2ce408a2fb4d12eea': ('tcp://10.2.169.115:43755',), \"('from_cudf-ad5d5cc35a324c7fae97438d7b8659dd', 1)\": ('tcp://10.2.169.115:43755',), \"('from_cudf-035212611cc64ebf9253fd49ae78355e', 2)\": ('tcp://10.2.169.115:43755',), 'tuple-8762bfd9-456a-4252-a55d-bbbb14c70fa3': ('tcp://10.2.169.115:43755',), 'tuple-4488bc35-7ebf-4444-a61c-27f54137a968': ('tcp://10.2.169.115:43755',), 'tuple-03acdd49-8f5a-49cf-b7ad-a6e00e3c2884': ('tcp://10.2.169.115:43755',)}\n",
      "exec_node: ('10.2.169.115', 43755)\n"
     ]
    }
   ],
   "source": [
    "res = lr.fit(X_df, y_df)"
   ]
  },
  {
   "cell_type": "markdown",
   "metadata": {},
   "source": [
    "res"
   ]
  },
  {
   "cell_type": "code",
   "execution_count": 15,
   "metadata": {},
   "outputs": [
    {
     "data": {
      "text/plain": [
       "[(('10.2.169.115', 43755),\n",
       "  <Future: status: finished, type: DataFrame, key: get_result-3a30958f77621e3da821390de5ae9fa8>)]"
      ]
     },
     "execution_count": 15,
     "metadata": {},
     "output_type": "execute_result"
    }
   ],
   "source": [
    "lr.coeffs"
   ]
  },
  {
   "cell_type": "code",
   "execution_count": 16,
   "metadata": {},
   "outputs": [
    {
     "name": "stdout",
     "output_type": "stream",
     "text": [
      "{'get_result-3a30958f77621e3da821390de5ae9fa8': <Future: status: finished, type: DataFrame, key: get_result-3a30958f77621e3da821390de5ae9fa8>}\n",
      "EXEC_NODE: ('10.2.169.115', 43755)\n",
      "ON WORKER: 1\n",
      "NOT ON WORKER: 0\n",
      "RES: [<Future: status: finished, type: NoneType, key: _predict_on_worker-196b1a109444b12f00bf52b0153dfc74>]\n"
     ]
    }
   ],
   "source": [
    "g = lr.predict(X_df)"
   ]
  },
  {
   "cell_type": "code",
   "execution_count": 17,
   "metadata": {},
   "outputs": [
    {
     "data": {
      "text/plain": [
       "tornado.gen.Return([<Future: status: error, key: get_result-4cb9f3c25addc6b94499712fc253e2cc>])"
      ]
     },
     "execution_count": 17,
     "metadata": {},
     "output_type": "execute_result"
    }
   ],
   "source": [
    "g"
   ]
  },
  {
   "cell_type": "code",
   "execution_count": null,
   "metadata": {},
   "outputs": [],
   "source": []
  },
  {
   "cell_type": "code",
   "execution_count": null,
   "metadata": {},
   "outputs": [],
   "source": []
  },
  {
   "cell_type": "code",
   "execution_count": null,
   "metadata": {},
   "outputs": [],
   "source": []
  }
 ],
 "metadata": {
  "kernelspec": {
   "display_name": "Python (cuml)",
   "language": "python",
   "name": "cuml"
  },
  "language_info": {
   "codemirror_mode": {
    "name": "ipython",
    "version": 3
   },
   "file_extension": ".py",
   "mimetype": "text/x-python",
   "name": "python",
   "nbconvert_exporter": "python",
   "pygments_lexer": "ipython3",
   "version": "3.5.6"
  }
 },
 "nbformat": 4,
 "nbformat_minor": 2
}
