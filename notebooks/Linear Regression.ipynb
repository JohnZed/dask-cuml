{
 "cells": [
  {
   "cell_type": "code",
   "execution_count": 1,
   "metadata": {},
   "outputs": [],
   "source": [
    "import cudf\n",
    "import dask_cudf"
   ]
  },
  {
   "cell_type": "code",
   "execution_count": 2,
   "metadata": {},
   "outputs": [],
   "source": [
    "import dask_cudf"
   ]
  },
  {
   "cell_type": "code",
   "execution_count": 3,
   "metadata": {},
   "outputs": [],
   "source": [
    "from dask_cuml.linear_regression import LinearRegression"
   ]
  },
  {
   "cell_type": "markdown",
   "metadata": {},
   "source": [
    "In order to run this notebook, you will first need to run a dask scheduler and number of dask workers:\n",
    "- Run a dask scheduler with:  ```dask-scheduler --scheduler-file=cluster.json```\n",
    "- Run N dask workers with:  ```mpirun -np N dask-mpi --no-nanny --nthreads 10 --no-scheduler --scheduler-file cluster.json```"
   ]
  },
  {
   "cell_type": "code",
   "execution_count": 4,
   "metadata": {},
   "outputs": [],
   "source": [
    "# from dask.distributed import Client\n",
    "# from dask_cuda import LocalCUDACluster\n",
    "# cluster = LocalCUDACluster(threads_per_worker = 10)"
   ]
  },
  {
   "cell_type": "code",
   "execution_count": 5,
   "metadata": {},
   "outputs": [
    {
     "data": {
      "text/html": [
       "<table style=\"border: 2px solid white;\">\n",
       "<tr>\n",
       "<td style=\"vertical-align: top; border: 0px solid white\">\n",
       "<h3>Client</h3>\n",
       "<ul>\n",
       "  <li><b>Scheduler: </b>tcp://10.2.169.115:8786\n",
       "  <li><b>Dashboard: </b><a href='http://10.2.169.115:8787/status' target='_blank'>http://10.2.169.115:8787/status</a>\n",
       "</ul>\n",
       "</td>\n",
       "<td style=\"vertical-align: top; border: 0px solid white\">\n",
       "<h3>Cluster</h3>\n",
       "<ul>\n",
       "  <li><b>Workers: </b>2</li>\n",
       "  <li><b>Cores: </b>2</li>\n",
       "  <li><b>Memory: </b>3.15 GB</li>\n",
       "</ul>\n",
       "</td>\n",
       "</tr>\n",
       "</table>"
      ],
      "text/plain": [
       "<Client: scheduler='tcp://10.2.169.115:8786' processes=2 cores=2>"
      ]
     },
     "execution_count": 5,
     "metadata": {},
     "output_type": "execute_result"
    }
   ],
   "source": [
    "from dask.distributed import Client\n",
    "client = Client(scheduler_file = \"../cluster.json\")\n",
    "client"
   ]
  },
  {
   "cell_type": "code",
   "execution_count": 6,
   "metadata": {},
   "outputs": [],
   "source": [
    "import numba.cuda\n",
    "\n",
    "devs = [i.id for i in numba.cuda.cudadrv.devices.gpus]\n",
    "workers = list(client.has_what().keys())\n",
    "worker_devs = workers[0:min(len(devs), len(workers))]"
   ]
  },
  {
   "cell_type": "code",
   "execution_count": 7,
   "metadata": {},
   "outputs": [],
   "source": [
    "def set_visible(i, n):\n",
    "    import os, numba.cuda\n",
    "    all_devices = list(range(n))\n",
    "    vd = \",\".join(map(str, all_devices[i:] + all_devices[:i]))\n",
    "    print(str(vd))\n",
    "#     numba.cuda.close()\n",
    "#     numba.cuda.select_device(i)\n",
    "    print(\"Selecting Device : \"  + str(i))\n",
    "    os.environ[\"CUDA_VISIBLE_DEVICES\"] = vd\n",
    "\n",
    "dev_assigned = [client.submit(set_visible, dev, len(devs), workers = [worker]) for dev, worker in zip(devs, worker_devs)]"
   ]
  },
  {
   "cell_type": "code",
   "execution_count": 8,
   "metadata": {},
   "outputs": [],
   "source": [
    "import pandas as pd\n",
    "\n",
    "X = cudf.DataFrame([('a', [0, 1, 2, 3, 4])])\n",
    "y = cudf.Series([0, 1, 2, 3, 4])\n"
   ]
  },
  {
   "cell_type": "code",
   "execution_count": 9,
   "metadata": {},
   "outputs": [],
   "source": [
    "X_df = dask_cudf.from_cudf(X, chunksize=1).persist()\n",
    "y_df = dask_cudf.from_cudf(y, chunksize=1).persist()"
   ]
  },
  {
   "cell_type": "code",
   "execution_count": 10,
   "metadata": {},
   "outputs": [
    {
     "data": {
      "text/plain": [
       "[<Future: status: pending, key: print_device-af84b63dafa485229733d1aa7ab786dc>,\n",
       " <Future: status: pending, key: print_device-5bbc7c68b3667dcce87c0821ea07dca1>,\n",
       " <Future: status: pending, key: print_device-46a57be1a2c4d11f701df66e0a14b324>,\n",
       " <Future: status: pending, key: print_device-6b58c60f59947b526028f2266c5c3fac>]"
      ]
     },
     "execution_count": 10,
     "metadata": {},
     "output_type": "execute_result"
    }
   ],
   "source": [
    "import numba.cuda\n",
    "import cuml\n",
    "def print_device(arr):\n",
    "    print(str(numba.cuda.get_current_device()))\n",
    "    print(str(cuml.device_of_ptr(arr.as_gpu_matrix(order=\"F\"))))\n",
    "    \n",
    "[client.submit(print_device, part) for part in X_df.to_delayed()]"
   ]
  },
  {
   "cell_type": "code",
   "execution_count": 11,
   "metadata": {},
   "outputs": [
    {
     "data": {
      "text/plain": [
       "{\"('from_cudf-5f454479d41448bf9d186c66edd28531', 0)\": ('tcp://10.2.169.115:35895',),\n",
       " \"('from_cudf-5f454479d41448bf9d186c66edd28531', 1)\": ('tcp://10.2.169.115:35905',),\n",
       " \"('from_cudf-5f454479d41448bf9d186c66edd28531', 2)\": ('tcp://10.2.169.115:35895',),\n",
       " \"('from_cudf-5f454479d41448bf9d186c66edd28531', 3)\": ('tcp://10.2.169.115:35905',),\n",
       " \"('from_cudf-d700984431fa4e05b60a88f2f0afe68b', 0)\": ('tcp://10.2.169.115:35895',),\n",
       " \"('from_cudf-d700984431fa4e05b60a88f2f0afe68b', 1)\": ('tcp://10.2.169.115:35905',),\n",
       " \"('from_cudf-d700984431fa4e05b60a88f2f0afe68b', 2)\": ('tcp://10.2.169.115:35895',),\n",
       " \"('from_cudf-d700984431fa4e05b60a88f2f0afe68b', 3)\": ('tcp://10.2.169.115:35905',),\n",
       " 'print_device-46a57be1a2c4d11f701df66e0a14b324': ('tcp://10.2.169.115:35895',),\n",
       " 'print_device-5bbc7c68b3667dcce87c0821ea07dca1': ('tcp://10.2.169.115:35905',),\n",
       " 'print_device-6b58c60f59947b526028f2266c5c3fac': ('tcp://10.2.169.115:35905',),\n",
       " 'print_device-af84b63dafa485229733d1aa7ab786dc': ('tcp://10.2.169.115:35895',),\n",
       " 'set_visible-0f93b76ccfacf0375d8dd7dc3765a73b': ('tcp://10.2.169.115:35905',),\n",
       " 'set_visible-7af257ef0b49533386a6b8e8f04abc06': ('tcp://10.2.169.115:35895',)}"
      ]
     },
     "execution_count": 11,
     "metadata": {},
     "output_type": "execute_result"
    }
   ],
   "source": [
    "client.who_has()"
   ]
  },
  {
   "cell_type": "markdown",
   "metadata": {},
   "source": [
    "Set each worker to host dfs on a different device. \n",
    "\n",
    "__Note__: You can ignore this if you started your workers with \"CUDA_VISIBLE_DEVICE\" already"
   ]
  },
  {
   "cell_type": "code",
   "execution_count": 12,
   "metadata": {},
   "outputs": [
    {
     "data": {
      "text/plain": [
       "{\"('from_cudf-5f454479d41448bf9d186c66edd28531', 0)\": ('tcp://10.2.169.115:35895',),\n",
       " \"('from_cudf-5f454479d41448bf9d186c66edd28531', 1)\": ('tcp://10.2.169.115:35905',),\n",
       " \"('from_cudf-5f454479d41448bf9d186c66edd28531', 2)\": ('tcp://10.2.169.115:35895',),\n",
       " \"('from_cudf-5f454479d41448bf9d186c66edd28531', 3)\": ('tcp://10.2.169.115:35905',),\n",
       " \"('from_cudf-d700984431fa4e05b60a88f2f0afe68b', 0)\": ('tcp://10.2.169.115:35895',),\n",
       " \"('from_cudf-d700984431fa4e05b60a88f2f0afe68b', 1)\": ('tcp://10.2.169.115:35905',),\n",
       " \"('from_cudf-d700984431fa4e05b60a88f2f0afe68b', 2)\": ('tcp://10.2.169.115:35895',),\n",
       " \"('from_cudf-d700984431fa4e05b60a88f2f0afe68b', 3)\": ('tcp://10.2.169.115:35905',),\n",
       " 'print_device-46a57be1a2c4d11f701df66e0a14b324': ('tcp://10.2.169.115:35895',),\n",
       " 'print_device-5bbc7c68b3667dcce87c0821ea07dca1': ('tcp://10.2.169.115:35905',),\n",
       " 'print_device-6b58c60f59947b526028f2266c5c3fac': ('tcp://10.2.169.115:35905',),\n",
       " 'print_device-af84b63dafa485229733d1aa7ab786dc': ('tcp://10.2.169.115:35895',),\n",
       " 'set_visible-0f93b76ccfacf0375d8dd7dc3765a73b': ('tcp://10.2.169.115:35905',),\n",
       " 'set_visible-7af257ef0b49533386a6b8e8f04abc06': ('tcp://10.2.169.115:35895',)}"
      ]
     },
     "execution_count": 12,
     "metadata": {},
     "output_type": "execute_result"
    }
   ],
   "source": [
    "client.who_has()"
   ]
  },
  {
   "cell_type": "code",
   "execution_count": 13,
   "metadata": {},
   "outputs": [],
   "source": [
    "lr = LinearRegression()"
   ]
  },
  {
   "cell_type": "code",
   "execution_count": 14,
   "metadata": {},
   "outputs": [
    {
     "name": "stdout",
     "output_type": "stream",
     "text": [
      "input_devarrays: [(('10.2.169.115', 35905), <Future: status: finished, type: tuple, key: inputs_to_device_arrays-c57804c210b323792f9e3a0e01d80f92>), (('10.2.169.115', 35895), <Future: status: finished, type: tuple, key: inputs_to_device_arrays-8b26cfe89bcc8411e145ecbd28532296>)]\n",
      "exec_node: ('10.2.169.115', 35905)\n",
      "ipc_handles: [<Future: status: pending, key: get_input_ipc_handles-141f095edef6e9a07b2f9aaf58e92d2f>]\n",
      "raw_arrays: [<Future: status: finished, type: tuple, key: inputs_to_device_arrays-c57804c210b323792f9e3a0e01d80f92>]\n"
     ]
    }
   ],
   "source": [
    "res = lr.fit(X_df, y_df)"
   ]
  },
  {
   "cell_type": "markdown",
   "metadata": {},
   "source": [
    "res"
   ]
  },
  {
   "cell_type": "code",
   "execution_count": 15,
   "metadata": {},
   "outputs": [
    {
     "data": {
      "text/plain": [
       "(('10.2.169.115', 35905),\n",
       " <Future: status: finished, type: DataFrame, key: get_result-3f40cd33d545d433cb9a950f571287a7>)"
      ]
     },
     "execution_count": 15,
     "metadata": {},
     "output_type": "execute_result"
    }
   ],
   "source": [
    "lr.coeffs"
   ]
  },
  {
   "cell_type": "code",
   "execution_count": 16,
   "metadata": {},
   "outputs": [
    {
     "name": "stdout",
     "output_type": "stream",
     "text": [
      "WORKER PARTS: [(('10.2.169.115', 35895), <Future: status: finished, type: DataFrame, key: ('from_cudf-d700984431fa4e05b60a88f2f0afe68b', 2)>), (('10.2.169.115', 35905), <Future: status: finished, type: DataFrame, key: ('from_cudf-d700984431fa4e05b60a88f2f0afe68b', 1)>), (('10.2.169.115', 35895), <Future: status: finished, type: DataFrame, key: ('from_cudf-d700984431fa4e05b60a88f2f0afe68b', 0)>), (('10.2.169.115', 35905), <Future: status: finished, type: DataFrame, key: ('from_cudf-d700984431fa4e05b60a88f2f0afe68b', 3)>)]\n",
      "ON WORKER: 2\n",
      "NOT ON WORKER: 2\n",
      "IPCHANDLES = [<Future: status: pending, key: get_ipc_handles-66845a393afb355ca4845c5513775262>, <Future: status: pending, key: get_ipc_handles-0206d11f2d2b9711861ad01e9010e72c>]\n",
      "RAW_ARRAYS=[<Future: status: pending, key: as_gpu_matrix-ec4d8871c36b13fb9affa8d5474e2b50>, <Future: status: pending, key: as_gpu_matrix-6ae517e1773eafd3c0baad05bf8bcd8b>]\n",
      "f=<Future: status: finished, type: tuple, key: _predict_on_worker-ac91a12a95b323e1acb5754963ed4416>\n"
     ]
    }
   ],
   "source": [
    "g = lr.predict(X_df)"
   ]
  },
  {
   "cell_type": "code",
   "execution_count": 17,
   "metadata": {},
   "outputs": [
    {
     "data": {
      "text/plain": [
       "tornado.gen.Return(<Future: status: finished, type: DataFrame, key: get_result-c8643821ba8456feeb528027ec070822>)"
      ]
     },
     "execution_count": 17,
     "metadata": {},
     "output_type": "execute_result"
    }
   ],
   "source": [
    "g"
   ]
  },
  {
   "cell_type": "code",
   "execution_count": null,
   "metadata": {},
   "outputs": [],
   "source": []
  },
  {
   "cell_type": "code",
   "execution_count": null,
   "metadata": {},
   "outputs": [],
   "source": []
  },
  {
   "cell_type": "code",
   "execution_count": null,
   "metadata": {},
   "outputs": [],
   "source": []
  }
 ],
 "metadata": {
  "kernelspec": {
   "display_name": "Python (cuml)",
   "language": "python",
   "name": "cuml"
  },
  "language_info": {
   "codemirror_mode": {
    "name": "ipython",
    "version": 3
   },
   "file_extension": ".py",
   "mimetype": "text/x-python",
   "name": "python",
   "nbconvert_exporter": "python",
   "pygments_lexer": "ipython3",
   "version": "3.5.6"
  }
 },
 "nbformat": 4,
 "nbformat_minor": 2
}
