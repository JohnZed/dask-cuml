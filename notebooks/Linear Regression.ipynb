{
 "cells": [
  {
   "cell_type": "code",
   "execution_count": 1,
   "metadata": {},
   "outputs": [],
   "source": []
  },
  {
   "cell_type": "markdown",
   "metadata": {},
   "source": [
    "In order to run this notebook, you will first need to run a dask scheduler and number of dask workers:\n",
    "- Run a dask scheduler with:  ```dask-scheduler --scheduler-file=cluster.json```\n",
    "- Run N dask workers with:  ```mpirun -np N dask-mpi --no-nanny --nthreads 10 --no-scheduler --scheduler-file cluster.json```"
   ]
  },
  {
   "cell_type": "code",
   "execution_count": 1,
   "metadata": {},
   "outputs": [],
   "source": [
    "from dask.distributed import Client\n"
   ]
  },
  {
   "cell_type": "code",
   "execution_count": 2,
   "metadata": {},
   "outputs": [],
   "source": [
    "# Run this if you want to run a cluster internally\n",
    "\n",
    "# from dask_cuda import LocalCUDACluster\n",
    "# cluster = LocalCUDACluster(threads_per_worker = 1)\n",
    "\n",
    "# client = Client(cluster)\n",
    "# client"
   ]
  },
  {
   "cell_type": "code",
   "execution_count": 3,
   "metadata": {},
   "outputs": [],
   "source": [
    "# Run this if you are using an MPI-based cluster\n",
    "client = Client(scheduler_file=\"cluster.json\")"
   ]
  },
  {
   "cell_type": "code",
   "execution_count": 4,
   "metadata": {},
   "outputs": [],
   "source": [
    "\n",
    "devs = [0, 1]\n",
    "workers = list(client.has_what().keys())\n",
    "worker_devs = workers[0:min(len(devs), len(workers))]"
   ]
  },
  {
   "cell_type": "code",
   "execution_count": null,
   "metadata": {},
   "outputs": [],
   "source": []
  },
  {
   "cell_type": "code",
   "execution_count": 5,
   "metadata": {},
   "outputs": [],
   "source": [
    "def set_visible(i, n):\n",
    "    import os\n",
    "    all_devices = list(range(n))\n",
    "    vd = \",\".join(map(str, all_devices[i:] + all_devices[:i]))\n",
    "    print(str(vd))\n",
    "    print(\"Selecting Device : \"  + str(i))\n",
    "    os.environ[\"CUDA_VISIBLE_DEVICES\"] = vd\n",
    "    \n",
    "    import numba.cuda\n",
    "    print(\"Cur device: \" + str(numba.cuda.get_current_device().id))\n",
    "    \n",
    "dev_assigned = [client.submit(set_visible, dev, len(devs), workers = [worker]) for dev, worker in zip(devs, worker_devs)]"
   ]
  },
  {
   "cell_type": "code",
   "execution_count": 6,
   "metadata": {},
   "outputs": [],
   "source": [
    "import cudf\n",
    "import dask_cudf\n",
    "import numba.cuda\n",
    "from dask_cuml.linear_regression import LinearRegression"
   ]
  },
  {
   "cell_type": "code",
   "execution_count": 7,
   "metadata": {},
   "outputs": [
    {
     "name": "stdout",
     "output_type": "stream",
     "text": [
      "[<Future: status: finished, type: NoneType, key: set_visible-8e4386533916266bf607bb3518c945d4>, <Future: status: finished, type: NoneType, key: set_visible-2202c4a38e62dd9f3d1ca93dd67fd403>]\n"
     ]
    }
   ],
   "source": [
    "print(str(dev_assigned))"
   ]
  },
  {
   "cell_type": "code",
   "execution_count": 8,
   "metadata": {},
   "outputs": [],
   "source": [
    "import pandas as pd\n",
    "\n",
    "X = cudf.DataFrame([('a', [0, 1, 2, 3, 4])])\n",
    "y = cudf.Series([0, 1, 2, 3, 4])\n"
   ]
  },
  {
   "cell_type": "code",
   "execution_count": 9,
   "metadata": {},
   "outputs": [],
   "source": [
    "X_df = dask_cudf.from_cudf(X, chunksize=1).persist()\n",
    "y_df = dask_cudf.from_cudf(y, chunksize=1).persist()"
   ]
  },
  {
   "cell_type": "code",
   "execution_count": 10,
   "metadata": {},
   "outputs": [
    {
     "data": {
      "text/plain": [
       "{\"('from_cudf-bdff18dec26c49c8ba3174bf4754d1e9', 3)\": ('tcp://10.2.166.167:37438',),\n",
       " \"('from_cudf-bdff18dec26c49c8ba3174bf4754d1e9', 0)\": ('tcp://10.2.166.167:37438',\n",
       "  'tcp://10.2.166.167:34338'),\n",
       " \"('from_cudf-bdff18dec26c49c8ba3174bf4754d1e9', 1)\": ('tcp://10.2.166.167:34338',),\n",
       " \"('from_cudf-bdff18dec26c49c8ba3174bf4754d1e9', 2)\": ('tcp://10.2.166.167:37438',\n",
       "  'tcp://10.2.166.167:34338'),\n",
       " 'set_visible-8e4386533916266bf607bb3518c945d4': ('tcp://10.2.166.167:34338',),\n",
       " 'set_visible-2202c4a38e62dd9f3d1ca93dd67fd403': ('tcp://10.2.166.167:37438',),\n",
       " \"('from_cudf-751bbd7c13a7491ea1843aaec30aada5', 3)\": ('tcp://10.2.166.167:37438',),\n",
       " \"('from_cudf-751bbd7c13a7491ea1843aaec30aada5', 0)\": ('tcp://10.2.166.167:34338',),\n",
       " \"('from_cudf-751bbd7c13a7491ea1843aaec30aada5', 2)\": ('tcp://10.2.166.167:34338',),\n",
       " \"('from_cudf-751bbd7c13a7491ea1843aaec30aada5', 1)\": ('tcp://10.2.166.167:37438',),\n",
       " \"('from_cudf-5e3cf33ba2814744b81659876e8733d4', 0)\": (),\n",
       " \"('from_cudf-5e3cf33ba2814744b81659876e8733d4', 3)\": (),\n",
       " \"('from_cudf-5e3cf33ba2814744b81659876e8733d4', 1)\": (),\n",
       " \"('from_cudf-5e3cf33ba2814744b81659876e8733d4', 2)\": ()}"
      ]
     },
     "execution_count": 10,
     "metadata": {},
     "output_type": "execute_result"
    }
   ],
   "source": [
    "client.who_has()"
   ]
  },
  {
   "cell_type": "code",
   "execution_count": 11,
   "metadata": {},
   "outputs": [
    {
     "data": {
      "text/plain": [
       "[<Future: status: pending, key: print_device-8b5a7dcb5465332af4a16d6856dfea63>,\n",
       " <Future: status: pending, key: print_device-b220cbbf33113d7480cd677025796438>,\n",
       " <Future: status: pending, key: print_device-ab1d7384a28fa063d207db424ee22a27>,\n",
       " <Future: status: pending, key: print_device-fb64a22a131560684e3b7cfd435436b2>]"
      ]
     },
     "execution_count": 11,
     "metadata": {},
     "output_type": "execute_result"
    }
   ],
   "source": [
    "import numba.cuda\n",
    "import cuml\n",
    "\n",
    "def print_device(arr):\n",
    "    \n",
    "    import os\n",
    "    dev = arr.compute().as_gpu_matrix(order=\"F\")\n",
    "    \n",
    "    print(\"CUDA_VISIBLE_DEVICES: \"+ str(os.environ[\"CUDA_VISIBLE_DEVICES\"]))\n",
    "    print(\"ARRAY: \"+ str(dev))\n",
    "    print(\"CUR DEVICE: \" + str(numba.cuda.get_current_device().id))\n",
    "    print(\"Pointer Device: \"  + str(cuml.device_of_ptr(dev)))\n",
    "    \n",
    "[client.submit(print_device, part) for part in X_df.to_delayed()]"
   ]
  },
  {
   "cell_type": "markdown",
   "metadata": {},
   "source": [
    "Set each worker to host dfs on a different device. \n",
    "\n",
    "__Note__: You can ignore this if you started your workers with \"CUDA_VISIBLE_DEVICE\" already"
   ]
  },
  {
   "cell_type": "code",
   "execution_count": 12,
   "metadata": {},
   "outputs": [
    {
     "data": {
      "text/plain": [
       "{\"('from_cudf-bdff18dec26c49c8ba3174bf4754d1e9', 3)\": ('tcp://10.2.166.167:37438',),\n",
       " \"('from_cudf-bdff18dec26c49c8ba3174bf4754d1e9', 0)\": ('tcp://10.2.166.167:37438',\n",
       "  'tcp://10.2.166.167:34338'),\n",
       " \"('from_cudf-bdff18dec26c49c8ba3174bf4754d1e9', 1)\": ('tcp://10.2.166.167:34338',),\n",
       " \"('from_cudf-bdff18dec26c49c8ba3174bf4754d1e9', 2)\": ('tcp://10.2.166.167:37438',\n",
       "  'tcp://10.2.166.167:34338'),\n",
       " 'set_visible-8e4386533916266bf607bb3518c945d4': ('tcp://10.2.166.167:34338',),\n",
       " 'set_visible-2202c4a38e62dd9f3d1ca93dd67fd403': ('tcp://10.2.166.167:37438',),\n",
       " \"('from_cudf-751bbd7c13a7491ea1843aaec30aada5', 3)\": ('tcp://10.2.166.167:37438',),\n",
       " \"('from_cudf-751bbd7c13a7491ea1843aaec30aada5', 0)\": ('tcp://10.2.166.167:34338',),\n",
       " \"('from_cudf-751bbd7c13a7491ea1843aaec30aada5', 2)\": ('tcp://10.2.166.167:34338',),\n",
       " \"('from_cudf-751bbd7c13a7491ea1843aaec30aada5', 1)\": ('tcp://10.2.166.167:37438',),\n",
       " \"('from_cudf-5e3cf33ba2814744b81659876e8733d4', 0)\": ('tcp://10.2.166.167:34338',),\n",
       " \"('from_cudf-5e3cf33ba2814744b81659876e8733d4', 3)\": ('tcp://10.2.166.167:37438',),\n",
       " \"('from_cudf-5e3cf33ba2814744b81659876e8733d4', 1)\": ('tcp://10.2.166.167:37438',),\n",
       " \"('from_cudf-5e3cf33ba2814744b81659876e8733d4', 2)\": ('tcp://10.2.166.167:34338',),\n",
       " 'print_device-8b5a7dcb5465332af4a16d6856dfea63': ('tcp://10.2.166.167:34338',),\n",
       " 'print_device-b220cbbf33113d7480cd677025796438': ('tcp://10.2.166.167:37438',),\n",
       " 'print_device-ab1d7384a28fa063d207db424ee22a27': ('tcp://10.2.166.167:34338',),\n",
       " 'print_device-fb64a22a131560684e3b7cfd435436b2': ('tcp://10.2.166.167:37438',)}"
      ]
     },
     "execution_count": 12,
     "metadata": {},
     "output_type": "execute_result"
    }
   ],
   "source": [
    "client.who_has()"
   ]
  },
  {
   "cell_type": "code",
   "execution_count": 13,
   "metadata": {},
   "outputs": [],
   "source": [
    "lr = LinearRegression()"
   ]
  },
  {
   "cell_type": "code",
   "execution_count": 14,
   "metadata": {},
   "outputs": [
    {
     "name": "stdout",
     "output_type": "stream",
     "text": [
      "input_devarrays: [(('10.2.166.167', 37438), <Future: status: finished, type: tuple, key: inputs_to_device_arrays-21892f99bd54160d77ffdd9a9c0d3a37>), (('10.2.166.167', 34338), <Future: status: finished, type: tuple, key: inputs_to_device_arrays-18642eed9eb3ae3f19d18b73cf62e915>)]\n",
      "exec_node: ('10.2.166.167', 37438)\n",
      "ipc_handles: [<Future: status: pending, key: get_input_ipc_handles-f271d9e7753aae5871793f1c3ca19651>]\n",
      "raw_arrays: [<Future: status: finished, type: tuple, key: inputs_to_device_arrays-21892f99bd54160d77ffdd9a9c0d3a37>]\n",
      "COEFS: (('10.2.166.167', 37438), <Future: status: pending, key: extract_part-38d55b7c20d766af6a21c55b987097ca>)\n",
      "INTER: <Future: status: pending, key: extract_part-70391139f059fd10cc685d5b7f4ed172>\n",
      "RES: <Future: status: pending, key: extract_part-70391139f059fd10cc685d5b7f4ed172>\n"
     ]
    }
   ],
   "source": [
    "res = lr.fit(X_df, y_df)"
   ]
  },
  {
   "cell_type": "markdown",
   "metadata": {},
   "source": [
    "res"
   ]
  },
  {
   "cell_type": "code",
   "execution_count": 15,
   "metadata": {},
   "outputs": [
    {
     "data": {
      "text/plain": [
       "5"
      ]
     },
     "execution_count": 15,
     "metadata": {},
     "output_type": "execute_result"
    }
   ],
   "source": [
    "lr.intercept_.result()"
   ]
  },
  {
   "cell_type": "code",
   "execution_count": 16,
   "metadata": {},
   "outputs": [
    {
     "data": {
      "text/plain": [
       "{\"('from_cudf-22fc16f999e94fb0963f7d2862829bea', 0)\": ('tcp://10.2.166.167:35885',),\n",
       " \"('from_cudf-22fc16f999e94fb0963f7d2862829bea', 1)\": ('tcp://10.2.166.167:35885',),\n",
       " \"('from_cudf-22fc16f999e94fb0963f7d2862829bea', 2)\": ('tcp://10.2.166.167:35885',),\n",
       " \"('from_cudf-22fc16f999e94fb0963f7d2862829bea', 3)\": ('tcp://10.2.166.167:35885',),\n",
       " 'set_visible-8e4386533916266bf607bb3518c945d4': ('tcp://10.2.166.167:35885',),\n",
       " 'set_visible-2202c4a38e62dd9f3d1ca93dd67fd403': ('tcp://10.2.166.167:39866',),\n",
       " \"('from_cudf-e0beaddeee4f4d4cb846ea01674b80c7', 0)\": ('tcp://10.2.166.167:35885',),\n",
       " \"('from_cudf-e0beaddeee4f4d4cb846ea01674b80c7', 2)\": ('tcp://10.2.166.167:35885',),\n",
       " \"('from_cudf-e0beaddeee4f4d4cb846ea01674b80c7', 1)\": ('tcp://10.2.166.167:39866',),\n",
       " \"('from_cudf-e0beaddeee4f4d4cb846ea01674b80c7', 3)\": ('tcp://10.2.166.167:39866',),\n",
       " \"('from_cudf-c28c2f1d82444d8bba560c39f8be3bef', 3)\": ('tcp://10.2.166.167:39866',),\n",
       " \"('from_cudf-c28c2f1d82444d8bba560c39f8be3bef', 2)\": ('tcp://10.2.166.167:35885',),\n",
       " \"('from_cudf-c28c2f1d82444d8bba560c39f8be3bef', 1)\": ('tcp://10.2.166.167:39866',),\n",
       " \"('from_cudf-c28c2f1d82444d8bba560c39f8be3bef', 0)\": ('tcp://10.2.166.167:35885',),\n",
       " 'print_device-bca992e49b239f74aba0ad2e6c5276d4': ('tcp://10.2.166.167:35885',),\n",
       " 'print_device-8bb52ba58f4f1446090fd055f1feee66': ('tcp://10.2.166.167:39866',),\n",
       " 'print_device-a66de1b8227a360f65a85e08de6119a7': ('tcp://10.2.166.167:35885',),\n",
       " 'print_device-a10e0ce92dc078cbf2036bced6483975': ('tcp://10.2.166.167:39866',),\n",
       " 'tuple-ef3632c8-f22e-476b-9c20-57b284f6dacf': (),\n",
       " 'tuple-f1ed613c-b600-4f5d-8f36-7355e86c3f7f': (),\n",
       " 'tuple-af190ba9-58ce-491c-8e25-b2be7837b342': (),\n",
       " 'tuple-63ecbe41-65fb-46b8-a598-6ae4f3f489ce': (),\n",
       " 'inputs_to_device_arrays-d8bd28d290f2add40fa1154e12bffb66': (),\n",
       " 'inputs_to_device_arrays-8b81eae07a197c9c74a53fb564918e58': (),\n",
       " 'get_input_ipc_handles-104e7600f77f14d80e67daac977de5b3': (),\n",
       " '_fit_on_worker-9a557fd73e9c6005e223b31a973fedc7': (),\n",
       " 'get_result-a988307647c3f89893a3fb746efc3f16': (),\n",
       " 'extract_part-75ec74065210ffaaaad2dae256747bf2': ('tcp://10.2.166.167:35885',),\n",
       " 'extract_part-44d34d92e05eecc5d2d5249991305a69': ('tcp://10.2.166.167:35885',)}"
      ]
     },
     "execution_count": 16,
     "metadata": {},
     "output_type": "execute_result"
    }
   ],
   "source": [
    "client.who_has()"
   ]
  },
  {
   "cell_type": "code",
   "execution_count": 17,
   "metadata": {},
   "outputs": [
    {
     "name": "stdout",
     "output_type": "stream",
     "text": [
      "WORKER PARTS: [(('10.2.166.167', 35885), <Future: status: finished, type: DataFrame, key: ('from_cudf-e0beaddeee4f4d4cb846ea01674b80c7', 0)>), (('10.2.166.167', 39866), <Future: status: finished, type: DataFrame, key: ('from_cudf-e0beaddeee4f4d4cb846ea01674b80c7', 3)>), (('10.2.166.167', 39866), <Future: status: finished, type: DataFrame, key: ('from_cudf-e0beaddeee4f4d4cb846ea01674b80c7', 1)>), (('10.2.166.167', 35885), <Future: status: finished, type: DataFrame, key: ('from_cudf-e0beaddeee4f4d4cb846ea01674b80c7', 2)>)]\n",
      "ON WORKER: 2\n",
      "NOT ON WORKER: 2\n",
      "IPCHANDLES = [<Future: status: pending, key: get_ipc_handles-a288dc3638b6e9696be564cf0f6931f4>, <Future: status: pending, key: get_ipc_handles-1c3a3ed10dd420ffb8abcf6d9146ce8e>]\n",
      "RAW_ARRAYS=[<Future: status: pending, key: as_gpu_matrix-dd5400ec92937f042fc946605823e45e>, <Future: status: pending, key: as_gpu_matrix-02df0c8a01ff23c4ba639e1a134b01cc>]\n",
      "f=<Future: status: finished, type: tuple, key: _predict_on_worker-e6d346f2546c817050614970f9f2e283>\n"
     ]
    }
   ],
   "source": [
    "g = lr.predict(X_df)"
   ]
  },
  {
   "cell_type": "code",
   "execution_count": 18,
   "metadata": {},
   "outputs": [
    {
     "name": "stdout",
     "output_type": "stream",
     "text": [
      "      \n",
      "0    1\n",
      "1    2\n",
      "2    3\n",
      "3    4\n",
      "4    5\n"
     ]
    }
   ],
   "source": [
    "print(str(g.result()))"
   ]
  },
  {
   "cell_type": "code",
   "execution_count": null,
   "metadata": {},
   "outputs": [],
   "source": []
  },
  {
   "cell_type": "code",
   "execution_count": null,
   "metadata": {},
   "outputs": [],
   "source": []
  },
  {
   "cell_type": "code",
   "execution_count": null,
   "metadata": {},
   "outputs": [],
   "source": []
  }
 ],
 "metadata": {
  "kernelspec": {
   "display_name": "Python 3",
   "language": "python",
   "name": "python3"
  },
  "language_info": {
   "codemirror_mode": {
    "name": "ipython",
    "version": 3
   },
   "file_extension": ".py",
   "mimetype": "text/x-python",
   "name": "python",
   "nbconvert_exporter": "python",
   "pygments_lexer": "ipython3",
   "version": "3.6.6"
  }
 },
 "nbformat": 4,
 "nbformat_minor": 2
}
