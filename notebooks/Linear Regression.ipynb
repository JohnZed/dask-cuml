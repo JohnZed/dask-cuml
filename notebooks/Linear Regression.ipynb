{
 "cells": [
  {
   "cell_type": "code",
   "execution_count": 1,
   "metadata": {},
   "outputs": [],
   "source": [
    "import cudf\n",
    "import dask_cudf"
   ]
  },
  {
   "cell_type": "code",
   "execution_count": 1,
   "metadata": {},
   "outputs": [],
   "source": [
    "import dask_cudf"
   ]
  },
  {
   "cell_type": "code",
   "execution_count": 3,
   "metadata": {},
   "outputs": [],
   "source": [
    "from dask_cuml.linear_regression import LinearRegression"
   ]
  },
  {
   "cell_type": "markdown",
   "metadata": {},
   "source": [
    "In order to run this notebook, you will first need to run a dask scheduler and number of dask workers:\n",
    "- Run a dask scheduler with:  ```dask-scheduler --scheduler-file=cluster.json```\n",
    "- Run N dask workers with:  ```mpirun -np N dask-mpi --no-nanny --nthreads 10 --no-scheduler --scheduler-file cluster.json```"
   ]
  },
  {
   "cell_type": "code",
   "execution_count": 4,
   "metadata": {},
   "outputs": [],
   "source": [
    "# from dask.distributed import Client\n",
    "# from dask_cuda import LocalCUDACluster\n",
    "# cluster = LocalCUDACluster(threads_per_worker = 10)"
   ]
  },
  {
   "cell_type": "code",
   "execution_count": 5,
   "metadata": {},
   "outputs": [
    {
     "data": {
      "text/html": [
       "<table style=\"border: 2px solid white;\">\n",
       "<tr>\n",
       "<td style=\"vertical-align: top; border: 0px solid white\">\n",
       "<h3>Client</h3>\n",
       "<ul>\n",
       "  <li><b>Scheduler: </b>tcp://10.2.169.115:8786\n",
       "  <li><b>Dashboard: </b><a href='http://10.2.169.115:8787/status' target='_blank'>http://10.2.169.115:8787/status</a>\n",
       "</ul>\n",
       "</td>\n",
       "<td style=\"vertical-align: top; border: 0px solid white\">\n",
       "<h3>Cluster</h3>\n",
       "<ul>\n",
       "  <li><b>Workers: </b>2</li>\n",
       "  <li><b>Cores: </b>2</li>\n",
       "  <li><b>Memory: </b>3.15 GB</li>\n",
       "</ul>\n",
       "</td>\n",
       "</tr>\n",
       "</table>"
      ],
      "text/plain": [
       "<Client: scheduler='tcp://10.2.169.115:8786' processes=2 cores=2>"
      ]
     },
     "execution_count": 5,
     "metadata": {},
     "output_type": "execute_result"
    }
   ],
   "source": [
    "from dask.distributed import Client\n",
    "client = Client(scheduler_file = \"../cluster.json\")\n",
    "client"
   ]
  },
  {
   "cell_type": "code",
   "execution_count": 6,
   "metadata": {},
   "outputs": [],
   "source": [
    "import numba.cuda\n",
    "\n",
    "devs = [i.id for i in numba.cuda.cudadrv.devices.gpus]\n",
    "workers = list(client.has_what().keys())\n",
    "worker_devs = workers[0:min(len(devs), len(workers))]"
   ]
  },
  {
   "cell_type": "code",
   "execution_count": 7,
   "metadata": {},
   "outputs": [],
   "source": [
    "def set_visible(i, n):\n",
    "    import os, numba.cuda\n",
    "    all_devices = list(range(n))\n",
    "    vd = \",\".join(map(str, all_devices[i:] + all_devices[:i]))\n",
    "    print(str(vd))\n",
    "#     numba.cuda.close()\n",
    "#     numba.cuda.select_device(i)\n",
    "    print(\"Selecting Device : \"  + str(i))\n",
    "    os.environ[\"CUDA_VISIBLE_DEVICES\"] = vd\n",
    "\n",
    "dev_assigned = [client.submit(set_visible, dev, len(devs), workers = [worker]) for dev, worker in zip(devs, worker_devs)]"
   ]
  },
  {
   "cell_type": "code",
   "execution_count": 6,
   "metadata": {},
   "outputs": [],
   "source": [
    "import pandas as pd\n",
    "\n",
    "X = cudf.DataFrame([('a', [0, 1, 2, 3, 4])])\n",
    "y = cudf.Series([0, 1, 2, 3, 4])\n"
   ]
  },
  {
   "cell_type": "code",
   "execution_count": 7,
   "metadata": {},
   "outputs": [],
   "source": [
    "X_df = dask_cudf.from_cudf(X, chunksize=1).persist()\n",
    "y_df = dask_cudf.from_cudf(y, chunksize=1).persist()"
   ]
  },
  {
   "cell_type": "code",
   "execution_count": 8,
   "metadata": {},
   "outputs": [
    {
     "data": {
      "text/plain": [
       "[<Future: status: pending, key: print_device-c34f15e6fd3fc6f7d125ba3b1a3e363b>,\n",
       " <Future: status: pending, key: print_device-c584118bee36d9d292c441f4b4c25fb6>,\n",
       " <Future: status: pending, key: print_device-ebd028d04b13df478cf8ebc0f312e06c>,\n",
       " <Future: status: pending, key: print_device-27656b9731ade4c15c6dbcb9e9a05323>]"
      ]
     },
     "execution_count": 8,
     "metadata": {},
     "output_type": "execute_result"
    }
   ],
   "source": [
    "import numba.cuda\n",
    "import cuml\n",
    "def print_device(arr):\n",
    "    print(str(numba.cuda.get_current_device()))\n",
    "    print(str(cuml.device_of_ptr(arr.as_gpu_matrix(order=\"F\"))))\n",
    "    \n",
    "[client.submit(print_device, part) for part in X_df.to_delayed()]"
   ]
  },
  {
   "cell_type": "code",
   "execution_count": 9,
   "metadata": {},
   "outputs": [
    {
     "data": {
      "text/plain": [
       "{\"('from_cudf-2c6f7a8407df4197b7e7089ef5437d50', 0)\": ('tcp://10.2.169.115:35895',),\n",
       " \"('from_cudf-2c6f7a8407df4197b7e7089ef5437d50', 1)\": ('tcp://10.2.169.115:35905',),\n",
       " \"('from_cudf-2c6f7a8407df4197b7e7089ef5437d50', 2)\": ('tcp://10.2.169.115:35895',),\n",
       " \"('from_cudf-2c6f7a8407df4197b7e7089ef5437d50', 3)\": ('tcp://10.2.169.115:35905',),\n",
       " \"('from_cudf-ac3ac804029d47f5a38602d3af76b3a1', 0)\": ('tcp://10.2.169.115:35895',),\n",
       " \"('from_cudf-ac3ac804029d47f5a38602d3af76b3a1', 1)\": ('tcp://10.2.169.115:35905',),\n",
       " \"('from_cudf-ac3ac804029d47f5a38602d3af76b3a1', 2)\": ('tcp://10.2.169.115:35895',),\n",
       " \"('from_cudf-ac3ac804029d47f5a38602d3af76b3a1', 3)\": ('tcp://10.2.169.115:35905',),\n",
       " 'print_device-27656b9731ade4c15c6dbcb9e9a05323': ('tcp://10.2.169.115:35905',),\n",
       " 'print_device-c34f15e6fd3fc6f7d125ba3b1a3e363b': ('tcp://10.2.169.115:35895',),\n",
       " 'print_device-c584118bee36d9d292c441f4b4c25fb6': ('tcp://10.2.169.115:35905',),\n",
       " 'print_device-ebd028d04b13df478cf8ebc0f312e06c': ('tcp://10.2.169.115:35895',)}"
      ]
     },
     "execution_count": 9,
     "metadata": {},
     "output_type": "execute_result"
    }
   ],
   "source": [
    "client.who_has()"
   ]
  },
  {
   "cell_type": "markdown",
   "metadata": {},
   "source": [
    "Set each worker to host dfs on a different device. \n",
    "\n",
    "__Note__: You can ignore this if you started your workers with \"CUDA_VISIBLE_DEVICE\" already"
   ]
  },
  {
   "cell_type": "code",
   "execution_count": 10,
   "metadata": {},
   "outputs": [
    {
     "data": {
      "text/plain": [
       "{\"('from_cudf-2c6f7a8407df4197b7e7089ef5437d50', 0)\": ('tcp://10.2.169.115:35895',),\n",
       " \"('from_cudf-2c6f7a8407df4197b7e7089ef5437d50', 1)\": ('tcp://10.2.169.115:35905',),\n",
       " \"('from_cudf-2c6f7a8407df4197b7e7089ef5437d50', 2)\": ('tcp://10.2.169.115:35895',),\n",
       " \"('from_cudf-2c6f7a8407df4197b7e7089ef5437d50', 3)\": ('tcp://10.2.169.115:35905',),\n",
       " \"('from_cudf-ac3ac804029d47f5a38602d3af76b3a1', 0)\": ('tcp://10.2.169.115:35895',),\n",
       " \"('from_cudf-ac3ac804029d47f5a38602d3af76b3a1', 1)\": ('tcp://10.2.169.115:35905',),\n",
       " \"('from_cudf-ac3ac804029d47f5a38602d3af76b3a1', 2)\": ('tcp://10.2.169.115:35895',),\n",
       " \"('from_cudf-ac3ac804029d47f5a38602d3af76b3a1', 3)\": ('tcp://10.2.169.115:35905',),\n",
       " 'print_device-27656b9731ade4c15c6dbcb9e9a05323': ('tcp://10.2.169.115:35905',),\n",
       " 'print_device-c34f15e6fd3fc6f7d125ba3b1a3e363b': ('tcp://10.2.169.115:35895',),\n",
       " 'print_device-c584118bee36d9d292c441f4b4c25fb6': ('tcp://10.2.169.115:35905',),\n",
       " 'print_device-ebd028d04b13df478cf8ebc0f312e06c': ('tcp://10.2.169.115:35895',)}"
      ]
     },
     "execution_count": 10,
     "metadata": {},
     "output_type": "execute_result"
    }
   ],
   "source": [
    "client.who_has()"
   ]
  },
  {
   "cell_type": "code",
   "execution_count": 36,
   "metadata": {},
   "outputs": [],
   "source": [
    "lr = LinearRegression()"
   ]
  },
  {
   "cell_type": "code",
   "execution_count": 37,
   "metadata": {},
   "outputs": [
    {
     "name": "stdout",
     "output_type": "stream",
     "text": [
      "input_devarrays: [(('10.2.169.115', 35905), <Future: status: finished, type: tuple, key: inputs_to_device_arrays-88e71bd4dab6703c6f780baf2246f006>), (('10.2.169.115', 35895), <Future: status: finished, type: tuple, key: inputs_to_device_arrays-1a7130e6bad11794760470e944f840b8>)]\n",
      "exec_node: ('10.2.169.115', 35905)\n",
      "ipc_handles: [<Future: status: pending, key: get_input_ipc_handles-e35559334da11da3761684ae75174a27>]\n",
      "raw_arrays: [<Future: status: finished, type: tuple, key: inputs_to_device_arrays-88e71bd4dab6703c6f780baf2246f006>]\n"
     ]
    }
   ],
   "source": [
    "res = lr.fit(X_df, y_df)"
   ]
  },
  {
   "cell_type": "markdown",
   "metadata": {},
   "source": [
    "res"
   ]
  },
  {
   "cell_type": "code",
   "execution_count": 38,
   "metadata": {},
   "outputs": [
    {
     "data": {
      "text/plain": [
       "(('10.2.169.115', 35905),\n",
       " <Future: status: finished, type: DataFrame, key: get_result-ca14e26343e472a5e7e23faf971f9616>)"
      ]
     },
     "execution_count": 38,
     "metadata": {},
     "output_type": "execute_result"
    }
   ],
   "source": [
    "lr.coeffs"
   ]
  },
  {
   "cell_type": "code",
   "execution_count": 39,
   "metadata": {},
   "outputs": [
    {
     "name": "stdout",
     "output_type": "stream",
     "text": [
      "WORKER PARTS: [(('10.2.169.115', 35895), <Future: status: finished, type: DataFrame, key: ('from_cudf-2c6f7a8407df4197b7e7089ef5437d50', 2)>), (('10.2.169.115', 35895), <Future: status: finished, type: DataFrame, key: ('from_cudf-2c6f7a8407df4197b7e7089ef5437d50', 0)>), (('10.2.169.115', 35905), <Future: status: finished, type: DataFrame, key: ('from_cudf-2c6f7a8407df4197b7e7089ef5437d50', 3)>), (('10.2.169.115', 35905), <Future: status: finished, type: DataFrame, key: ('from_cudf-2c6f7a8407df4197b7e7089ef5437d50', 1)>)]\n",
      "ON WORKER: 2\n",
      "NOT ON WORKER: 2\n",
      "IPCHANDLES = [<Future: status: pending, key: get_ipc_handles-ef582c8cab4ddab14801ceae1ee3bdb2>, <Future: status: pending, key: get_ipc_handles-66a8f423966f01f911e2c1b70cd960a9>]\n",
      "RAW_ARRAYS=[<Future: status: pending, key: as_gpu_matrix-c0bd179ad91a32029360d71a5fd01940>, <Future: status: pending, key: as_gpu_matrix-398e5b3890e9b428592dad5e4ec64a3d>]\n",
      "f=<Future: status: finished, type: tuple, key: _predict_on_worker-1a85ea1c3fae3d8a84cd5c8bb684701a>\n"
     ]
    }
   ],
   "source": [
    "g = lr.predict(X_df)"
   ]
  },
  {
   "cell_type": "code",
   "execution_count": 40,
   "metadata": {},
   "outputs": [
    {
     "data": {
      "text/plain": [
       "tornado.gen.Return(<Future: status: finished, type: DataFrame, key: get_result-bad65ddc85a3d7da59504eb5fbeaf837>)"
      ]
     },
     "execution_count": 40,
     "metadata": {},
     "output_type": "execute_result"
    }
   ],
   "source": [
    "g"
   ]
  },
  {
   "cell_type": "code",
   "execution_count": null,
   "metadata": {},
   "outputs": [],
   "source": []
  },
  {
   "cell_type": "code",
   "execution_count": null,
   "metadata": {},
   "outputs": [],
   "source": []
  },
  {
   "cell_type": "code",
   "execution_count": null,
   "metadata": {},
   "outputs": [],
   "source": []
  }
 ],
 "metadata": {
  "kernelspec": {
   "display_name": "Python (cuml)",
   "language": "python",
   "name": "cuml"
  },
  "language_info": {
   "codemirror_mode": {
    "name": "ipython",
    "version": 3
   },
   "file_extension": ".py",
   "mimetype": "text/x-python",
   "name": "python",
   "nbconvert_exporter": "python",
   "pygments_lexer": "ipython3",
   "version": "3.5.6"
  }
 },
 "nbformat": 4,
 "nbformat_minor": 2
}
