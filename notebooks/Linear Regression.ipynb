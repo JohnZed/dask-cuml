{
 "cells": [
  {
   "cell_type": "code",
   "execution_count": 1,
   "metadata": {},
   "outputs": [],
   "source": [
    "import cudf\n",
    "import dask_cudf"
   ]
  },
  {
   "cell_type": "code",
   "execution_count": 2,
   "metadata": {},
   "outputs": [],
   "source": [
    "import dask_cudf"
   ]
  },
  {
   "cell_type": "code",
   "execution_count": 3,
   "metadata": {},
   "outputs": [],
   "source": [
    "from dask_cuml.linear_regression import LinearRegression"
   ]
  },
  {
   "cell_type": "markdown",
   "metadata": {},
   "source": [
    "In order to run this notebook, you will first need to run a dask scheduler and number of dask workers:\n",
    "- Run a dask scheduler with:  ```dask-scheduler --scheduler-file=cluster.json```\n",
    "- Run N dask workers with:  ```mpirun -np N dask-mpi --no-nanny --nthreads 10 --no-scheduler --scheduler-file cluster.json```"
   ]
  },
  {
   "cell_type": "code",
   "execution_count": 4,
   "metadata": {},
   "outputs": [],
   "source": [
    "from dask_cuda import LocalCUDACluster\n",
    "cluster = LocalCUDACluster(threads_per_worker = 10)\n"
   ]
  },
  {
   "cell_type": "code",
   "execution_count": 5,
   "metadata": {},
   "outputs": [
    {
     "data": {
      "text/html": [
       "<table style=\"border: 2px solid white;\">\n",
       "<tr>\n",
       "<td style=\"vertical-align: top; border: 0px solid white\">\n",
       "<h3>Client</h3>\n",
       "<ul>\n",
       "  <li><b>Scheduler: </b>tcp://127.0.0.1:43842\n",
       "  <li><b>Dashboard: </b><a href='http://127.0.0.1:8787/status' target='_blank'>http://127.0.0.1:8787/status</a>\n",
       "</ul>\n",
       "</td>\n",
       "<td style=\"vertical-align: top; border: 0px solid white\">\n",
       "<h3>Cluster</h3>\n",
       "<ul>\n",
       "  <li><b>Workers: </b>2</li>\n",
       "  <li><b>Cores: </b>20</li>\n",
       "  <li><b>Memory: </b>50.39 GB</li>\n",
       "</ul>\n",
       "</td>\n",
       "</tr>\n",
       "</table>"
      ],
      "text/plain": [
       "<Client: scheduler='tcp://127.0.0.1:43842' processes=2 cores=20>"
      ]
     },
     "execution_count": 5,
     "metadata": {},
     "output_type": "execute_result"
    }
   ],
   "source": [
    "from dask.distributed import Client\n",
    "client = Client(cluster)\n",
    "client"
   ]
  },
  {
   "cell_type": "code",
   "execution_count": 6,
   "metadata": {},
   "outputs": [],
   "source": [
    "import numba.cuda\n",
    "\n",
    "devs = [i.id for i in numba.cuda.cudadrv.devices.gpus]\n",
    "workers = list(client.has_what().keys())\n",
    "worker_devs = workers[0:min(len(devs), len(workers))]"
   ]
  },
  {
   "cell_type": "code",
   "execution_count": 7,
   "metadata": {},
   "outputs": [],
   "source": [
    "def set_visible(i, n):\n",
    "    import os, numba.cuda\n",
    "    all_devices = list(range(n))\n",
    "    vd = \",\".join(map(str, all_devices[i:] + all_devices[:i]))\n",
    "    print(str(vd))\n",
    "    numba.cuda.close()\n",
    "    numba.cuda.select_device(i)\n",
    "    print(\"Selecting Device : \"  + str(i))\n",
    "    os.environ[\"CUDA_VISIBLE_DEVICES\"] = vd\n",
    "\n",
    "dev_assigned = [client.submit(set_visible, dev, len(devs), workers = [worker]) for dev, worker in zip(devs, worker_devs)]"
   ]
  },
  {
   "cell_type": "code",
   "execution_count": 8,
   "metadata": {},
   "outputs": [],
   "source": [
    "import pandas as pd\n",
    "\n",
    "X = cudf.DataFrame([('a', [0, 1, 2, 3, 4])])\n",
    "y = cudf.Series([0, 1, 2, 3, 4])\n"
   ]
  },
  {
   "cell_type": "code",
   "execution_count": 9,
   "metadata": {},
   "outputs": [],
   "source": [
    "X_df = dask_cudf.from_cudf(X, chunksize=1).persist()\n",
    "y_df = dask_cudf.from_cudf(y, chunksize=1).persist()"
   ]
  },
  {
   "cell_type": "code",
   "execution_count": 10,
   "metadata": {},
   "outputs": [
    {
     "data": {
      "text/plain": [
       "[<Future: status: pending, key: print_device-dfd22f02c29d8058874c59d72b773408>,\n",
       " <Future: status: pending, key: print_device-743d9fd427c0be1c37ff81818eea7437>,\n",
       " <Future: status: pending, key: print_device-4cacf6083130280f857a1c59b57cbfef>,\n",
       " <Future: status: pending, key: print_device-3cb46d03479458cff2d1845570acbb95>]"
      ]
     },
     "execution_count": 10,
     "metadata": {},
     "output_type": "execute_result"
    }
   ],
   "source": [
    "import numba.cuda\n",
    "import cuml\n",
    "def print_device(arr):\n",
    "    print(str(numba.cuda.get_current_device()))\n",
    "    print(str(cuml.device_of_ptr(arr.as_gpu_matrix(order=\"F\"))))\n",
    "    \n",
    "[client.submit(print_device, part) for part in X_df.to_delayed()]"
   ]
  },
  {
   "cell_type": "code",
   "execution_count": 11,
   "metadata": {},
   "outputs": [
    {
     "data": {
      "text/plain": [
       "{\"('from_cudf-855267eec9af4ab7be8d7e2a0d7c0d73', 0)\": (),\n",
       " \"('from_cudf-855267eec9af4ab7be8d7e2a0d7c0d73', 1)\": (),\n",
       " \"('from_cudf-855267eec9af4ab7be8d7e2a0d7c0d73', 2)\": (),\n",
       " \"('from_cudf-855267eec9af4ab7be8d7e2a0d7c0d73', 3)\": (),\n",
       " \"('from_cudf-b454da2931be4697a20871a46a3343fb', 0)\": (),\n",
       " \"('from_cudf-b454da2931be4697a20871a46a3343fb', 1)\": (),\n",
       " \"('from_cudf-b454da2931be4697a20871a46a3343fb', 2)\": (),\n",
       " \"('from_cudf-b454da2931be4697a20871a46a3343fb', 3)\": (),\n",
       " 'print_device-3cb46d03479458cff2d1845570acbb95': (),\n",
       " 'print_device-4cacf6083130280f857a1c59b57cbfef': (),\n",
       " 'print_device-743d9fd427c0be1c37ff81818eea7437': (),\n",
       " 'print_device-dfd22f02c29d8058874c59d72b773408': (),\n",
       " 'set_visible-20a8edbe2b929812aef46b88c316af1b': ('tcp://127.0.0.1:40584',),\n",
       " 'set_visible-6ad2ab08bd232ecacdd3435ec970aa4d': ('tcp://127.0.0.1:41423',)}"
      ]
     },
     "execution_count": 11,
     "metadata": {},
     "output_type": "execute_result"
    }
   ],
   "source": [
    "client.who_has()"
   ]
  },
  {
   "cell_type": "markdown",
   "metadata": {},
   "source": [
    "Set each worker to host dfs on a different device. \n",
    "\n",
    "__Note__: You can ignore this if you started your workers with \"CUDA_VISIBLE_DEVICE\" already"
   ]
  },
  {
   "cell_type": "code",
   "execution_count": 12,
   "metadata": {},
   "outputs": [
    {
     "data": {
      "text/plain": [
       "{\"('from_cudf-855267eec9af4ab7be8d7e2a0d7c0d73', 0)\": (),\n",
       " \"('from_cudf-855267eec9af4ab7be8d7e2a0d7c0d73', 1)\": (),\n",
       " \"('from_cudf-855267eec9af4ab7be8d7e2a0d7c0d73', 2)\": (),\n",
       " \"('from_cudf-855267eec9af4ab7be8d7e2a0d7c0d73', 3)\": (),\n",
       " \"('from_cudf-b454da2931be4697a20871a46a3343fb', 0)\": (),\n",
       " \"('from_cudf-b454da2931be4697a20871a46a3343fb', 1)\": (),\n",
       " \"('from_cudf-b454da2931be4697a20871a46a3343fb', 2)\": (),\n",
       " \"('from_cudf-b454da2931be4697a20871a46a3343fb', 3)\": (),\n",
       " 'print_device-3cb46d03479458cff2d1845570acbb95': (),\n",
       " 'print_device-4cacf6083130280f857a1c59b57cbfef': (),\n",
       " 'print_device-743d9fd427c0be1c37ff81818eea7437': (),\n",
       " 'print_device-dfd22f02c29d8058874c59d72b773408': (),\n",
       " 'set_visible-20a8edbe2b929812aef46b88c316af1b': ('tcp://127.0.0.1:40584',),\n",
       " 'set_visible-6ad2ab08bd232ecacdd3435ec970aa4d': ('tcp://127.0.0.1:41423',)}"
      ]
     },
     "execution_count": 12,
     "metadata": {},
     "output_type": "execute_result"
    }
   ],
   "source": [
    "client.who_has()"
   ]
  },
  {
   "cell_type": "code",
   "execution_count": 13,
   "metadata": {},
   "outputs": [],
   "source": [
    "lr = LinearRegression()"
   ]
  },
  {
   "cell_type": "code",
   "execution_count": 14,
   "metadata": {},
   "outputs": [
    {
     "name": "stdout",
     "output_type": "stream",
     "text": [
      "input_devarrays: [(('127.0.0.1', 40584), <Future: status: finished, type: tuple, key: inputs_to_device_arrays-e4d64533b0f483b000bbfaa14466d79f>), (('127.0.0.1', 41423), <Future: status: finished, type: tuple, key: inputs_to_device_arrays-0324cee2d6c59a56568dac4f67f5aeab>)]\n",
      "exec_node: ('127.0.0.1', 40584)\n",
      "ipc_handles: [<Future: status: pending, key: get_input_ipc_handles-fc2823cc494b24b799416b84e68e2b1a>]\n",
      "raw_arrays: [<Future: status: finished, type: tuple, key: inputs_to_device_arrays-e4d64533b0f483b000bbfaa14466d79f>]\n",
      "COEFS: (('127.0.0.1', 40584), <Future: status: pending, key: extract_part-2b67a2e7fc48a8954f70542c93405cb1>)\n",
      "INTER: <Future: status: pending, key: extract_part-7b6f5bb8c5ec2eaa2b1fdca2b9d3312d>\n",
      "RES: <Future: status: pending, key: extract_part-7b6f5bb8c5ec2eaa2b1fdca2b9d3312d>\n"
     ]
    }
   ],
   "source": [
    "res = lr.fit(X_df, y_df)"
   ]
  },
  {
   "cell_type": "markdown",
   "metadata": {},
   "source": [
    "res"
   ]
  },
  {
   "cell_type": "code",
   "execution_count": 15,
   "metadata": {},
   "outputs": [
    {
     "data": {
      "text/plain": [
       "5"
      ]
     },
     "execution_count": 15,
     "metadata": {},
     "output_type": "execute_result"
    }
   ],
   "source": [
    "lr.intercept_.result()"
   ]
  },
  {
   "cell_type": "code",
   "execution_count": 16,
   "metadata": {},
   "outputs": [
    {
     "data": {
      "text/plain": [
       "{\"('from_cudf-855267eec9af4ab7be8d7e2a0d7c0d73', 0)\": ('tcp://127.0.0.1:40584',),\n",
       " \"('from_cudf-855267eec9af4ab7be8d7e2a0d7c0d73', 1)\": ('tcp://127.0.0.1:41423',),\n",
       " \"('from_cudf-855267eec9af4ab7be8d7e2a0d7c0d73', 2)\": ('tcp://127.0.0.1:40584',),\n",
       " \"('from_cudf-855267eec9af4ab7be8d7e2a0d7c0d73', 3)\": ('tcp://127.0.0.1:41423',),\n",
       " \"('from_cudf-b454da2931be4697a20871a46a3343fb', 0)\": ('tcp://127.0.0.1:40584',),\n",
       " \"('from_cudf-b454da2931be4697a20871a46a3343fb', 1)\": ('tcp://127.0.0.1:41423',),\n",
       " \"('from_cudf-b454da2931be4697a20871a46a3343fb', 2)\": ('tcp://127.0.0.1:40584',),\n",
       " \"('from_cudf-b454da2931be4697a20871a46a3343fb', 3)\": ('tcp://127.0.0.1:41423',),\n",
       " '_fit_on_worker-b67bb9fdb3777f38016a9fb3048aa6b4': (),\n",
       " 'extract_part-2b67a2e7fc48a8954f70542c93405cb1': ('tcp://127.0.0.1:40584',),\n",
       " 'extract_part-7b6f5bb8c5ec2eaa2b1fdca2b9d3312d': ('tcp://127.0.0.1:40584',),\n",
       " 'get_input_ipc_handles-fc2823cc494b24b799416b84e68e2b1a': (),\n",
       " 'get_result-b6801ed2a920acc348406185e0f7c09f': (),\n",
       " 'inputs_to_device_arrays-0324cee2d6c59a56568dac4f67f5aeab': (),\n",
       " 'inputs_to_device_arrays-e4d64533b0f483b000bbfaa14466d79f': (),\n",
       " 'print_device-3cb46d03479458cff2d1845570acbb95': ('tcp://127.0.0.1:41423',),\n",
       " 'print_device-4cacf6083130280f857a1c59b57cbfef': ('tcp://127.0.0.1:40584',),\n",
       " 'print_device-743d9fd427c0be1c37ff81818eea7437': ('tcp://127.0.0.1:41423',),\n",
       " 'print_device-dfd22f02c29d8058874c59d72b773408': ('tcp://127.0.0.1:40584',),\n",
       " 'set_visible-20a8edbe2b929812aef46b88c316af1b': ('tcp://127.0.0.1:40584',),\n",
       " 'set_visible-6ad2ab08bd232ecacdd3435ec970aa4d': ('tcp://127.0.0.1:41423',),\n",
       " 'tuple-0b5c6a86-1ade-423c-ac27-de3c7a6ac495': (),\n",
       " 'tuple-5929e84c-fc87-4a47-a410-1211010be56c': (),\n",
       " 'tuple-7704d07a-2c8e-4aa8-aa9a-2dc659e1c4ae': (),\n",
       " 'tuple-a459e5fa-33a3-4132-9505-35e0ba699e17': ()}"
      ]
     },
     "execution_count": 16,
     "metadata": {},
     "output_type": "execute_result"
    }
   ],
   "source": [
    "client.who_has()"
   ]
  },
  {
   "cell_type": "code",
   "execution_count": 17,
   "metadata": {},
   "outputs": [
    {
     "name": "stdout",
     "output_type": "stream",
     "text": [
      "WORKER PARTS: [(('127.0.0.1', 41423), <Future: status: finished, type: DataFrame, key: ('from_cudf-b454da2931be4697a20871a46a3343fb', 3)>), (('127.0.0.1', 40584), <Future: status: finished, type: DataFrame, key: ('from_cudf-b454da2931be4697a20871a46a3343fb', 2)>), (('127.0.0.1', 41423), <Future: status: finished, type: DataFrame, key: ('from_cudf-b454da2931be4697a20871a46a3343fb', 1)>), (('127.0.0.1', 40584), <Future: status: finished, type: DataFrame, key: ('from_cudf-b454da2931be4697a20871a46a3343fb', 0)>)]\n",
      "ON WORKER: 2\n",
      "NOT ON WORKER: 2\n",
      "IPCHANDLES = [<Future: status: pending, key: get_ipc_handles-e70e8a3ca1ecb66ee3e131ff57764f01>, <Future: status: pending, key: get_ipc_handles-44f597fb7085444c4accf99c0695d675>]\n",
      "RAW_ARRAYS=[<Future: status: pending, key: as_gpu_matrix-b36bc8e94ae0666b376df0f08a9870f8>, <Future: status: pending, key: as_gpu_matrix-9a7c936ad4fff63b7121010655fcf141>]\n",
      "f=<Future: status: finished, type: tuple, key: _predict_on_worker-319815a5a074541dffe2d1dd0515887b>\n"
     ]
    }
   ],
   "source": [
    "g = lr.predict(X_df)"
   ]
  },
  {
   "cell_type": "code",
   "execution_count": 27,
   "metadata": {},
   "outputs": [
    {
     "name": "stdout",
     "output_type": "stream",
     "text": [
      "      \n",
      "0    1\n",
      "1    2\n",
      "2    3\n",
      "3    4\n",
      "4    5\n"
     ]
    }
   ],
   "source": [
    "print(str(g.result()))"
   ]
  },
  {
   "cell_type": "code",
   "execution_count": null,
   "metadata": {},
   "outputs": [],
   "source": []
  },
  {
   "cell_type": "code",
   "execution_count": null,
   "metadata": {},
   "outputs": [],
   "source": []
  },
  {
   "cell_type": "code",
   "execution_count": null,
   "metadata": {},
   "outputs": [],
   "source": []
  }
 ],
 "metadata": {
  "kernelspec": {
   "display_name": "Python (cuml)",
   "language": "python",
   "name": "cuml"
  },
  "language_info": {
   "codemirror_mode": {
    "name": "ipython",
    "version": 3
   },
   "file_extension": ".py",
   "mimetype": "text/x-python",
   "name": "python",
   "nbconvert_exporter": "python",
   "pygments_lexer": "ipython3",
   "version": "3.5.6"
  }
 },
 "nbformat": 4,
 "nbformat_minor": 2
}
