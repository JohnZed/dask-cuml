{
 "cells": [
  {
   "cell_type": "code",
   "execution_count": 1,
   "metadata": {},
   "outputs": [],
   "source": [
    "import cudf\n",
    "import dask_cudf"
   ]
  },
  {
   "cell_type": "code",
   "execution_count": 2,
   "metadata": {},
   "outputs": [],
   "source": [
    "import dask_cudf"
   ]
  },
  {
   "cell_type": "code",
   "execution_count": 3,
   "metadata": {},
   "outputs": [],
   "source": [
    "from dask_cuml.linear_regression import LinearRegression"
   ]
  },
  {
   "cell_type": "code",
   "execution_count": 4,
   "metadata": {},
   "outputs": [],
   "source": [
    "from dask.distributed import Client\n",
    "client = Client(scheduler_file = \"../cluster.json\")"
   ]
  },
  {
   "cell_type": "code",
   "execution_count": 5,
   "metadata": {},
   "outputs": [
    {
     "data": {
      "text/html": [
       "<table style=\"border: 2px solid white;\">\n",
       "<tr>\n",
       "<td style=\"vertical-align: top; border: 0px solid white\">\n",
       "<h3>Client</h3>\n",
       "<ul>\n",
       "  <li><b>Scheduler: </b>tcp://192.168.1.207:8786\n",
       "  <li><b>Dashboard: </b><a href='http://192.168.1.207:8787/status' target='_blank'>http://192.168.1.207:8787/status</a>\n",
       "</ul>\n",
       "</td>\n",
       "<td style=\"vertical-align: top; border: 0px solid white\">\n",
       "<h3>Cluster</h3>\n",
       "<ul>\n",
       "  <li><b>Workers: </b>2</li>\n",
       "  <li><b>Cores: </b>20</li>\n",
       "  <li><b>Memory: </b>31.50 GB</li>\n",
       "</ul>\n",
       "</td>\n",
       "</tr>\n",
       "</table>"
      ],
      "text/plain": [
       "<Client: scheduler='tcp://192.168.1.207:8786' processes=2 cores=20>"
      ]
     },
     "execution_count": 5,
     "metadata": {},
     "output_type": "execute_result"
    }
   ],
   "source": [
    "client"
   ]
  },
  {
   "cell_type": "code",
   "execution_count": 6,
   "metadata": {},
   "outputs": [],
   "source": [
    "X = cudf.DataFrame([('a', [0, 1, 2, 3, 4])])\n",
    "y = cudf.DataFrame([('y', [0, 1, 2, 3, 4])])"
   ]
  },
  {
   "cell_type": "code",
   "execution_count": 7,
   "metadata": {},
   "outputs": [],
   "source": [
    "X_df = dask_cudf.from_cudf(X, chunksize=1).persist()\n",
    "y_df = dask_cudf.from_cudf(y, chunksize=1).persist()"
   ]
  },
  {
   "cell_type": "code",
   "execution_count": null,
   "metadata": {},
   "outputs": [],
   "source": []
  },
  {
   "cell_type": "code",
   "execution_count": 8,
   "metadata": {},
   "outputs": [],
   "source": [
    "lr = LinearRegression()"
   ]
  },
  {
   "cell_type": "code",
   "execution_count": 9,
   "metadata": {},
   "outputs": [
    {
     "name": "stdout",
     "output_type": "stream",
     "text": [
      "Co-locating data!\n",
      "{'tuple-fe533d8d-35a0-430c-a7c8-13722f516789': ('tcp://192.168.1.207:42023',), 'tuple-f9c9550a-10af-486e-a7ab-8fefb3db6fcb': ('tcp://192.168.1.207:43554',), 'tuple-4970fac5-6c72-42d4-8c61-b13336ad5ff6': ('tcp://192.168.1.207:42023',), 'tuple-a11261d6-5340-4f9b-a977-6746339a0f9c': ('tcp://192.168.1.207:43554',)}\n",
      "('tcp://192.168.1.207:42023',)\n",
      "('tcp://192.168.1.207:43554',)\n",
      "('tcp://192.168.1.207:42023',)\n",
      "('tcp://192.168.1.207:43554',)\n",
      "{('192.168.1.207', 43554): [<Future: status: finished, type: tuple, key: tuple-f9c9550a-10af-486e-a7ab-8fefb3db6fcb>, <Future: status: finished, type: tuple, key: tuple-a11261d6-5340-4f9b-a977-6746339a0f9c>], ('192.168.1.207', 42023): [<Future: status: finished, type: tuple, key: tuple-fe533d8d-35a0-430c-a7c8-13722f516789>, <Future: status: finished, type: tuple, key: tuple-4970fac5-6c72-42d4-8c61-b13336ad5ff6>]}\n"
     ]
    }
   ],
   "source": [
    "res = lr.fit(X_df, y_df)"
   ]
  },
  {
   "cell_type": "markdown",
   "metadata": {},
   "source": [
    "res"
   ]
  },
  {
   "cell_type": "code",
   "execution_count": 10,
   "metadata": {},
   "outputs": [
    {
     "data": {
      "text/plain": [
       "[(('192.168.1.207', 43554),\n",
       "  <Future: status: finished, type: Series, key: _fit-0f7930ad8266b822c410ad72b1d93029>),\n",
       " (('192.168.1.207', 42023),\n",
       "  <Future: status: finished, type: Series, key: _fit-1e209fb0e5cd53d88d87ec62af77b059>)]"
      ]
     },
     "execution_count": 10,
     "metadata": {},
     "output_type": "execute_result"
    }
   ],
   "source": [
    "lr.coeffs"
   ]
  },
  {
   "cell_type": "code",
   "execution_count": 11,
   "metadata": {},
   "outputs": [
    {
     "name": "stdout",
     "output_type": "stream",
     "text": [
      "KEY_TO_PART_DICT: {\"('from_cudf-fef96c4643f04b2bbc2e6bd63b1b4b1b', 0)\": Delayed(('from_cudf-fef96c4643f04b2bbc2e6bd63b1b4b1b', 0)), \"('from_cudf-fef96c4643f04b2bbc2e6bd63b1b4b1b', 2)\": Delayed(('from_cudf-fef96c4643f04b2bbc2e6bd63b1b4b1b', 2)), \"('from_cudf-fef96c4643f04b2bbc2e6bd63b1b4b1b', 1)\": Delayed(('from_cudf-fef96c4643f04b2bbc2e6bd63b1b4b1b', 1)), \"('from_cudf-fef96c4643f04b2bbc2e6bd63b1b4b1b', 3)\": Delayed(('from_cudf-fef96c4643f04b2bbc2e6bd63b1b4b1b', 3))}\n",
      "CEFFS: [(('192.168.1.207', 43554), <Future: status: finished, type: Series, key: _fit-0f7930ad8266b822c410ad72b1d93029>), (('192.168.1.207', 42023), <Future: status: finished, type: Series, key: _fit-1e209fb0e5cd53d88d87ec62af77b059>)]\n",
      "{\"('from_cudf-b7cefbf47baf4c0bb33f33478755ce6e', 0)\": ('tcp://192.168.1.207:42023',), 'tuple-4970fac5-6c72-42d4-8c61-b13336ad5ff6': (), '_fit-0f7930ad8266b822c410ad72b1d93029': ('tcp://192.168.1.207:43554',), '_fit-1e209fb0e5cd53d88d87ec62af77b059': ('tcp://192.168.1.207:42023',), 'tuple-fe533d8d-35a0-430c-a7c8-13722f516789': (), 'tuple-f9c9550a-10af-486e-a7ab-8fefb3db6fcb': (), \"('from_cudf-b7cefbf47baf4c0bb33f33478755ce6e', 3)\": ('tcp://192.168.1.207:43554',), \"('from_cudf-b7cefbf47baf4c0bb33f33478755ce6e', 2)\": ('tcp://192.168.1.207:42023',), 'tuple-a11261d6-5340-4f9b-a977-6746339a0f9c': (), \"('from_cudf-fef96c4643f04b2bbc2e6bd63b1b4b1b', 0)\": ('tcp://192.168.1.207:42023',), \"('from_cudf-b7cefbf47baf4c0bb33f33478755ce6e', 1)\": ('tcp://192.168.1.207:43554',), \"('from_cudf-fef96c4643f04b2bbc2e6bd63b1b4b1b', 2)\": ('tcp://192.168.1.207:42023',), \"('from_cudf-fef96c4643f04b2bbc2e6bd63b1b4b1b', 1)\": ('tcp://192.168.1.207:43554',), \"('from_cudf-fef96c4643f04b2bbc2e6bd63b1b4b1b', 3)\": ('tcp://192.168.1.207:43554',)}\n",
      "COEFF KEYS: [<Future: status: finished, type: Series, key: _fit-0f7930ad8266b822c410ad72b1d93029>, <Future: status: finished, type: Series, key: _fit-1e209fb0e5cd53d88d87ec62af77b059>]\n",
      "WHO HAS: {'_fit-0f7930ad8266b822c410ad72b1d93029': ('tcp://192.168.1.207:43554',), '_fit-1e209fb0e5cd53d88d87ec62af77b059': ('tcp://192.168.1.207:42023',)}\n",
      "{'_fit-0f7930ad8266b822c410ad72b1d93029': <Future: status: finished, type: Series, key: _fit-0f7930ad8266b822c410ad72b1d93029>, '_fit-1e209fb0e5cd53d88d87ec62af77b059': <Future: status: finished, type: Series, key: _fit-1e209fb0e5cd53d88d87ec62af77b059>}\n",
      "_fit-0f7930ad8266b822c410ad72b1d93029\n",
      "_fit-1e209fb0e5cd53d88d87ec62af77b059\n",
      "[(('192.168.1.207', 43554), <Future: status: pending, key: to_gpu_array-fd25532fa1a2229c02ad865c3467b691>), (('192.168.1.207', 42023), <Future: status: pending, key: to_gpu_array-98c19fed5e081cb5813b628f041f5583>)]\n",
      "WORKER_PARTS: {('192.168.1.207', 43554): [Delayed(('from_cudf-fef96c4643f04b2bbc2e6bd63b1b4b1b', 1)), Delayed(('from_cudf-fef96c4643f04b2bbc2e6bd63b1b4b1b', 3))], ('192.168.1.207', 42023): [Delayed(('from_cudf-fef96c4643f04b2bbc2e6bd63b1b4b1b', 0)), Delayed(('from_cudf-fef96c4643f04b2bbc2e6bd63b1b4b1b', 2))]}\n",
      "RES: [<Future: status: finished, type: tuple, key: _predict_on_worker-eb32996c3fb13961cd627e77a6ca45fe>, <Future: status: finished, type: tuple, key: _predict_on_worker-88181f32c68935c9cc720a95f0fc6bdf>]\n",
      "RETURN: [<Future: status: pending, key: get_result-045333cc561bf0ae9dc5ac5d17f3d78f>, <Future: status: pending, key: get_result-cbce3b5586bbd39d4a64ca669a27af3e>]\n",
      "RETURN: [<Future: status: finished, type: Series, key: get_result-045333cc561bf0ae9dc5ac5d17f3d78f>, <Future: status: finished, type: Series, key: get_result-cbce3b5586bbd39d4a64ca669a27af3e>]\n",
      "RETURN: [<Future: status: finished, type: Series, key: get_result-045333cc561bf0ae9dc5ac5d17f3d78f>, <Future: status: finished, type: Series, key: get_result-cbce3b5586bbd39d4a64ca669a27af3e>]\n"
     ]
    }
   ],
   "source": [
    "g = lr.predict(X_df)"
   ]
  },
  {
   "cell_type": "code",
   "execution_count": 12,
   "metadata": {},
   "outputs": [],
   "source": [
    "g"
   ]
  },
  {
   "cell_type": "code",
   "execution_count": null,
   "metadata": {},
   "outputs": [],
   "source": []
  },
  {
   "cell_type": "code",
   "execution_count": null,
   "metadata": {},
   "outputs": [],
   "source": []
  },
  {
   "cell_type": "code",
   "execution_count": null,
   "metadata": {},
   "outputs": [],
   "source": []
  }
 ],
 "metadata": {
  "kernelspec": {
   "display_name": "Python (cuml)",
   "language": "python",
   "name": "cuml"
  },
  "language_info": {
   "codemirror_mode": {
    "name": "ipython",
    "version": 3
   },
   "file_extension": ".py",
   "mimetype": "text/x-python",
   "name": "python",
   "nbconvert_exporter": "python",
   "pygments_lexer": "ipython3",
   "version": "3.5.6"
  }
 },
 "nbformat": 4,
 "nbformat_minor": 2
}
