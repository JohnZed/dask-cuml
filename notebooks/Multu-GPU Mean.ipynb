{
 "cells": [
  {
   "cell_type": "markdown",
   "metadata": {},
   "source": [
    "# Multi-GPU Mean Calculation"
   ]
  },
  {
   "cell_type": "code",
   "execution_count": 1,
   "metadata": {
    "nbpresent": {
     "id": "60770839-8745-4b6d-8967-015bade0ce45"
    }
   },
   "outputs": [],
   "source": [
    "from dask.distributed import Client\n",
    "\n",
    "import cudf, dask_cudf\n",
    "from dask_cuml import mean"
   ]
  },
  {
   "cell_type": "markdown",
   "metadata": {},
   "source": [
    "There are a couple ways to get data into cuml, which will need to be tested:\n",
    "1. A large cudf object could be created and then passed to dask_cudf\n",
    "2. The workers are asked to fetch the data directly\n",
    "\n",
    "Since this will likely be running in a single worker per GPU mode, it will be important that the cuDF's are able to work across the GPUs (e.g. When a very large cuDF is partitioned across the workers- it will be important that the GPU memory is re-allocated to the new worker's local device and de-allocated on the cuDF's old device.)\n",
    "\n",
    "__Example workflow__:\n",
    "- User allocates a dask_cudf (or, eventually, a dask_cuml_array) and distributes it across the cluster\n",
    "- User calls MGMean().calculate(dask_cudf) after the dask_cudf\n",
    "- MGMean performs redistribution / preprocessing\n",
    "- MGMean gathers allocations (hostname/device/key triplets) from Dask workers\n",
    "- MGMean c++ code is executed with the allocation information as its argument\n"
   ]
  },
  {
   "cell_type": "code",
   "execution_count": 2,
   "metadata": {
    "nbpresent": {
     "id": "ef9fe3a0-56dd-4152-9d7a-17230e76f9f2"
    }
   },
   "outputs": [],
   "source": [
    "client = Client(\"10.31.241.47:8786\")"
   ]
  },
  {
   "cell_type": "code",
   "execution_count": 3,
   "metadata": {
    "nbpresent": {
     "id": "5d005f81-ffde-4df1-a9ab-61181f2c6748"
    },
    "scrolled": true
   },
   "outputs": [
    {
     "data": {
      "text/html": [
       "<table style=\"border: 2px solid white;\">\n",
       "<tr>\n",
       "<td style=\"vertical-align: top; border: 0px solid white\">\n",
       "<h3>Client</h3>\n",
       "<ul>\n",
       "  <li><b>Scheduler: </b>tcp://10.31.241.47:8786\n",
       "</ul>\n",
       "</td>\n",
       "<td style=\"vertical-align: top; border: 0px solid white\">\n",
       "<h3>Cluster</h3>\n",
       "<ul>\n",
       "  <li><b>Workers: </b>7</li>\n",
       "  <li><b>Cores: </b>7</li>\n",
       "  <li><b>Memory: </b>47.33 GB</li>\n",
       "</ul>\n",
       "</td>\n",
       "</tr>\n",
       "</table>"
      ],
      "text/plain": [
       "<Client: scheduler='tcp://10.31.241.47:8786' processes=7 cores=7>"
      ]
     },
     "execution_count": 3,
     "metadata": {},
     "output_type": "execute_result"
    }
   ],
   "source": [
    "client"
   ]
  },
  {
   "cell_type": "code",
   "execution_count": 4,
   "metadata": {},
   "outputs": [],
   "source": [
    "def create_cudf(dev):\n",
    "    import numba.cuda\n",
    "    import numpy as np\n",
    "    numba.cuda.select_device(dev)\n",
    "    print(\"Creating dataframe on device \" + str(dev))\n",
    "    return cudf.DataFrame(\n",
    "        [('a', np.array([1.0, 2.0, 3.0, 4.0, 5.0, 6.0]).astype(np.float32)), \n",
    "         ('b', np.array([2.0, 3.0, 4.0, 5.0, 6.0, 7.0]).astype(np.float32))]\n",
    "    )\n"
   ]
  },
  {
   "cell_type": "code",
   "execution_count": 5,
   "metadata": {},
   "outputs": [
    {
     "data": {
      "text/plain": [
       "['tcp://10.31.241.47:40995',\n",
       " 'tcp://10.31.241.47:37008',\n",
       " 'tcp://10.31.241.47:40151',\n",
       " 'tcp://10.31.241.47:36847',\n",
       " 'tcp://10.31.241.47:42678',\n",
       " 'tcp://10.31.241.47:44276',\n",
       " 'tcp://10.31.241.47:33084']"
      ]
     },
     "execution_count": 5,
     "metadata": {},
     "output_type": "execute_result"
    }
   ],
   "source": [
    "workers = list(client.has_what().keys())\n",
    "workers"
   ]
  },
  {
   "cell_type": "code",
   "execution_count": 15,
   "metadata": {},
   "outputs": [],
   "source": [
    "# Copyright (c) 2018, NVIDIA CORPORATION.\n",
    "#\n",
    "# Licensed under the Apache License, Version 2.0 (the \"License\");\n",
    "# you may not use this file except in compliance with the License.\n",
    "# You may obtain a copy of the License at\n",
    "#\n",
    "#     http://www.apache.org/licenses/LICENSE-2.0\n",
    "#\n",
    "# Unless required by applicable law or agreed to in writing, software\n",
    "# distributed under the License is distributed on an \"AS IS\" BASIS,\n",
    "# WITHOUT WARRANTIES OR CONDITIONS OF ANY KIND, either express or implied.\n",
    "# See the License for the specific language governing permissions and\n",
    "# limitations under the License.\n",
    "#\n",
    "from cuml import MGMean as cumlMGMean\n",
    "\n",
    "from tornado import gen\n",
    "import dask_cudf, cudf\n",
    "\n",
    "import time\n",
    "\n",
    "from dask.distributed import get_worker, get_client\n",
    "\n",
    "from dask import delayed\n",
    "from collections import defaultdict\n",
    "from dask.distributed import wait, default_client\n",
    "import dask.dataframe as dd\n",
    "import dask.array as da\n",
    "\n",
    "from toolz import first, assoc\n",
    "from distributed import Client\n",
    "\n",
    "\n",
    "def parse_host_port(address):\n",
    "    if '://' in address:\n",
    "        address = address.rsplit('://', 1)[1]\n",
    "    host, port = address.split(':')\n",
    "    port = int(port)\n",
    "    return host, port\n",
    "\n",
    "def to_gpu_matrix(df):\n",
    "    rm = df.as_gpu_matrix(order='F')\n",
    "    print(\"GPU: \" + str(rm))\n",
    "    print(\"CTYPES: \"+ str(rm.device_ctypes_pointer))\n",
    "    series = build_output_series(rm)\n",
    "    return (rm, series, to_gpu_array(series))\n",
    "\n",
    "def build_output_series(gpu_matrix):\n",
    "    import numpy as np\n",
    "    return cudf.Series(np.zeros(gpu_matrix.shape[1], dtype=gpu_matrix.dtype))\n",
    "\n",
    "def to_gpu_array(mean_):\n",
    "    return mean_._column._data.to_gpu_array()\n",
    "    \n",
    "def alloc_dict(ipcs):\n",
    "    in_ipc, out_ipc = ipcs\n",
    "    cai = in_ipc.__cuda_array_interface__\n",
    "    return {\"ptr\": in_ipc.device_ctypes_pointer.value,\n",
    "            \"out_ptr\": out_ipc.device_ctypes_pointer.value,\n",
    "            \"dtype\": cai[\"typestr\"],\n",
    "            \"shape\": cai[\"shape\"]\n",
    "    }\n",
    "\n",
    "def get_ipc_handles(data):\n",
    "    gpu_matrix, series, gpu_array = data\n",
    "    return (gpu_matrix.get_ipc_handle(), gpu_array.get_ipc_handle())\n",
    "\n",
    "\n",
    "class MGMean(object):\n",
    "\n",
    "    def calculate(self, dask_df):\n",
    "        client = default_client()\n",
    "\n",
    "        # Keep the futures around so the GPU memory doesn't get\n",
    "        # deallocated on the workers.\n",
    "        gpu_futures, ipc_futures = client.sync(self._get_mg_info, dask_df)\n",
    "        wait(ipc_futures)\n",
    "        \n",
    "        # Run on a single worker on each unique host\n",
    "        def calc_mean(ipcs):\n",
    "            open_ipcs = [(x[0].open(), x[1].open()) for x in ipcs]\n",
    "            m = cumlMGMean()\n",
    "            outs = m.calculate(list(map(alloc_dict, open_ipcs)))\n",
    "            [(x[0].close(), x[1].close()) for x in ipcs]\n",
    "            return outs\n",
    "\n",
    "        who_has = client.who_has(ipc_futures)\n",
    "\n",
    "        print(str(who_has))\n",
    "        \n",
    "        key_to_host_dict = {}\n",
    "        for key in who_has:\n",
    "            key_to_host_dict[key] = parse_host_port(who_has[key][0])\n",
    "            \n",
    "        hosts_to_key_dict = {}\n",
    "        for key, host in key_to_host_dict.items():\n",
    "            if host not in hosts_to_key_dict:\n",
    "                hosts_to_key_dict[host] = set([key])\n",
    "            else:\n",
    "                hosts_to_key_dict[host].add(key)\n",
    "\n",
    "        workers = [x[0] for x in list(who_has.values())]\n",
    "        hosts_dict = build_host_dict(workers)\n",
    "        f = []\n",
    "        for host, ports in hosts_dict.items():\n",
    "            exec_node = (host, random.sample(ports, 1)[0])\n",
    "            \n",
    "            # remove exec node from ipc_futures\n",
    "            keys = set(hosts_to_key_dict[exec_node])\n",
    "            \n",
    "            final_ipc_futures = list(filter(lambda x: x.key not in keys and key_to_host_dict[x.key][0] == host, ipc_futures))\n",
    "            \n",
    "            f.append(client.submit(calc_mean, final_ipc_futures, workers = [exec_node]))\n",
    "\n",
    "        wait(f)\n",
    "        \n",
    "        return f, gpu_futures\n",
    "\n",
    "    @gen.coroutine\n",
    "    def _get_mg_info(self, dask_df):\n",
    "\n",
    "        client = default_client()\n",
    "\n",
    "        if isinstance(dask_df, dd.DataFrame):\n",
    "            data_parts = dask_df.to_delayed()\n",
    "            parts = list(map(delayed, data_parts))\n",
    "            parts = client.compute(parts)  # Start computation in the background\n",
    "            yield wait(parts)\n",
    "            for part in parts:\n",
    "                if part.status == 'error':\n",
    "                    yield part  # trigger error locally\n",
    "        else:\n",
    "            data_parts = dask_df\n",
    "\n",
    "\n",
    "        key_to_part_dict = dict([(str(part.key), part) for part in data_parts])\n",
    "\n",
    "        who_has = yield client.who_has(data_parts)\n",
    "        worker_map = []\n",
    "\n",
    "        for key, workers in who_has.items():\n",
    "            worker_map.append((first(workers), key_to_part_dict[key]))\n",
    "\n",
    "        gpu_data = [[worker, client.submit(to_gpu_matrix, part, workers=worker)]\n",
    "                    for worker, part in worker_map]\n",
    "        \n",
    "        input_ipc_handles = [client.submit(get_ipc_handles, future, workers=worker) for worker, future in gpu_data]\n",
    "                \n",
    "        raise gen.Return((gpu_data, input_ipc_handles))"
   ]
  },
  {
   "cell_type": "code",
   "execution_count": 16,
   "metadata": {},
   "outputs": [],
   "source": [
    "from dask.distributed import wait\n",
    "import random\n",
    "\n",
    "def parse_host_port(address):\n",
    "    if '://' in address:\n",
    "        address = address.rsplit('://', 1)[1]\n",
    "    host, port = address.split(':')\n",
    "    port = int(port)\n",
    "    return host, port\n",
    "\n",
    "def build_host_dict(workers):\n",
    "    hosts = set(map(lambda x: parse_host_port(x), workers))\n",
    "    hosts_dict = {}\n",
    "    for host, port in hosts:\n",
    "        if host not in hosts_dict:\n",
    "            hosts_dict[host] = set([port])\n",
    "        else:\n",
    "            hosts_dict[host].add(port)\n",
    "            \n",
    "    return hosts_dict\n",
    "    \n",
    "\n",
    "def assign_gpus(client):\n",
    "    \n",
    "    \"\"\"\n",
    "    Supports a multi-GPU & multi-Node environment by assigning a single local GPU\n",
    "    to each worker in the cluster. This is necessary due to Numba's restriction\n",
    "    that only a single CUDA context (and thus a single device) can be active on a \n",
    "    thread at a time. \n",
    "    \n",
    "    The GPU assignments are valid as long as the future returned from this function\n",
    "    is held in scope. This allows any functions that need to allocate GPU data to\n",
    "    utilize the CUDA context on the same device, otherwise data could be lost.\n",
    "    \"\"\"\n",
    "\n",
    "    workers = list(client.has_what().keys())\n",
    "    hosts_dict = build_host_dict(workers)\n",
    "    \n",
    "    def get_gpu_info():\n",
    "        import numba.cuda\n",
    "        return [x.id for x in numba.cuda.gpus]\n",
    "    \n",
    "    gpu_info = dict([(host, \n",
    "                      client.submit(get_gpu_info, \n",
    "                                    workers = [(host, random.sample(hosts_dict[host], 1)[0])])) \n",
    "                     for host in hosts_dict])\n",
    "    wait(list(gpu_info.values()))\n",
    "    \n",
    "    # Scatter out a GPU device ID to workers\n",
    "    f = []\n",
    "    for host, future in gpu_info.items():\n",
    "        gpu_ids = future.result()\n",
    "        ports = random.sample(hosts_dict[host], min(len(gpu_ids), len(hosts_dict[host])))\n",
    "        \n",
    "        f.extend([client.scatter(device_id, workers = [(host,port)]) for device_id, port in zip(gpu_ids, ports)])\n",
    "    wait(f)\n",
    "        \n",
    "    return f"
   ]
  },
  {
   "cell_type": "code",
   "execution_count": 17,
   "metadata": {},
   "outputs": [],
   "source": [
    "assignments = assign_gpus(client)"
   ]
  },
  {
   "cell_type": "code",
   "execution_count": 18,
   "metadata": {},
   "outputs": [
    {
     "data": {
      "text/plain": [
       "{'create_cudf-179c5d9da0a793490e0f86206758d243': ('tcp://10.31.241.47:36847',),\n",
       " 'create_cudf-27d807310733824947dcbbb642b78ed2': ('tcp://10.31.241.47:40995',),\n",
       " 'create_cudf-35124cbc4008b9274989a37db6f59f46': ('tcp://10.31.241.47:37008',),\n",
       " 'create_cudf-590c28dd03d79f0cc5b1751bbacf2ea7': ('tcp://10.31.241.47:33084',),\n",
       " 'create_cudf-61c4a99828ec0f1c1bc586976a8941f2': ('tcp://10.31.241.47:44276',),\n",
       " 'create_cudf-7260dc5a79c4ba5e24f5b76846103266': ('tcp://10.31.241.47:42678',),\n",
       " 'create_cudf-7b059e2b58d6f4010f5ab98474a70df1': ('tcp://10.31.241.47:40151',),\n",
       " 'get_ipc_handles-2b068aeeb0819e54862746f15dcb442e': ('tcp://10.31.241.47:40995',),\n",
       " 'get_ipc_handles-49172f967eeaac7fe3b6719bb15ccfdc': ('tcp://10.31.241.47:44276',),\n",
       " 'get_ipc_handles-80b9f47e081c4cd701dc1f28b029fc4c': ('tcp://10.31.241.47:40151',),\n",
       " 'get_ipc_handles-86d26af010124bf2eb5b5f3c487b702d': ('tcp://10.31.241.47:37008',),\n",
       " 'get_ipc_handles-a26dbd5ce1204f917ac21f4fa628dd41': ('tcp://10.31.241.47:33084',),\n",
       " 'get_ipc_handles-c291bb7475c8b7cf6186dbaba6dc1eb9': ('tcp://10.31.241.47:42678',),\n",
       " 'get_ipc_handles-fd97c3844ce90092645336fac967ee10': ('tcp://10.31.241.47:36847',),\n",
       " 'int-58e78e1b34eb49a68c65b54815d1b158': ('tcp://10.31.241.47:33084',\n",
       "  'tcp://10.31.241.47:40151'),\n",
       " 'int-5c8a950061aa331153f4a172bbcbfd1b': ('tcp://10.31.241.47:44276',\n",
       "  'tcp://10.31.241.47:36847',\n",
       "  'tcp://10.31.241.47:40995'),\n",
       " 'int-5cd9541ea58b401f115b751e79eabbff': ('tcp://10.31.241.47:40995',\n",
       "  'tcp://10.31.241.47:42678'),\n",
       " 'int-7ec5d3339274cee5cb507a4e4d28e791': ('tcp://10.31.241.47:33084',\n",
       "  'tcp://10.31.241.47:40995'),\n",
       " 'int-c0a8a20f903a4915b94db8de3ea63195': ('tcp://10.31.241.47:42678',\n",
       "  'tcp://10.31.241.47:37008',\n",
       "  'tcp://10.31.241.47:44276'),\n",
       " 'int-ce9a05dd6ec76c6a6d171b0c055f3127': ('tcp://10.31.241.47:44276',\n",
       "  'tcp://10.31.241.47:40151',\n",
       "  'tcp://10.31.241.47:36847'),\n",
       " 'int-d3395e15f605bc35ab1bac6341a285e2': ('tcp://10.31.241.47:36847',\n",
       "  'tcp://10.31.241.47:37008'),\n",
       " 'to_gpu_matrix-1f7a84c72696c1c3e9bc035a4cca0d0d': ('tcp://10.31.241.47:42678',),\n",
       " 'to_gpu_matrix-3275dcb0674fe534d710bed3f616a6b1': ('tcp://10.31.241.47:33084',),\n",
       " 'to_gpu_matrix-33b23113fbdb8db96a925b603a3d6ad9': ('tcp://10.31.241.47:40995',),\n",
       " 'to_gpu_matrix-380c7a9b612b03e55682186e2b204cf4': ('tcp://10.31.241.47:44276',),\n",
       " 'to_gpu_matrix-a2531161fdd1a821b18ef3fcfb97bfbd': ('tcp://10.31.241.47:40151',),\n",
       " 'to_gpu_matrix-b5fb66b77b026d22e0eb4ed171b3bf9e': ('tcp://10.31.241.47:36847',),\n",
       " 'to_gpu_matrix-fe4b13e3b668407da5c57e2bfbd2e8ff': ('tcp://10.31.241.47:37008',)}"
      ]
     },
     "execution_count": 18,
     "metadata": {},
     "output_type": "execute_result"
    }
   ],
   "source": [
    "client.who_has()"
   ]
  },
  {
   "cell_type": "code",
   "execution_count": 19,
   "metadata": {},
   "outputs": [
    {
     "data": {
      "text/plain": [
       "DoneAndNotDoneFutures(done={<Future: status: finished, type: DataFrame, key: create_cudf-27d807310733824947dcbbb642b78ed2>, <Future: status: finished, type: DataFrame, key: create_cudf-179c5d9da0a793490e0f86206758d243>, <Future: status: finished, type: DataFrame, key: create_cudf-7b059e2b58d6f4010f5ab98474a70df1>, <Future: status: finished, type: DataFrame, key: create_cudf-590c28dd03d79f0cc5b1751bbacf2ea7>, <Future: status: finished, type: DataFrame, key: create_cudf-7260dc5a79c4ba5e24f5b76846103266>, <Future: status: finished, type: DataFrame, key: create_cudf-35124cbc4008b9274989a37db6f59f46>, <Future: status: finished, type: DataFrame, key: create_cudf-61c4a99828ec0f1c1bc586976a8941f2>}, not_done=set())"
      ]
     },
     "execution_count": 19,
     "metadata": {},
     "output_type": "execute_result"
    }
   ],
   "source": [
    "res = [client.submit(create_cudf, x[0], workers = [x[1]]) for x in zip(assignments, workers)]\n",
    "wait(res)"
   ]
  },
  {
   "cell_type": "code",
   "execution_count": 20,
   "metadata": {},
   "outputs": [
    {
     "data": {
      "text/plain": [
       "{'create_cudf-179c5d9da0a793490e0f86206758d243': ('tcp://10.31.241.47:36847',),\n",
       " 'create_cudf-27d807310733824947dcbbb642b78ed2': ('tcp://10.31.241.47:40995',),\n",
       " 'create_cudf-35124cbc4008b9274989a37db6f59f46': ('tcp://10.31.241.47:37008',),\n",
       " 'create_cudf-590c28dd03d79f0cc5b1751bbacf2ea7': ('tcp://10.31.241.47:33084',),\n",
       " 'create_cudf-61c4a99828ec0f1c1bc586976a8941f2': ('tcp://10.31.241.47:44276',),\n",
       " 'create_cudf-7260dc5a79c4ba5e24f5b76846103266': ('tcp://10.31.241.47:42678',),\n",
       " 'create_cudf-7b059e2b58d6f4010f5ab98474a70df1': ('tcp://10.31.241.47:40151',),\n",
       " 'get_ipc_handles-2b068aeeb0819e54862746f15dcb442e': ('tcp://10.31.241.47:40995',),\n",
       " 'get_ipc_handles-49172f967eeaac7fe3b6719bb15ccfdc': ('tcp://10.31.241.47:44276',),\n",
       " 'get_ipc_handles-80b9f47e081c4cd701dc1f28b029fc4c': ('tcp://10.31.241.47:40151',),\n",
       " 'get_ipc_handles-86d26af010124bf2eb5b5f3c487b702d': ('tcp://10.31.241.47:37008',),\n",
       " 'get_ipc_handles-a26dbd5ce1204f917ac21f4fa628dd41': ('tcp://10.31.241.47:33084',),\n",
       " 'get_ipc_handles-c291bb7475c8b7cf6186dbaba6dc1eb9': ('tcp://10.31.241.47:42678',),\n",
       " 'get_ipc_handles-fd97c3844ce90092645336fac967ee10': ('tcp://10.31.241.47:36847',),\n",
       " 'int-58e78e1b34eb49a68c65b54815d1b158': ('tcp://10.31.241.47:33084',\n",
       "  'tcp://10.31.241.47:40151'),\n",
       " 'int-5c8a950061aa331153f4a172bbcbfd1b': ('tcp://10.31.241.47:44276',\n",
       "  'tcp://10.31.241.47:36847',\n",
       "  'tcp://10.31.241.47:40995'),\n",
       " 'int-5cd9541ea58b401f115b751e79eabbff': ('tcp://10.31.241.47:40995',\n",
       "  'tcp://10.31.241.47:42678'),\n",
       " 'int-7ec5d3339274cee5cb507a4e4d28e791': ('tcp://10.31.241.47:33084',\n",
       "  'tcp://10.31.241.47:40995'),\n",
       " 'int-c0a8a20f903a4915b94db8de3ea63195': ('tcp://10.31.241.47:42678',\n",
       "  'tcp://10.31.241.47:37008',\n",
       "  'tcp://10.31.241.47:44276'),\n",
       " 'int-ce9a05dd6ec76c6a6d171b0c055f3127': ('tcp://10.31.241.47:44276',\n",
       "  'tcp://10.31.241.47:40151',\n",
       "  'tcp://10.31.241.47:36847'),\n",
       " 'int-d3395e15f605bc35ab1bac6341a285e2': ('tcp://10.31.241.47:36847',\n",
       "  'tcp://10.31.241.47:37008'),\n",
       " 'to_gpu_matrix-1f7a84c72696c1c3e9bc035a4cca0d0d': ('tcp://10.31.241.47:42678',),\n",
       " 'to_gpu_matrix-3275dcb0674fe534d710bed3f616a6b1': ('tcp://10.31.241.47:33084',),\n",
       " 'to_gpu_matrix-33b23113fbdb8db96a925b603a3d6ad9': ('tcp://10.31.241.47:40995',),\n",
       " 'to_gpu_matrix-380c7a9b612b03e55682186e2b204cf4': ('tcp://10.31.241.47:44276',),\n",
       " 'to_gpu_matrix-a2531161fdd1a821b18ef3fcfb97bfbd': ('tcp://10.31.241.47:40151',),\n",
       " 'to_gpu_matrix-b5fb66b77b026d22e0eb4ed171b3bf9e': ('tcp://10.31.241.47:36847',),\n",
       " 'to_gpu_matrix-fe4b13e3b668407da5c57e2bfbd2e8ff': ('tcp://10.31.241.47:37008',)}"
      ]
     },
     "execution_count": 20,
     "metadata": {},
     "output_type": "execute_result"
    }
   ],
   "source": [
    "client.who_has()"
   ]
  },
  {
   "cell_type": "code",
   "execution_count": 21,
   "metadata": {
    "nbpresent": {
     "id": "ed6e558e-bd21-4c4c-88c9-334ab797089a"
    }
   },
   "outputs": [
    {
     "ename": "NameError",
     "evalue": "name 'df' is not defined",
     "output_type": "error",
     "traceback": [
      "\u001b[0;31m---------------------------------------------------------------------------\u001b[0m",
      "\u001b[0;31mNameError\u001b[0m                                 Traceback (most recent call last)",
      "\u001b[0;32m<ipython-input-21-b5e7f5661733>\u001b[0m in \u001b[0;36m<module>\u001b[0;34m()\u001b[0m\n\u001b[1;32m      1\u001b[0m \u001b[0;32mimport\u001b[0m \u001b[0mnumpy\u001b[0m \u001b[0;32mas\u001b[0m \u001b[0mnp\u001b[0m\u001b[0;34m\u001b[0m\u001b[0m\n\u001b[0;32m----> 2\u001b[0;31m \u001b[0mdask_df\u001b[0m \u001b[0;34m=\u001b[0m \u001b[0mdask_cudf\u001b[0m\u001b[0;34m.\u001b[0m\u001b[0mfrom_cudf\u001b[0m\u001b[0;34m(\u001b[0m\u001b[0mdf\u001b[0m\u001b[0;34m,\u001b[0m \u001b[0mchunksize\u001b[0m \u001b[0;34m=\u001b[0m \u001b[0;36m2\u001b[0m\u001b[0;34m)\u001b[0m\u001b[0;34m\u001b[0m\u001b[0m\n\u001b[0m",
      "\u001b[0;31mNameError\u001b[0m: name 'df' is not defined"
     ]
    }
   ],
   "source": [
    "import numpy as np\n",
    "dask_df = dask_cudf.from_cudf(df, chunksize = 2)"
   ]
  },
  {
   "cell_type": "markdown",
   "metadata": {},
   "source": [
    "### Persist the Dataframe to scatter it out to the workers"
   ]
  },
  {
   "cell_type": "code",
   "execution_count": null,
   "metadata": {
    "nbpresent": {
     "id": "ce754eb3-c0ab-4a4c-af3d-0af6d4b0b42f"
    }
   },
   "outputs": [],
   "source": [
    "dask_df = client.persist(dask_df)"
   ]
  },
  {
   "cell_type": "code",
   "execution_count": null,
   "metadata": {},
   "outputs": [],
   "source": [
    "res"
   ]
  },
  {
   "cell_type": "code",
   "execution_count": 22,
   "metadata": {},
   "outputs": [
    {
     "data": {
      "text/plain": [
       "{'create_cudf-179c5d9da0a793490e0f86206758d243': ('tcp://10.31.241.47:36847',),\n",
       " 'create_cudf-27d807310733824947dcbbb642b78ed2': ('tcp://10.31.241.47:40995',),\n",
       " 'create_cudf-35124cbc4008b9274989a37db6f59f46': ('tcp://10.31.241.47:37008',),\n",
       " 'create_cudf-590c28dd03d79f0cc5b1751bbacf2ea7': ('tcp://10.31.241.47:33084',),\n",
       " 'create_cudf-61c4a99828ec0f1c1bc586976a8941f2': ('tcp://10.31.241.47:44276',),\n",
       " 'create_cudf-7260dc5a79c4ba5e24f5b76846103266': ('tcp://10.31.241.47:42678',),\n",
       " 'create_cudf-7b059e2b58d6f4010f5ab98474a70df1': ('tcp://10.31.241.47:40151',),\n",
       " 'get_ipc_handles-2b068aeeb0819e54862746f15dcb442e': ('tcp://10.31.241.47:40995',),\n",
       " 'get_ipc_handles-49172f967eeaac7fe3b6719bb15ccfdc': ('tcp://10.31.241.47:44276',),\n",
       " 'get_ipc_handles-80b9f47e081c4cd701dc1f28b029fc4c': ('tcp://10.31.241.47:40151',),\n",
       " 'get_ipc_handles-86d26af010124bf2eb5b5f3c487b702d': ('tcp://10.31.241.47:37008',),\n",
       " 'get_ipc_handles-a26dbd5ce1204f917ac21f4fa628dd41': ('tcp://10.31.241.47:33084',),\n",
       " 'get_ipc_handles-c291bb7475c8b7cf6186dbaba6dc1eb9': ('tcp://10.31.241.47:42678',),\n",
       " 'get_ipc_handles-fd97c3844ce90092645336fac967ee10': ('tcp://10.31.241.47:36847',),\n",
       " 'int-58e78e1b34eb49a68c65b54815d1b158': ('tcp://10.31.241.47:33084',\n",
       "  'tcp://10.31.241.47:40151'),\n",
       " 'int-5c8a950061aa331153f4a172bbcbfd1b': ('tcp://10.31.241.47:44276',\n",
       "  'tcp://10.31.241.47:36847',\n",
       "  'tcp://10.31.241.47:40995'),\n",
       " 'int-5cd9541ea58b401f115b751e79eabbff': ('tcp://10.31.241.47:40995',\n",
       "  'tcp://10.31.241.47:42678'),\n",
       " 'int-7ec5d3339274cee5cb507a4e4d28e791': ('tcp://10.31.241.47:33084',\n",
       "  'tcp://10.31.241.47:40995'),\n",
       " 'int-c0a8a20f903a4915b94db8de3ea63195': ('tcp://10.31.241.47:42678',\n",
       "  'tcp://10.31.241.47:37008',\n",
       "  'tcp://10.31.241.47:44276'),\n",
       " 'int-ce9a05dd6ec76c6a6d171b0c055f3127': ('tcp://10.31.241.47:44276',\n",
       "  'tcp://10.31.241.47:40151',\n",
       "  'tcp://10.31.241.47:36847'),\n",
       " 'int-d3395e15f605bc35ab1bac6341a285e2': ('tcp://10.31.241.47:36847',\n",
       "  'tcp://10.31.241.47:37008'),\n",
       " 'to_gpu_matrix-1f7a84c72696c1c3e9bc035a4cca0d0d': ('tcp://10.31.241.47:42678',),\n",
       " 'to_gpu_matrix-3275dcb0674fe534d710bed3f616a6b1': ('tcp://10.31.241.47:33084',),\n",
       " 'to_gpu_matrix-33b23113fbdb8db96a925b603a3d6ad9': ('tcp://10.31.241.47:40995',),\n",
       " 'to_gpu_matrix-380c7a9b612b03e55682186e2b204cf4': ('tcp://10.31.241.47:44276',),\n",
       " 'to_gpu_matrix-a2531161fdd1a821b18ef3fcfb97bfbd': ('tcp://10.31.241.47:40151',),\n",
       " 'to_gpu_matrix-b5fb66b77b026d22e0eb4ed171b3bf9e': ('tcp://10.31.241.47:36847',),\n",
       " 'to_gpu_matrix-fe4b13e3b668407da5c57e2bfbd2e8ff': ('tcp://10.31.241.47:37008',)}"
      ]
     },
     "execution_count": 22,
     "metadata": {},
     "output_type": "execute_result"
    }
   ],
   "source": [
    "client.who_has()"
   ]
  },
  {
   "cell_type": "code",
   "execution_count": 23,
   "metadata": {
    "nbpresent": {
     "id": "058fd901-c613-4d64-88cb-fccc3181a269"
    }
   },
   "outputs": [],
   "source": [
    "m = MGMean()"
   ]
  },
  {
   "cell_type": "code",
   "execution_count": 24,
   "metadata": {},
   "outputs": [
    {
     "name": "stdout",
     "output_type": "stream",
     "text": [
      "{'get_ipc_handles-dc612b62f6fe257a311baa56b6b43b8b': ('tcp://10.31.241.47:40151',), 'get_ipc_handles-b1d8ee8a0dec64461efb582c51f45707': ('tcp://10.31.241.47:37008',), 'get_ipc_handles-483a462d5eb89b76340861290fbc6389': ('tcp://10.31.241.47:36847',), 'get_ipc_handles-fadeefdd9e839ca8b6efe1f582665db7': ('tcp://10.31.241.47:33084',), 'get_ipc_handles-35c59eab8103f069cc913dff867bbef9': ('tcp://10.31.241.47:42678',), 'get_ipc_handles-b9656219efc0baf053b48ef5bb6a364c': ('tcp://10.31.241.47:40995',), 'get_ipc_handles-96a5368da8ad05804c74af57d9eee13d': ('tcp://10.31.241.47:44276',)}\n"
     ]
    }
   ],
   "source": [
    "result = m.calculate(res)"
   ]
  },
  {
   "cell_type": "code",
   "execution_count": 31,
   "metadata": {},
   "outputs": [
    {
     "data": {
      "text/plain": [
       "<cudf.Series nrows=2 >"
      ]
     },
     "execution_count": 31,
     "metadata": {},
     "output_type": "execute_result"
    }
   ],
   "source": [
    "result[0][0].result()"
   ]
  },
  {
   "cell_type": "code",
   "execution_count": 36,
   "metadata": {},
   "outputs": [
    {
     "ename": "AttributeError",
     "evalue": "'Future' object has no attribute 'value'",
     "output_type": "error",
     "traceback": [
      "\u001b[0;31m---------------------------------------------------------------------------\u001b[0m",
      "\u001b[0;31mAttributeError\u001b[0m                            Traceback (most recent call last)",
      "\u001b[0;32m<ipython-input-36-3105b8b1c3af>\u001b[0m in \u001b[0;36m<module>\u001b[0;34m()\u001b[0m\n\u001b[0;32m----> 1\u001b[0;31m \u001b[0mresult\u001b[0m\u001b[0;34m[\u001b[0m\u001b[0;36m0\u001b[0m\u001b[0;34m]\u001b[0m\u001b[0;34m.\u001b[0m\u001b[0mvalue\u001b[0m\u001b[0;34m\u001b[0m\u001b[0m\n\u001b[0m",
      "\u001b[0;31mAttributeError\u001b[0m: 'Future' object has no attribute 'value'"
     ]
    }
   ],
   "source": []
  },
  {
   "cell_type": "code",
   "execution_count": 9,
   "metadata": {},
   "outputs": [
    {
     "name": "stdout",
     "output_type": "stream",
     "text": [
      "           \n",
      "0 4.1666665\n",
      "1       4.5\n"
     ]
    }
   ],
   "source": [
    "print(str(result))"
   ]
  },
  {
   "cell_type": "code",
   "execution_count": 15,
   "metadata": {},
   "outputs": [
    {
     "data": {
      "text/plain": [
       "{'create_cudf-1e63289d8f2e2d479b822171ff82d577': ('tcp://10.31.241.47:39491',),\n",
       " 'create_cudf-204083a67d003680231ed385b47d33f4': ('tcp://10.31.241.47:44195',),\n",
       " 'create_cudf-37d193b5ba47dd60656b3abcc3f6574e': ('tcp://10.31.241.47:33171',),\n",
       " 'create_cudf-6a87fca58b6a4529e0a2bf85fa39633e': ('tcp://10.31.241.47:43476',),\n",
       " 'create_cudf-d19cf5f63f21f6f4ab4fc7ee04d3e4a2': ('tcp://10.31.241.47:39894',),\n",
       " 'create_cudf-d29a24a6713817ed09b1d096644fc07c': ('tcp://10.31.241.47:39807',),\n",
       " 'create_cudf-e4c4e25e1f0f308e316b98cf348c2ea1': ('tcp://10.31.241.47:46100',),\n",
       " 'create_cudf-fa8ea9204c42d85b601fd07cb8a5e5ef': ('tcp://10.31.241.47:34391',),\n",
       " 'get_ipc_handles-017b01e8906595d9cc15bf341259597b': ('tcp://10.31.241.47:33171',),\n",
       " 'get_ipc_handles-08a43b6806ac67055e27037bc9b24184': ('tcp://10.31.241.47:43476',),\n",
       " 'get_ipc_handles-3ac519d1ea0ba8e89c5a30f2d4426e69': ('tcp://10.31.241.47:34391',),\n",
       " 'get_ipc_handles-48399c980bc59f161512322c5c57059d': ('tcp://10.31.241.47:39807',),\n",
       " 'get_ipc_handles-54d0d0fcb8c06bcc4a0e4268396ebc4d': ('tcp://10.31.241.47:44195',),\n",
       " 'get_ipc_handles-5bedcc969e69fde7d69a8c331c1f36e5': ('tcp://10.31.241.47:39894',),\n",
       " 'get_ipc_handles-6b0b1893bb9bfa9ae83e1dd35e30a232': ('tcp://10.31.241.47:46100',),\n",
       " 'get_ipc_handles-e6914bc0a0a028cb7fb8839af5148ebd': ('tcp://10.31.241.47:39491',),\n",
       " 'int-06e5a71c9839bd98760be56f629b24cc': ('tcp://10.31.241.47:39491',\n",
       "  'tcp://10.31.241.47:34391'),\n",
       " 'int-58e78e1b34eb49a68c65b54815d1b158': ('tcp://10.31.241.47:34391',\n",
       "  'tcp://10.31.241.47:33171'),\n",
       " 'int-5c8a950061aa331153f4a172bbcbfd1b': ('tcp://10.31.241.47:46100',\n",
       "  'tcp://10.31.241.47:39807'),\n",
       " 'int-5cd9541ea58b401f115b751e79eabbff': ('tcp://10.31.241.47:43476',\n",
       "  'tcp://10.31.241.47:44195'),\n",
       " 'int-7ec5d3339274cee5cb507a4e4d28e791': ('tcp://10.31.241.47:44195',\n",
       "  'tcp://10.31.241.47:39807'),\n",
       " 'int-c0a8a20f903a4915b94db8de3ea63195': ('tcp://10.31.241.47:33171',\n",
       "  'tcp://10.31.241.47:46100'),\n",
       " 'int-ce9a05dd6ec76c6a6d171b0c055f3127': ('tcp://10.31.241.47:39491',\n",
       "  'tcp://10.31.241.47:39894'),\n",
       " 'int-d3395e15f605bc35ab1bac6341a285e2': ('tcp://10.31.241.47:39894',\n",
       "  'tcp://10.31.241.47:43476'),\n",
       " 'to_gpu_matrix-10526bc55f5ed02191fa2fbdede40cc0': ('tcp://10.31.241.47:39894',),\n",
       " 'to_gpu_matrix-1077ccb2d02ca1dc24a5ab3ea2f7144d': ('tcp://10.31.241.47:46100',),\n",
       " 'to_gpu_matrix-1f91f19b9ab2602df94e05ed9e3bc1d9': ('tcp://10.31.241.47:39807',),\n",
       " 'to_gpu_matrix-85a23e288ed0331e99ef14c9d5c9b1bb': ('tcp://10.31.241.47:39491',),\n",
       " 'to_gpu_matrix-8bd91a6da0a43b1ad194a82dda799948': ('tcp://10.31.241.47:43476',),\n",
       " 'to_gpu_matrix-c3882931754ebd810b180bb3c054341e': ('tcp://10.31.241.47:33171',),\n",
       " 'to_gpu_matrix-e96c4db27183aa6f24e3befe03039f1a': ('tcp://10.31.241.47:34391',),\n",
       " 'to_gpu_matrix-f42ab8ae2c7e87cf13e3f6c52c54daeb': ('tcp://10.31.241.47:44195',)}"
      ]
     },
     "execution_count": 15,
     "metadata": {},
     "output_type": "execute_result"
    }
   ],
   "source": [
    "client.who_has()"
   ]
  },
  {
   "cell_type": "code",
   "execution_count": null,
   "metadata": {},
   "outputs": [],
   "source": []
  }
 ],
 "metadata": {
  "kernelspec": {
   "display_name": "Python [default]",
   "language": "python",
   "name": "python3"
  },
  "language_info": {
   "codemirror_mode": {
    "name": "ipython",
    "version": 3
   },
   "file_extension": ".py",
   "mimetype": "text/x-python",
   "name": "python",
   "nbconvert_exporter": "python",
   "pygments_lexer": "ipython3",
   "version": "3.5.6"
  }
 },
 "nbformat": 4,
 "nbformat_minor": 2
}
