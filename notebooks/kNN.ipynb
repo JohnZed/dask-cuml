{
 "cells": [
  {
   "cell_type": "markdown",
   "metadata": {},
   "source": [
    "# Dask cuML - kNN End-to-end \n",
    "\n",
    "This notebook assumes the following prerequisites:\n",
    "- Installed a cuda-aware MPI \n",
    "- Installed / built mpi4py with the exact same openmpi library\n",
    "\n",
    "\n",
    "Once the prerequisites above have been done:\n",
    "- Start a dask scheduler using `dask-scheduler --scheduler-file=\"cluster.json\"` __NOTE:__ This will create the file `cluster.json` in the current directory so that you don't need to manually keep track of ports when running workers and clients. \n",
    "- Start a set of workers using `mpirun --mca pml ob1 --mca osc ^ucx -np 2 dask-mpi --no-nanny --no-scheduler --nthreads 10 --memory-limit 3000000000 --scheduler-file cluster.json` \n",
    "\n",
    "__NOTE:__ Currently, `dask-mpi` does not provide a way to specify custom environment variables when starting the workers. This means we need to set `CUDA_VISIBLE_DEVICES` after the fact. The `CUDA_VISIBLE_DEVICES` must be set before any cuda contexts are created (e.g. no cuda-based libraries can be imported.)"
   ]
  },
  {
   "cell_type": "code",
   "execution_count": 1,
   "metadata": {},
   "outputs": [],
   "source": [
    "from dask.distributed import Client"
   ]
  },
  {
   "cell_type": "code",
   "execution_count": 2,
   "metadata": {},
   "outputs": [],
   "source": [
    "# Run this if you are using an MPI-based cluster\n",
    "client = Client(scheduler_file=\"cluster.json\")"
   ]
  },
  {
   "cell_type": "code",
   "execution_count": 3,
   "metadata": {},
   "outputs": [],
   "source": [
    "devs = [0, 1]\n",
    "workers = list(client.has_what().keys())\n",
    "worker_devs = workers[0:min(len(devs), len(workers))]"
   ]
  },
  {
   "cell_type": "code",
   "execution_count": 4,
   "metadata": {},
   "outputs": [
    {
     "data": {
      "text/plain": [
       "[<Future: status: pending, key: set_visible-a5d0a72479eb2b4acea4ba65a6b102b8>,\n",
       " <Future: status: pending, key: set_visible-e084c15558e5a720e776ddcad4e4a773>]"
      ]
     },
     "execution_count": 4,
     "metadata": {},
     "output_type": "execute_result"
    }
   ],
   "source": [
    "def set_visible(i, n):\n",
    "    import os\n",
    "    all_devices = list(range(n))\n",
    "    vd = \",\".join(map(str, all_devices[i:] + all_devices[:i]))\n",
    "    os.environ[\"CUDA_VISIBLE_DEVICES\"] = vd\n",
    "    \n",
    "[client.submit(set_visible, dev, len(devs), workers = [worker]) for dev, worker in zip(devs, worker_devs)]"
   ]
  },
  {
   "cell_type": "code",
   "execution_count": 5,
   "metadata": {},
   "outputs": [],
   "source": [
    "import dask_cudf\n",
    "import cudf\n",
    "import numpy as np\n",
    "\n",
    "from dask_cuml import knn as cumlKNN"
   ]
  },
  {
   "cell_type": "code",
   "execution_count": 6,
   "metadata": {},
   "outputs": [],
   "source": [
    "X = cudf.DataFrame([('a', np.array([0, 1, 2, 3, 4], np.float32)),\n",
    "                    ('b', np.array([5, 6, 7, 7, 8], np.float32))])\n",
    "\n",
    "X_df = dask_cudf.from_cudf(X, chunksize=1).persist()"
   ]
  },
  {
   "cell_type": "code",
   "execution_count": 7,
   "metadata": {},
   "outputs": [],
   "source": [
    "lr = cumlKNN.KNN()\n",
    "lr.fit(X_df)"
   ]
  },
  {
   "cell_type": "code",
   "execution_count": 8,
   "metadata": {},
   "outputs": [],
   "source": [
    "g = lr.kneighbors(X, 1)\n"
   ]
  },
  {
   "cell_type": "code",
   "execution_count": 9,
   "metadata": {},
   "outputs": [],
   "source": [
    "worker, f = g"
   ]
  },
  {
   "cell_type": "code",
   "execution_count": 10,
   "metadata": {},
   "outputs": [],
   "source": [
    "D, I, = f.result()"
   ]
  },
  {
   "cell_type": "code",
   "execution_count": 11,
   "metadata": {},
   "outputs": [
    {
     "name": "stdout",
     "output_type": "stream",
     "text": [
      "     0\n",
      "0  0.0\n",
      "1  0.0\n",
      "2  0.0\n",
      "3  1.0\n",
      "4  5.0\n"
     ]
    }
   ],
   "source": [
    "print(str(D))"
   ]
  },
  {
   "cell_type": "code",
   "execution_count": 12,
   "metadata": {},
   "outputs": [
    {
     "name": "stdout",
     "output_type": "stream",
     "text": [
      "     0\n",
      "0    3\n",
      "1    2\n",
      "2    4\n",
      "3    4\n",
      "4    4\n"
     ]
    }
   ],
   "source": [
    "print(str(I))"
   ]
  }
 ],
 "metadata": {
  "kernelspec": {
   "display_name": "Python 3",
   "language": "python",
   "name": "python3"
  },
  "language_info": {
   "codemirror_mode": {
    "name": "ipython",
    "version": 3
   },
   "file_extension": ".py",
   "mimetype": "text/x-python",
   "name": "python",
   "nbconvert_exporter": "python",
   "pygments_lexer": "ipython3",
   "version": "3.6.6"
  }
 },
 "nbformat": 4,
 "nbformat_minor": 2
}
