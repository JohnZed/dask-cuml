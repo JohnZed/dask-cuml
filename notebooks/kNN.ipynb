{
 "cells": [
  {
   "cell_type": "markdown",
   "metadata": {},
   "source": [
    "Start scheduler"
   ]
  },
  {
   "cell_type": "code",
   "execution_count": 1,
   "metadata": {},
   "outputs": [],
   "source": [
    "from dask.distributed import Client, wait\n",
    "from dask_cuda import LocalCUDACluster\n",
    "\n",
    "import dask_cudf\n",
    "\n",
    "import cudf\n",
    "\n",
    "import numpy as np\n",
    "\n",
    "\n",
    "from dask_cuml import knn as cumlKNN\n",
    "\n",
    "client = Client(scheduler_file = \"cluster.json\")\n"
   ]
  },
  {
   "cell_type": "code",
   "execution_count": 2,
   "metadata": {},
   "outputs": [],
   "source": [
    "X = cudf.DataFrame([('a', np.array([0, 1, 2, 3, 4], np.float32)),\n",
    "                    ('b', np.array([5, 6, 7, 7, 8], np.float32))])\n",
    "\n",
    "X_df = dask_cudf.from_cudf(X, chunksize=1).persist()"
   ]
  },
  {
   "cell_type": "code",
   "execution_count": 3,
   "metadata": {},
   "outputs": [
    {
     "name": "stdout",
     "output_type": "stream",
     "text": [
      "KEY TO PART DICT: {\"('from_cudf-8d8d8925750949c58004971c690f39cd', 0)\": <Future: status: finished, type: DataFrame, key: ('from_cudf-8d8d8925750949c58004971c690f39cd', 0)>, \"('from_cudf-8d8d8925750949c58004971c690f39cd', 1)\": <Future: status: finished, type: DataFrame, key: ('from_cudf-8d8d8925750949c58004971c690f39cd', 1)>, \"('from_cudf-8d8d8925750949c58004971c690f39cd', 2)\": <Future: status: finished, type: DataFrame, key: ('from_cudf-8d8d8925750949c58004971c690f39cd', 2)>, \"('from_cudf-8d8d8925750949c58004971c690f39cd', 3)\": <Future: status: finished, type: DataFrame, key: ('from_cudf-8d8d8925750949c58004971c690f39cd', 3)>}\n",
      "WHO HAS: {\"('from_cudf-8d8d8925750949c58004971c690f39cd', 2)\": ('tcp://10.2.172.107:36488',), \"('from_cudf-8d8d8925750949c58004971c690f39cd', 1)\": ('tcp://10.2.172.107:41402',), \"('from_cudf-8d8d8925750949c58004971c690f39cd', 3)\": ('tcp://10.2.172.107:41402',), \"('from_cudf-8d8d8925750949c58004971c690f39cd', 0)\": ('tcp://10.2.172.107:36488',)}\n",
      "WORKER_MAP: [(('10.2.172.107', 36488), <Future: status: finished, type: DataFrame, key: ('from_cudf-8d8d8925750949c58004971c690f39cd', 2)>), (('10.2.172.107', 41402), <Future: status: finished, type: DataFrame, key: ('from_cudf-8d8d8925750949c58004971c690f39cd', 1)>), (('10.2.172.107', 41402), <Future: status: finished, type: DataFrame, key: ('from_cudf-8d8d8925750949c58004971c690f39cd', 3)>), (('10.2.172.107', 36488), <Future: status: finished, type: DataFrame, key: ('from_cudf-8d8d8925750949c58004971c690f39cd', 0)>)]\n",
      "gpu_futures=[(('10.2.172.107', 36488), <Future: status: finished, type: tuple, key: to_gpu_matrix-69b43500d858053b03157510bb813b82>), (('10.2.172.107', 41402), <Future: status: finished, type: tuple, key: to_gpu_matrix-2ee9d26c95d4888508e8e1f7da933d3f>), (('10.2.172.107', 41402), <Future: status: finished, type: tuple, key: to_gpu_matrix-aa5202a95a0b8f5b44edda6e3d744eaa>), (('10.2.172.107', 36488), <Future: status: finished, type: tuple, key: to_gpu_matrix-5ed26b20e3d18fc80301fc0f0c196b44>)]\n",
      "D=2\n",
      "HOST MASTERS: [(('10.2.172.107', 41402), 0)]\n",
      "gpu_futures_for_host=[(('10.2.172.107', 36488), <Future: status: finished, type: tuple, key: to_gpu_matrix-69b43500d858053b03157510bb813b82>), (('10.2.172.107', 41402), <Future: status: finished, type: tuple, key: to_gpu_matrix-2ee9d26c95d4888508e8e1f7da933d3f>), (('10.2.172.107', 41402), <Future: status: finished, type: tuple, key: to_gpu_matrix-aa5202a95a0b8f5b44edda6e3d744eaa>), (('10.2.172.107', 36488), <Future: status: finished, type: tuple, key: to_gpu_matrix-5ed26b20e3d18fc80301fc0f0c196b44>)]\n",
      "raw_arrays=[<Future: status: finished, type: tuple, key: to_gpu_matrix-2ee9d26c95d4888508e8e1f7da933d3f>, <Future: status: finished, type: tuple, key: to_gpu_matrix-aa5202a95a0b8f5b44edda6e3d744eaa>]\n"
     ]
    }
   ],
   "source": [
    "lr = cumlKNN.KNN()\n",
    "lr.fit(X_df)"
   ]
  },
  {
   "cell_type": "code",
   "execution_count": null,
   "metadata": {},
   "outputs": [],
   "source": [
    "\n",
    "\n",
    "\n",
    "\n"
   ]
  },
  {
   "cell_type": "code",
   "execution_count": 4,
   "metadata": {},
   "outputs": [],
   "source": [
    "g = lr.kneighbors(X, 4)\n"
   ]
  },
  {
   "cell_type": "code",
   "execution_count": null,
   "metadata": {},
   "outputs": [],
   "source": []
  }
 ],
 "metadata": {
  "kernelspec": {
   "display_name": "Python 3",
   "language": "python",
   "name": "python3"
  },
  "language_info": {
   "codemirror_mode": {
    "name": "ipython",
    "version": 3
   },
   "file_extension": ".py",
   "mimetype": "text/x-python",
   "name": "python",
   "nbconvert_exporter": "python",
   "pygments_lexer": "ipython3",
   "version": "3.6.6"
  }
 },
 "nbformat": 4,
 "nbformat_minor": 2
}
