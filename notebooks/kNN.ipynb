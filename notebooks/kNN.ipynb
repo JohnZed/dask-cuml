{
 "cells": [
  {
   "cell_type": "markdown",
   "metadata": {},
   "source": [
    "# Dask cuML - kNN End-to-end \n",
    "\n",
    "This notebook assumes the following prerequisites:\n",
    "- Installed a cuda-aware MPI \n",
    "- Installed / built mpi4py with the exact same openmpi library\n",
    "\n",
    "\n",
    "Once the prerequisites above have been done:\n",
    "- run a dask scheduler using `dask-scheduler --scheduler-file=\"cluster.json\"` __NOTE:__ This will create the file `cluster.json` in the current directory so that you don't need to manually keep track of ports when running workers and clients. \n",
    "- run a set of workers using `mpirun --mca pml ob1 --mca osc ^ucx -np 2 dask-mpi --no-nanny --no-scheduler --nthreads 1 --memory-limit 3000000000 --scheduler-file cluster.json` \n",
    "\n",
    "__NOTE:__ Currently, `dask-mpi` does not provide a way to specify custom environment variables when starting the workers. This means we need to set `CUDA_VISIBLE_DEVICES` after the fact. The `CUDA_VISIBLE_DEVICES` must be set before any cuda contexts are created (e.g. no cuda-based libraries can be imported.)"
   ]
  },
  {
   "cell_type": "code",
   "execution_count": 17,
   "metadata": {},
   "outputs": [],
   "source": [
    "from dask.distributed import Client"
   ]
  },
  {
   "cell_type": "code",
   "execution_count": 18,
   "metadata": {},
   "outputs": [],
   "source": [
    "# Run this if you are using an MPI-based cluster\n",
    "client = Client(scheduler_file=\"cluster.json\")"
   ]
  },
  {
   "cell_type": "code",
   "execution_count": 19,
   "metadata": {},
   "outputs": [],
   "source": [
    "devs = [0, 1]\n",
    "workers = list(client.has_what().keys())\n",
    "worker_devs = workers[0:min(len(devs), len(workers))]"
   ]
  },
  {
   "cell_type": "code",
   "execution_count": 20,
   "metadata": {},
   "outputs": [],
   "source": [
    "def set_visible(i, n):\n",
    "    import os\n",
    "    all_devices = list(range(n))\n",
    "    vd = \",\".join(map(str, all_devices[i:] + all_devices[:i]))\n",
    "    print(str(vd))\n",
    "    print(\"Selecting Device : \"  + str(i))\n",
    "    os.environ[\"CUDA_VISIBLE_DEVICES\"] = vd\n",
    "    \n",
    "    import numba.cuda\n",
    "    print(\"Cur device: \" + str(numba.cuda.get_current_device().id))\n",
    "    \n",
    "dev_assigned = [client.submit(set_visible, dev, len(devs), workers = [worker]) for dev, worker in zip(devs, worker_devs)]"
   ]
  },
  {
   "cell_type": "code",
   "execution_count": 21,
   "metadata": {},
   "outputs": [],
   "source": [
    "import dask_cudf\n",
    "import cudf\n",
    "import numpy as np\n",
    "\n",
    "from dask_cuml import knn as cumlKNN"
   ]
  },
  {
   "cell_type": "code",
   "execution_count": 22,
   "metadata": {},
   "outputs": [],
   "source": [
    "X = cudf.DataFrame([('a', np.array([0, 1, 2, 3, 4], np.float32)),\n",
    "                    ('b', np.array([5, 6, 7, 7, 8], np.float32))])\n",
    "\n",
    "X_df = dask_cudf.from_cudf(X, chunksize=1).persist()"
   ]
  },
  {
   "cell_type": "code",
   "execution_count": 23,
   "metadata": {},
   "outputs": [
    {
     "name": "stdout",
     "output_type": "stream",
     "text": [
      "KEY TO PART DICT: {\"('from_cudf-4f13a4fb9e3f4624827e0b37059daf15', 0)\": <Future: status: finished, type: DataFrame, key: ('from_cudf-4f13a4fb9e3f4624827e0b37059daf15', 0)>, \"('from_cudf-4f13a4fb9e3f4624827e0b37059daf15', 1)\": <Future: status: finished, type: DataFrame, key: ('from_cudf-4f13a4fb9e3f4624827e0b37059daf15', 1)>, \"('from_cudf-4f13a4fb9e3f4624827e0b37059daf15', 2)\": <Future: status: finished, type: DataFrame, key: ('from_cudf-4f13a4fb9e3f4624827e0b37059daf15', 2)>, \"('from_cudf-4f13a4fb9e3f4624827e0b37059daf15', 3)\": <Future: status: finished, type: DataFrame, key: ('from_cudf-4f13a4fb9e3f4624827e0b37059daf15', 3)>}\n",
      "WHO HAS: {\"('from_cudf-4f13a4fb9e3f4624827e0b37059daf15', 3)\": ('tcp://10.2.166.167:38879',), \"('from_cudf-4f13a4fb9e3f4624827e0b37059daf15', 0)\": ('tcp://10.2.166.167:36567',), \"('from_cudf-4f13a4fb9e3f4624827e0b37059daf15', 2)\": ('tcp://10.2.166.167:36567',), \"('from_cudf-4f13a4fb9e3f4624827e0b37059daf15', 1)\": ('tcp://10.2.166.167:38879',)}\n",
      "WORKER_MAP: [(('10.2.166.167', 38879), <Future: status: finished, type: DataFrame, key: ('from_cudf-4f13a4fb9e3f4624827e0b37059daf15', 3)>), (('10.2.166.167', 36567), <Future: status: finished, type: DataFrame, key: ('from_cudf-4f13a4fb9e3f4624827e0b37059daf15', 0)>), (('10.2.166.167', 36567), <Future: status: finished, type: DataFrame, key: ('from_cudf-4f13a4fb9e3f4624827e0b37059daf15', 2)>), (('10.2.166.167', 38879), <Future: status: finished, type: DataFrame, key: ('from_cudf-4f13a4fb9e3f4624827e0b37059daf15', 1)>)]\n",
      "gpu_futures=[(('10.2.166.167', 38879), <Future: status: finished, type: tuple, key: to_gpu_matrix-9fbb4f34abee806e75f5e77942cbc615>), (('10.2.166.167', 36567), <Future: status: finished, type: tuple, key: to_gpu_matrix-fd681dddf423fb6d11bc4e11351a1ff1>), (('10.2.166.167', 36567), <Future: status: finished, type: tuple, key: to_gpu_matrix-a101949bc493a16e2bc29e1d1e91b9b1>), (('10.2.166.167', 38879), <Future: status: finished, type: tuple, key: to_gpu_matrix-61baa55726fe0d36ca71b8933cfdf815>)]\n",
      "D=2\n",
      "HOST MASTERS: [(('10.2.166.167', 36567), 0)]\n",
      "gpu_futures_for_host=[(('10.2.166.167', 38879), <Future: status: finished, type: tuple, key: to_gpu_matrix-9fbb4f34abee806e75f5e77942cbc615>), (('10.2.166.167', 36567), <Future: status: finished, type: tuple, key: to_gpu_matrix-fd681dddf423fb6d11bc4e11351a1ff1>), (('10.2.166.167', 36567), <Future: status: finished, type: tuple, key: to_gpu_matrix-a101949bc493a16e2bc29e1d1e91b9b1>), (('10.2.166.167', 38879), <Future: status: finished, type: tuple, key: to_gpu_matrix-61baa55726fe0d36ca71b8933cfdf815>)]\n",
      "raw_arrays=[<Future: status: finished, type: tuple, key: to_gpu_matrix-fd681dddf423fb6d11bc4e11351a1ff1>, <Future: status: finished, type: tuple, key: to_gpu_matrix-a101949bc493a16e2bc29e1d1e91b9b1>]\n",
      "WHO HAS: {'set_visible-c3794055d3ed93afafe432134431c64b': ('tcp://10.2.166.167:36567',), 'set_visible-d03d75040ea643c0e374b0cbefffbb99': ('tcp://10.2.166.167:38879',), \"('from_cudf-4f13a4fb9e3f4624827e0b37059daf15', 0)\": ('tcp://10.2.166.167:36567',), \"('from_cudf-4f13a4fb9e3f4624827e0b37059daf15', 3)\": ('tcp://10.2.166.167:38879',), \"('from_cudf-4f13a4fb9e3f4624827e0b37059daf15', 2)\": ('tcp://10.2.166.167:36567',), \"('from_cudf-4f13a4fb9e3f4624827e0b37059daf15', 1)\": ('tcp://10.2.166.167:38879',), 'to_gpu_matrix-9fbb4f34abee806e75f5e77942cbc615': ('tcp://10.2.166.167:38879',), 'to_gpu_matrix-fd681dddf423fb6d11bc4e11351a1ff1': ('tcp://10.2.166.167:36567',), 'to_gpu_matrix-a101949bc493a16e2bc29e1d1e91b9b1': ('tcp://10.2.166.167:36567',), 'to_gpu_matrix-61baa55726fe0d36ca71b8933cfdf815': ('tcp://10.2.166.167:38879',), 'get_ipc_handle-d647c08708459628fbba2a0aa4f0362a': ('tcp://10.2.166.167:38879', 'tcp://10.2.166.167:36567'), 'get_ipc_handle-e5fbac03208d494570abff83f20f2cba': ('tcp://10.2.166.167:38879', 'tcp://10.2.166.167:36567'), '_fit-b4f3cf33d3dfb96d76691e7287f15069': ('tcp://10.2.166.167:36567',)}\n",
      "Terminating IPCs\n",
      "Setting submodels\n"
     ]
    }
   ],
   "source": [
    "lr = cumlKNN.KNN()\n",
    "lr.fit(X_df)"
   ]
  },
  {
   "cell_type": "code",
   "execution_count": 24,
   "metadata": {},
   "outputs": [],
   "source": [
    "g = lr.kneighbors(X, 1)\n"
   ]
  },
  {
   "cell_type": "code",
   "execution_count": 25,
   "metadata": {},
   "outputs": [],
   "source": [
    "worker, f = g"
   ]
  },
  {
   "cell_type": "code",
   "execution_count": 26,
   "metadata": {},
   "outputs": [],
   "source": [
    "D, I, = f.result()"
   ]
  },
  {
   "cell_type": "code",
   "execution_count": 27,
   "metadata": {},
   "outputs": [
    {
     "name": "stdout",
     "output_type": "stream",
     "text": [
      "     0\n",
      "0  0.0\n",
      "1  0.0\n",
      "2  0.0\n",
      "3  1.0\n",
      "4  5.0\n"
     ]
    }
   ],
   "source": [
    "print(str(D))"
   ]
  },
  {
   "cell_type": "code",
   "execution_count": null,
   "metadata": {},
   "outputs": [],
   "source": [
    "print(str(I))"
   ]
  }
 ],
 "metadata": {
  "kernelspec": {
   "display_name": "Python 3",
   "language": "python",
   "name": "python3"
  },
  "language_info": {
   "codemirror_mode": {
    "name": "ipython",
    "version": 3
   },
   "file_extension": ".py",
   "mimetype": "text/x-python",
   "name": "python",
   "nbconvert_exporter": "python",
   "pygments_lexer": "ipython3",
   "version": "3.6.6"
  }
 },
 "nbformat": 4,
 "nbformat_minor": 2
}
