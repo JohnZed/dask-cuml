{
 "cells": [
  {
   "cell_type": "markdown",
   "metadata": {},
   "source": [
    "# Dask cuML - kNN End-to-end \n",
    "\n",
    "This notebook assumes the following prerequisites:\n",
    "- Installed a cuda-aware MPI \n",
    "- Installed / built mpi4py with the exact same openmpi library\n",
    "\n",
    "\n",
    "Once the prerequisites above have been done:\n",
    "- Start a dask scheduler using `dask-scheduler --scheduler-file=\"cluster.json\"` __NOTE:__ This will create the file `cluster.json` in the current directory so that you don't need to manually keep track of ports when running workers and clients. \n",
    "- Start a set of workers using `mpirun --mca pml ob1 --mca osc ^ucx -np 2 dask-mpi --no-nanny --no-scheduler --nthreads 10 --memory-limit 3000000000 --scheduler-file cluster.json` \n",
    "\n",
    "__NOTE:__ Currently, `dask-mpi` does not provide a way to specify custom environment variables when starting the workers. This means we need to set `CUDA_VISIBLE_DEVICES` after the fact. The `CUDA_VISIBLE_DEVICES` must be set before any cuda contexts are created (e.g. no cuda-based libraries can be imported.)"
   ]
  },
  {
   "cell_type": "code",
   "execution_count": 1,
   "metadata": {},
   "outputs": [],
   "source": [
    "from dask.distributed import Client"
   ]
  },
  {
   "cell_type": "code",
   "execution_count": 2,
   "metadata": {},
   "outputs": [],
   "source": [
    "# Run this if you are using an MPI-based cluster\n",
    "client = Client(scheduler_file=\"cluster.json\")"
   ]
  },
  {
   "cell_type": "code",
   "execution_count": 3,
   "metadata": {},
   "outputs": [],
   "source": [
    "devs = [0, 1]\n",
    "workers = list(client.has_what().keys())\n",
    "worker_devs = workers[0:min(len(devs), len(workers))]"
   ]
  },
  {
   "cell_type": "code",
   "execution_count": 4,
   "metadata": {},
   "outputs": [],
   "source": [
    "def set_visible(i, n):\n",
    "    import os\n",
    "    all_devices = list(range(n))\n",
    "    vd = \",\".join(map(str, all_devices[i:] + all_devices[:i]))\n",
    "    print(str(vd))\n",
    "    print(\"Selecting Device : \"  + str(i))\n",
    "    os.environ[\"CUDA_VISIBLE_DEVICES\"] = vd\n",
    "    \n",
    "    import numba.cuda\n",
    "    print(\"Cur device: \" + str(numba.cuda.get_current_device().id))\n",
    "    \n",
    "dev_assigned = [client.submit(set_visible, dev, len(devs), workers = [worker]) for dev, worker in zip(devs, worker_devs)]"
   ]
  },
  {
   "cell_type": "code",
   "execution_count": 5,
   "metadata": {},
   "outputs": [],
   "source": [
    "import dask_cudf\n",
    "import cudf\n",
    "import numpy as np\n",
    "\n",
    "from dask_cuml import knn as cumlKNN"
   ]
  },
  {
   "cell_type": "code",
   "execution_count": 6,
   "metadata": {},
   "outputs": [],
   "source": [
    "X = cudf.DataFrame([('a', np.array([0, 1, 2, 3, 4], np.float32)),\n",
    "                    ('b', np.array([5, 6, 7, 7, 8], np.float32))])\n",
    "\n",
    "X_df = dask_cudf.from_cudf(X, chunksize=1).persist()"
   ]
  },
  {
   "cell_type": "code",
   "execution_count": 7,
   "metadata": {},
   "outputs": [
    {
     "name": "stdout",
     "output_type": "stream",
     "text": [
      "KEY TO PART DICT: {\"('from_cudf-d8909ccb266c4c44b059a1e063348679', 0)\": <Future: status: finished, type: DataFrame, key: ('from_cudf-d8909ccb266c4c44b059a1e063348679', 0)>, \"('from_cudf-d8909ccb266c4c44b059a1e063348679', 1)\": <Future: status: finished, type: DataFrame, key: ('from_cudf-d8909ccb266c4c44b059a1e063348679', 1)>, \"('from_cudf-d8909ccb266c4c44b059a1e063348679', 2)\": <Future: status: finished, type: DataFrame, key: ('from_cudf-d8909ccb266c4c44b059a1e063348679', 2)>, \"('from_cudf-d8909ccb266c4c44b059a1e063348679', 3)\": <Future: status: finished, type: DataFrame, key: ('from_cudf-d8909ccb266c4c44b059a1e063348679', 3)>}\n",
      "WHO HAS: {\"('from_cudf-d8909ccb266c4c44b059a1e063348679', 0)\": ('tcp://10.2.166.167:33051',), \"('from_cudf-d8909ccb266c4c44b059a1e063348679', 2)\": ('tcp://10.2.166.167:33051',), \"('from_cudf-d8909ccb266c4c44b059a1e063348679', 1)\": ('tcp://10.2.166.167:38948',), \"('from_cudf-d8909ccb266c4c44b059a1e063348679', 3)\": ('tcp://10.2.166.167:38948',)}\n",
      "WORKER_MAP: [(('10.2.166.167', 33051), <Future: status: finished, type: DataFrame, key: ('from_cudf-d8909ccb266c4c44b059a1e063348679', 0)>), (('10.2.166.167', 33051), <Future: status: finished, type: DataFrame, key: ('from_cudf-d8909ccb266c4c44b059a1e063348679', 2)>), (('10.2.166.167', 38948), <Future: status: finished, type: DataFrame, key: ('from_cudf-d8909ccb266c4c44b059a1e063348679', 1)>), (('10.2.166.167', 38948), <Future: status: finished, type: DataFrame, key: ('from_cudf-d8909ccb266c4c44b059a1e063348679', 3)>)]\n",
      "gpu_futures=[(('10.2.166.167', 33051), <Future: status: finished, type: tuple, key: to_gpu_matrix-b859d99f1bc1729f1522f212ea296faa>), (('10.2.166.167', 33051), <Future: status: finished, type: tuple, key: to_gpu_matrix-0f13633f2493195d6ad5d8c252a1e463>), (('10.2.166.167', 38948), <Future: status: finished, type: tuple, key: to_gpu_matrix-ea98e4d751c3a80cd55a9b6aeae3377f>), (('10.2.166.167', 38948), <Future: status: finished, type: tuple, key: to_gpu_matrix-3e5e1e1e32a465b3bad62de23c648e45>)]\n",
      "D=2\n",
      "HOST MASTERS: [(('10.2.166.167', 33051), 0)]\n",
      "gpu_futures_for_host=[(('10.2.166.167', 33051), <Future: status: finished, type: tuple, key: to_gpu_matrix-b859d99f1bc1729f1522f212ea296faa>), (('10.2.166.167', 33051), <Future: status: finished, type: tuple, key: to_gpu_matrix-0f13633f2493195d6ad5d8c252a1e463>), (('10.2.166.167', 38948), <Future: status: finished, type: tuple, key: to_gpu_matrix-ea98e4d751c3a80cd55a9b6aeae3377f>), (('10.2.166.167', 38948), <Future: status: finished, type: tuple, key: to_gpu_matrix-3e5e1e1e32a465b3bad62de23c648e45>)]\n",
      "raw_arrays=[<Future: status: finished, type: tuple, key: to_gpu_matrix-b859d99f1bc1729f1522f212ea296faa>, <Future: status: finished, type: tuple, key: to_gpu_matrix-0f13633f2493195d6ad5d8c252a1e463>]\n",
      "WHO HAS: {'set_visible-4857c1972e9521babe0b893da0a2d7c4': ('tcp://10.2.166.167:33051',), 'set_visible-e6121022d7d1e69c7dbff1c6bcbe3152': ('tcp://10.2.166.167:38948',), \"('from_cudf-d8909ccb266c4c44b059a1e063348679', 3)\": ('tcp://10.2.166.167:38948',), \"('from_cudf-d8909ccb266c4c44b059a1e063348679', 0)\": ('tcp://10.2.166.167:33051',), \"('from_cudf-d8909ccb266c4c44b059a1e063348679', 1)\": ('tcp://10.2.166.167:38948',), \"('from_cudf-d8909ccb266c4c44b059a1e063348679', 2)\": ('tcp://10.2.166.167:33051',), 'to_gpu_matrix-b859d99f1bc1729f1522f212ea296faa': ('tcp://10.2.166.167:33051',), 'to_gpu_matrix-0f13633f2493195d6ad5d8c252a1e463': ('tcp://10.2.166.167:33051',), 'to_gpu_matrix-ea98e4d751c3a80cd55a9b6aeae3377f': ('tcp://10.2.166.167:38948',), 'to_gpu_matrix-3e5e1e1e32a465b3bad62de23c648e45': ('tcp://10.2.166.167:38948',), 'get_ipc_handle-e98f30ebe7bdec50806d76abae5e68e1': ('tcp://10.2.166.167:33051', 'tcp://10.2.166.167:38948'), 'get_ipc_handle-eb89d08d5fa33f11e2854a7257582ecc': ('tcp://10.2.166.167:33051', 'tcp://10.2.166.167:38948'), '_fit-0498b2a5dacedf241555545c8942c20e': ('tcp://10.2.166.167:33051',)}\n",
      "Terminating IPCs\n",
      "Setting submodels\n"
     ]
    }
   ],
   "source": [
    "lr = cumlKNN.KNN()\n",
    "lr.fit(X_df)"
   ]
  },
  {
   "cell_type": "code",
   "execution_count": 8,
   "metadata": {},
   "outputs": [],
   "source": [
    "g = lr.kneighbors(X, 1)\n"
   ]
  },
  {
   "cell_type": "code",
   "execution_count": 9,
   "metadata": {},
   "outputs": [],
   "source": [
    "worker, f = g"
   ]
  },
  {
   "cell_type": "code",
   "execution_count": 10,
   "metadata": {},
   "outputs": [],
   "source": [
    "D, I, = f.result()"
   ]
  },
  {
   "cell_type": "code",
   "execution_count": 11,
   "metadata": {},
   "outputs": [
    {
     "name": "stdout",
     "output_type": "stream",
     "text": [
      "     0\n",
      "0  0.0\n",
      "1  0.0\n",
      "2  0.0\n",
      "3  1.0\n",
      "4  5.0\n"
     ]
    }
   ],
   "source": [
    "print(str(D))"
   ]
  },
  {
   "cell_type": "code",
   "execution_count": 12,
   "metadata": {},
   "outputs": [
    {
     "name": "stdout",
     "output_type": "stream",
     "text": [
      "     0\n",
      "0    4\n",
      "1    2\n",
      "2    3\n",
      "3    3\n",
      "4    3\n"
     ]
    }
   ],
   "source": [
    "print(str(I))"
   ]
  },
  {
   "cell_type": "code",
   "execution_count": null,
   "metadata": {},
   "outputs": [],
   "source": []
  }
 ],
 "metadata": {
  "kernelspec": {
   "display_name": "Python 3",
   "language": "python",
   "name": "python3"
  },
  "language_info": {
   "codemirror_mode": {
    "name": "ipython",
    "version": 3
   },
   "file_extension": ".py",
   "mimetype": "text/x-python",
   "name": "python",
   "nbconvert_exporter": "python",
   "pygments_lexer": "ipython3",
   "version": "3.6.6"
  }
 },
 "nbformat": 4,
 "nbformat_minor": 2
}
