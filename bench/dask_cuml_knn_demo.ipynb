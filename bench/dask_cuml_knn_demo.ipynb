{
 "cells": [
  {
   "cell_type": "code",
   "execution_count": 10,
   "metadata": {},
   "outputs": [
    {
     "name": "stderr",
     "output_type": "stream",
     "text": [
      "/share/conda/cuml3/lib/python3.6/site-packages/distributed/bokeh/core.py:57: UserWarning: \n",
      "Port 8787 is already in use. \n",
      "Perhaps you already have a cluster running?\n",
      "Hosting the diagnostics dashboard on a random port instead.\n",
      "  warnings.warn('\\n' + msg)\n"
     ]
    }
   ],
   "source": [
    "from dask_cuda import LocalCUDACluster\n",
    "cluster = LocalCUDACluster(threads_per_worker=1)"
   ]
  },
  {
   "cell_type": "code",
   "execution_count": 11,
   "metadata": {},
   "outputs": [],
   "source": [
    "from dask.distributed import Client, wait\n",
    "import time\n",
    "\n",
    "import dask\n",
    "import dask_cudf\n",
    "import dask.dataframe as dd\n",
    "\n",
    "import pandas as pd\n",
    "\n",
    "import cudf\n",
    "import numpy as np\n",
    "\n",
    "import pandas.testing\n",
    "\n",
    "from dask_cuml import knn as cumlKNN\n"
   ]
  },
  {
   "cell_type": "code",
   "execution_count": 12,
   "metadata": {},
   "outputs": [
    {
     "data": {
      "text/html": [
       "<table style=\"border: 2px solid white;\">\n",
       "<tr>\n",
       "<td style=\"vertical-align: top; border: 0px solid white\">\n",
       "<h3>Client</h3>\n",
       "<ul>\n",
       "  <li><b>Scheduler: </b>tcp://127.0.0.1:38781\n",
       "  <li><b>Dashboard: </b><a href='http://127.0.0.1:43254/status' target='_blank'>http://127.0.0.1:43254/status</a>\n",
       "</ul>\n",
       "</td>\n",
       "<td style=\"vertical-align: top; border: 0px solid white\">\n",
       "<h3>Cluster</h3>\n",
       "<ul>\n",
       "  <li><b>Workers: </b>2</li>\n",
       "  <li><b>Cores: </b>2</li>\n",
       "  <li><b>Memory: </b>50.39 GB</li>\n",
       "</ul>\n",
       "</td>\n",
       "</tr>\n",
       "</table>"
      ],
      "text/plain": [
       "<Client: scheduler='tcp://127.0.0.1:38781' processes=2 cores=2>"
      ]
     },
     "execution_count": 12,
     "metadata": {},
     "output_type": "execute_result"
    }
   ],
   "source": [
    "client = Client(cluster)\n",
    "client"
   ]
  },
  {
   "cell_type": "code",
   "execution_count": 13,
   "metadata": {},
   "outputs": [],
   "source": [
    "def create_df(f, m, n):\n",
    "    X = np.random.rand(m, n)\n",
    "    ret = cudf.DataFrame([(i,X[:,i].astype(np.float32)) for i in range(n)], \n",
    "                        index = cudf.dataframe.RangeIndex(f*m, f*m+m, 1))\n",
    "    \n",
    "    print(str(ret))\n",
    "    return ret\n",
    "\n",
    "def get_meta(df):\n",
    "    ret =  df.iloc[:0]\n",
    "    return ret"
   ]
  },
  {
   "cell_type": "code",
   "execution_count": 14,
   "metadata": {},
   "outputs": [
    {
     "data": {
      "text/plain": [
       "dict_keys(['tcp://127.0.0.1:37433', 'tcp://127.0.0.1:43354'])"
      ]
     },
     "execution_count": 14,
     "metadata": {},
     "output_type": "execute_result"
    }
   ],
   "source": [
    "workers = client.has_what().keys()\n",
    "workers"
   ]
  },
  {
   "cell_type": "code",
   "execution_count": 15,
   "metadata": {},
   "outputs": [],
   "source": [
    "# Per gpu/worker\n",
    "train_m = 500000 \n",
    "train_n = 1000"
   ]
  },
  {
   "cell_type": "code",
   "execution_count": 16,
   "metadata": {},
   "outputs": [],
   "source": [
    "search_m = 10000\n",
    "search_k = 15"
   ]
  },
  {
   "cell_type": "code",
   "execution_count": 17,
   "metadata": {},
   "outputs": [
    {
     "name": "stdout",
     "output_type": "stream",
     "text": [
      "CPU times: user 1.72 s, sys: 272 ms, total: 1.99 s\n",
      "Wall time: 20.6 s\n"
     ]
    }
   ],
   "source": [
    "%%time\n",
    "\n",
    "# Create dfs on each worker (gpu)\n",
    "dfs = [client.submit(create_df, n, train_m, train_n, workers = [worker])\n",
    "       for worker, n in list(zip(workers, list(range(len(workers)))))]\n",
    "\n",
    "# Wait for completion\n",
    "wait(dfs)\n",
    "\n",
    "meta = client.submit(get_meta, dfs[0]).result()"
   ]
  },
  {
   "cell_type": "code",
   "execution_count": 10,
   "metadata": {},
   "outputs": [],
   "source": [
    "lr = cumlKNN.KNN()"
   ]
  },
  {
   "cell_type": "code",
   "execution_count": 11,
   "metadata": {},
   "outputs": [
    {
     "name": "stdout",
     "output_type": "stream",
     "text": [
      "Empty DataFrame\n",
      "Columns: [0, 1, 2, 3, 4, 5, 6, 999]\n",
      "Index: []\n"
     ]
    }
   ],
   "source": [
    "print(str(meta))"
   ]
  },
  {
   "cell_type": "code",
   "execution_count": 12,
   "metadata": {},
   "outputs": [
    {
     "name": "stdout",
     "output_type": "stream",
     "text": [
      "CPU times: user 981 ms, sys: 79.3 ms, total: 1.06 s\n",
      "Wall time: 999 ms\n"
     ]
    }
   ],
   "source": [
    "%%time\n",
    "X_df = dask_cudf.from_delayed(dfs, meta=meta)"
   ]
  },
  {
   "cell_type": "code",
   "execution_count": 14,
   "metadata": {},
   "outputs": [
    {
     "data": {
      "text/plain": [
       "{'create_df-a4f799a633489b66d025a10b8f412b8c': ('tcp://127.0.0.1:45151',),\n",
       " 'create_df-7c2054fd12ffd58770aac694adf2e8c3': ('tcp://127.0.0.1:46074',)}"
      ]
     },
     "execution_count": 14,
     "metadata": {},
     "output_type": "execute_result"
    }
   ],
   "source": [
    "client.who_has()"
   ]
  },
  {
   "cell_type": "code",
   "execution_count": 15,
   "metadata": {},
   "outputs": [
    {
     "name": "stdout",
     "output_type": "stream",
     "text": [
      "CPU times: user 312 ms, sys: 24.5 ms, total: 337 ms\n",
      "Wall time: 1.97 s\n"
     ]
    }
   ],
   "source": [
    "%%time\n",
    "lr.fit(X_df)"
   ]
  },
  {
   "cell_type": "code",
   "execution_count": 9,
   "metadata": {},
   "outputs": [
    {
     "ename": "NameError",
     "evalue": "name 'lr' is not defined",
     "output_type": "error",
     "traceback": [
      "\u001b[0;31m---------------------------------------------------------------------------\u001b[0m",
      "\u001b[0;31mNameError\u001b[0m                                 Traceback (most recent call last)",
      "\u001b[0;32m<timed exec>\u001b[0m in \u001b[0;36m<module>\u001b[0;34m\u001b[0m\n",
      "\u001b[0;31mNameError\u001b[0m: name 'lr' is not defined"
     ]
    }
   ],
   "source": [
    "%%time\n",
    "I, D = lr.kneighbors(X_df[0:100], search_k)"
   ]
  },
  {
   "cell_type": "code",
   "execution_count": 26,
   "metadata": {},
   "outputs": [
    {
     "name": "stdout",
     "output_type": "stream",
     "text": [
      "   0       1       2       3       4       5       6 ...      14\n",
      "0  0  781796  523508  916968  167847   20716  596024 ...  379231\n",
      "1  1  730918   27991  922692  385833  832135  308708 ...  242088\n",
      "2  2  146000  423092  199800  996310  548837  444670 ...  153133\n",
      "3  3  616041  413595   94004  885505  184494  749833 ...  545175\n",
      "4  4   59987  274076  904959   93236  515061  136859 ...  690894\n",
      "5  5   34607  846054  225128  279271  402862  639006 ...  536653\n",
      "6  6  475732  789387   67332  247823  282084  153822 ...  685600\n",
      "7  7  819266  667070  704379   41812  882521  456082 ...  232857\n",
      "8  8  836894  781884  695143  610935  263473   60620 ...  154401\n",
      "9  9   63760  443290  109338  845015  383271  590284 ...  117366\n",
      "[91 more rows]\n",
      "[7 more columns]\n"
     ]
    }
   ],
   "source": [
    "print(str(I.compute()))"
   ]
  },
  {
   "cell_type": "code",
   "execution_count": 27,
   "metadata": {},
   "outputs": [
    {
     "name": "stdout",
     "output_type": "stream",
     "text": [
      "               0          1          2          3          4          5          6 ...         14\n",
      "0   0.0004272461  137.59232  137.84723  137.86157   138.1344   138.3052  138.40436 ...  139.49414\n",
      "1            0.0  139.36816  139.42822   141.5502   141.7684   141.8808  142.28348 ...   143.1145\n",
      "2  0.00012207031  138.09415    138.393  139.39926   139.9206  140.04099  140.26184 ...  141.18582\n",
      "3  0.00079345703  134.95456   137.4346  138.43582  138.63019  138.72491  139.38257 ...  140.39908\n",
      "4  0.00048828125  142.94702   143.2362  143.62723  143.89893  144.63147  144.71918 ...  145.62146\n",
      "5   0.0004272461  140.81964  142.57458  142.69263  142.84949  143.13815  144.00696 ...  144.86786\n",
      "6  0.00024414062  140.68677  140.71603  140.81183  141.55954  141.75519  142.20209 ...  143.61176\n",
      "7            0.0  140.56503  140.74158  141.50775  142.17569  142.33572  142.90872 ...  144.57922\n",
      "8  0.00036621094   138.3765   139.6683  140.63403  140.85495  141.42828  141.44672 ...  142.57455\n",
      "9            0.0  137.32175  138.22049   139.6254  139.65015  140.13818  140.56097 ...  141.48846\n",
      "[91 more rows]\n",
      "[7 more columns]\n"
     ]
    }
   ],
   "source": [
    "print(str(D.compute()))"
   ]
  },
  {
   "cell_type": "code",
   "execution_count": null,
   "metadata": {},
   "outputs": [],
   "source": [
    "a.index[-1]"
   ]
  },
  {
   "cell_type": "code",
   "execution_count": null,
   "metadata": {},
   "outputs": [],
   "source": []
  }
 ],
 "metadata": {
  "kernelspec": {
   "display_name": "Python (cuml3)",
   "language": "python",
   "name": "python3"
  },
  "language_info": {
   "codemirror_mode": {
    "name": "ipython",
    "version": 3
   },
   "file_extension": ".py",
   "mimetype": "text/x-python",
   "name": "python",
   "nbconvert_exporter": "python",
   "pygments_lexer": "ipython3",
   "version": "3.6.6"
  }
 },
 "nbformat": 4,
 "nbformat_minor": 2
}
